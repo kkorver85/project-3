{
 "cells": [
  {
   "cell_type": "markdown",
   "metadata": {},
   "source": [
    "## ML Project"
   ]
  },
  {
   "cell_type": "code",
   "execution_count": 1,
   "metadata": {},
   "outputs": [],
   "source": [
    "import pandas as pd\n",
    "import os\n",
    "import matplotlib.pyplot as plt"
   ]
  },
  {
   "cell_type": "code",
   "execution_count": 2,
   "metadata": {},
   "outputs": [],
   "source": [
    "file = \"aac_shelter_outcomes.csv\""
   ]
  },
  {
   "cell_type": "code",
   "execution_count": 3,
   "metadata": {},
   "outputs": [],
   "source": [
    "df = pd.read_csv(file)"
   ]
  },
  {
   "cell_type": "code",
   "execution_count": 4,
   "metadata": {},
   "outputs": [
    {
     "data": {
      "text/plain": [
       "Dog          44242\n",
       "Cat          29422\n",
       "Other         4249\n",
       "Bird           334\n",
       "Livestock        9\n",
       "Name: animal_type, dtype: int64"
      ]
     },
     "execution_count": 4,
     "metadata": {},
     "output_type": "execute_result"
    }
   ],
   "source": [
    "df['animal_type'].value_counts()"
   ]
  },
  {
   "cell_type": "code",
   "execution_count": 5,
   "metadata": {},
   "outputs": [
    {
     "data": {
      "text/plain": [
       "Index(['age_upon_outcome', 'animal_id', 'animal_type', 'breed', 'color',\n",
       "       'date_of_birth', 'datetime', 'monthyear', 'name', 'outcome_subtype',\n",
       "       'outcome_type', 'sex_upon_outcome'],\n",
       "      dtype='object')"
      ]
     },
     "execution_count": 5,
     "metadata": {},
     "output_type": "execute_result"
    }
   ],
   "source": [
    "df.columns"
   ]
  },
  {
   "cell_type": "code",
   "execution_count": 6,
   "metadata": {},
   "outputs": [],
   "source": [
    "df = df.loc[(df['animal_type'] == 'Dog') | (df['animal_type'] == 'Cat')]"
   ]
  },
  {
   "cell_type": "code",
   "execution_count": 7,
   "metadata": {},
   "outputs": [],
   "source": [
    "dog_df = df.loc[df['animal_type'] == 'Dog']"
   ]
  },
  {
   "cell_type": "code",
   "execution_count": 8,
   "metadata": {},
   "outputs": [
    {
     "data": {
      "text/plain": [
       "1893"
      ]
     },
     "execution_count": 8,
     "metadata": {},
     "output_type": "execute_result"
    }
   ],
   "source": [
    "len(dog_df['breed'].unique())"
   ]
  },
  {
   "cell_type": "code",
   "execution_count": 9,
   "metadata": {},
   "outputs": [],
   "source": [
    "cat_df = df.loc[df['animal_type'] == 'Cat']"
   ]
  },
  {
   "cell_type": "code",
   "execution_count": 10,
   "metadata": {},
   "outputs": [
    {
     "data": {
      "text/plain": [
       "79"
      ]
     },
     "execution_count": 10,
     "metadata": {},
     "output_type": "execute_result"
    }
   ],
   "source": [
    "len(cat_df['breed'].unique())"
   ]
  },
  {
   "cell_type": "code",
   "execution_count": 11,
   "metadata": {},
   "outputs": [],
   "source": [
    "table = pd.pivot_table(dog_df, values='animal_id', index=['breed'], aggfunc='count')\n",
    "table = table.reset_index()\n",
    "table = table.rename(columns={\"animal_id\": \"count\"})\n",
    "table = table.sort_values(by='count', ascending=False)"
   ]
  },
  {
   "cell_type": "code",
   "execution_count": 12,
   "metadata": {},
   "outputs": [
    {
     "data": {
      "text/plain": [
       "['Pit Bull Mix',\n",
       " 'Chihuahua Shorthair Mix',\n",
       " 'Labrador Retriever Mix',\n",
       " 'German Shepherd Mix',\n",
       " 'Australian Cattle Dog Mix',\n",
       " 'Dachshund Mix',\n",
       " 'Boxer Mix',\n",
       " 'Miniature Poodle Mix',\n",
       " 'Border Collie Mix',\n",
       " 'Catahoula Mix']"
      ]
     },
     "execution_count": 12,
     "metadata": {},
     "output_type": "execute_result"
    }
   ],
   "source": [
    "new_table = table.head(10)\n",
    "top_10_breeds = new_table['breed'].to_list()\n",
    "top_10_breeds"
   ]
  },
  {
   "cell_type": "code",
   "execution_count": 13,
   "metadata": {},
   "outputs": [
    {
     "data": {
      "text/plain": [
       "Index(['age_upon_outcome', 'animal_id', 'animal_type', 'breed', 'color',\n",
       "       'date_of_birth', 'datetime', 'monthyear', 'name', 'outcome_subtype',\n",
       "       'outcome_type', 'sex_upon_outcome'],\n",
       "      dtype='object')"
      ]
     },
     "execution_count": 13,
     "metadata": {},
     "output_type": "execute_result"
    }
   ],
   "source": [
    "dog_df.columns"
   ]
  },
  {
   "cell_type": "code",
   "execution_count": 14,
   "metadata": {},
   "outputs": [
    {
     "data": {
      "text/plain": [
       "Partner                9516\n",
       "Foster                 2162\n",
       "Suffering               684\n",
       "Aggressive              501\n",
       "Offsite                 254\n",
       "Behavior                142\n",
       "In Kennel                87\n",
       "Rabies Risk              85\n",
       "Medical                  60\n",
       "At Vet                   23\n",
       "In Foster                23\n",
       "Court/Investigation      18\n",
       "In Surgery                7\n",
       "Possible Theft            7\n",
       "Enroute                   4\n",
       "Barn                      1\n",
       "Snr                       1\n",
       "Name: outcome_subtype, dtype: int64"
      ]
     },
     "execution_count": 14,
     "metadata": {},
     "output_type": "execute_result"
    }
   ],
   "source": [
    "dog_df['outcome_subtype'].value_counts()"
   ]
  },
  {
   "cell_type": "code",
   "execution_count": 15,
   "metadata": {},
   "outputs": [
    {
     "data": {
      "text/html": [
       "<div>\n",
       "<style scoped>\n",
       "    .dataframe tbody tr th:only-of-type {\n",
       "        vertical-align: middle;\n",
       "    }\n",
       "\n",
       "    .dataframe tbody tr th {\n",
       "        vertical-align: top;\n",
       "    }\n",
       "\n",
       "    .dataframe thead th {\n",
       "        text-align: right;\n",
       "    }\n",
       "</style>\n",
       "<table border=\"1\" class=\"dataframe\">\n",
       "  <thead>\n",
       "    <tr style=\"text-align: right;\">\n",
       "      <th></th>\n",
       "      <th>age_upon_outcome</th>\n",
       "      <th>animal_id</th>\n",
       "      <th>animal_type</th>\n",
       "      <th>breed</th>\n",
       "      <th>color</th>\n",
       "      <th>date_of_birth</th>\n",
       "      <th>datetime</th>\n",
       "      <th>monthyear</th>\n",
       "      <th>name</th>\n",
       "      <th>outcome_subtype</th>\n",
       "      <th>outcome_type</th>\n",
       "      <th>sex_upon_outcome</th>\n",
       "    </tr>\n",
       "  </thead>\n",
       "  <tbody>\n",
       "    <tr>\n",
       "      <td>1</td>\n",
       "      <td>1 year</td>\n",
       "      <td>A666430</td>\n",
       "      <td>Dog</td>\n",
       "      <td>Beagle Mix</td>\n",
       "      <td>White/Brown</td>\n",
       "      <td>2012-11-06T00:00:00</td>\n",
       "      <td>2013-11-07T11:47:00</td>\n",
       "      <td>2013-11-07T11:47:00</td>\n",
       "      <td>Lucy</td>\n",
       "      <td>Partner</td>\n",
       "      <td>Transfer</td>\n",
       "      <td>Spayed Female</td>\n",
       "    </tr>\n",
       "    <tr>\n",
       "      <td>2</td>\n",
       "      <td>1 year</td>\n",
       "      <td>A675708</td>\n",
       "      <td>Dog</td>\n",
       "      <td>Pit Bull</td>\n",
       "      <td>Blue/White</td>\n",
       "      <td>2013-03-31T00:00:00</td>\n",
       "      <td>2014-06-03T14:20:00</td>\n",
       "      <td>2014-06-03T14:20:00</td>\n",
       "      <td>*Johnny</td>\n",
       "      <td>NaN</td>\n",
       "      <td>Adoption</td>\n",
       "      <td>Neutered Male</td>\n",
       "    </tr>\n",
       "    <tr>\n",
       "      <td>3</td>\n",
       "      <td>9 years</td>\n",
       "      <td>A680386</td>\n",
       "      <td>Dog</td>\n",
       "      <td>Miniature Schnauzer Mix</td>\n",
       "      <td>White</td>\n",
       "      <td>2005-06-02T00:00:00</td>\n",
       "      <td>2014-06-15T15:50:00</td>\n",
       "      <td>2014-06-15T15:50:00</td>\n",
       "      <td>Monday</td>\n",
       "      <td>Partner</td>\n",
       "      <td>Transfer</td>\n",
       "      <td>Neutered Male</td>\n",
       "    </tr>\n",
       "    <tr>\n",
       "      <td>5</td>\n",
       "      <td>4 months</td>\n",
       "      <td>A664462</td>\n",
       "      <td>Dog</td>\n",
       "      <td>Leonberger Mix</td>\n",
       "      <td>Brown/White</td>\n",
       "      <td>2013-06-03T00:00:00</td>\n",
       "      <td>2013-10-07T13:06:00</td>\n",
       "      <td>2013-10-07T13:06:00</td>\n",
       "      <td>*Edgar</td>\n",
       "      <td>Partner</td>\n",
       "      <td>Transfer</td>\n",
       "      <td>Intact Male</td>\n",
       "    </tr>\n",
       "    <tr>\n",
       "      <td>7</td>\n",
       "      <td>3 years</td>\n",
       "      <td>A692618</td>\n",
       "      <td>Dog</td>\n",
       "      <td>Chihuahua Shorthair Mix</td>\n",
       "      <td>Brown</td>\n",
       "      <td>2011-11-23T00:00:00</td>\n",
       "      <td>2014-12-08T15:55:00</td>\n",
       "      <td>2014-12-08T15:55:00</td>\n",
       "      <td>*Ella</td>\n",
       "      <td>Partner</td>\n",
       "      <td>Transfer</td>\n",
       "      <td>Spayed Female</td>\n",
       "    </tr>\n",
       "  </tbody>\n",
       "</table>\n",
       "</div>"
      ],
      "text/plain": [
       "  age_upon_outcome animal_id animal_type                    breed  \\\n",
       "1           1 year   A666430         Dog               Beagle Mix   \n",
       "2           1 year   A675708         Dog                 Pit Bull   \n",
       "3          9 years   A680386         Dog  Miniature Schnauzer Mix   \n",
       "5         4 months   A664462         Dog           Leonberger Mix   \n",
       "7          3 years   A692618         Dog  Chihuahua Shorthair Mix   \n",
       "\n",
       "         color        date_of_birth             datetime            monthyear  \\\n",
       "1  White/Brown  2012-11-06T00:00:00  2013-11-07T11:47:00  2013-11-07T11:47:00   \n",
       "2   Blue/White  2013-03-31T00:00:00  2014-06-03T14:20:00  2014-06-03T14:20:00   \n",
       "3        White  2005-06-02T00:00:00  2014-06-15T15:50:00  2014-06-15T15:50:00   \n",
       "5  Brown/White  2013-06-03T00:00:00  2013-10-07T13:06:00  2013-10-07T13:06:00   \n",
       "7        Brown  2011-11-23T00:00:00  2014-12-08T15:55:00  2014-12-08T15:55:00   \n",
       "\n",
       "      name outcome_subtype outcome_type sex_upon_outcome  \n",
       "1     Lucy         Partner     Transfer    Spayed Female  \n",
       "2  *Johnny             NaN     Adoption    Neutered Male  \n",
       "3   Monday         Partner     Transfer    Neutered Male  \n",
       "5   *Edgar         Partner     Transfer      Intact Male  \n",
       "7    *Ella         Partner     Transfer    Spayed Female  "
      ]
     },
     "execution_count": 15,
     "metadata": {},
     "output_type": "execute_result"
    }
   ],
   "source": [
    "dog_df.head()"
   ]
  },
  {
   "cell_type": "code",
   "execution_count": 16,
   "metadata": {},
   "outputs": [
    {
     "name": "stderr",
     "output_type": "stream",
     "text": [
      "/Users/meganl/opt/anaconda3/lib/python3.7/site-packages/ipykernel_launcher.py:1: SettingWithCopyWarning: \n",
      "A value is trying to be set on a copy of a slice from a DataFrame.\n",
      "Try using .loc[row_indexer,col_indexer] = value instead\n",
      "\n",
      "See the caveats in the documentation: http://pandas.pydata.org/pandas-docs/stable/user_guide/indexing.html#returning-a-view-versus-a-copy\n",
      "  \"\"\"Entry point for launching an IPython kernel.\n",
      "/Users/meganl/opt/anaconda3/lib/python3.7/site-packages/ipykernel_launcher.py:2: SettingWithCopyWarning: \n",
      "A value is trying to be set on a copy of a slice from a DataFrame.\n",
      "Try using .loc[row_indexer,col_indexer] = value instead\n",
      "\n",
      "See the caveats in the documentation: http://pandas.pydata.org/pandas-docs/stable/user_guide/indexing.html#returning-a-view-versus-a-copy\n",
      "  \n"
     ]
    }
   ],
   "source": [
    "dog_df['date_of_birth'] = dog_df['date_of_birth'].str.split('T', n=1, expand=True)\n",
    "dog_df['datetime'] = dog_df['datetime'].str.split('T', n=1, expand=True)"
   ]
  },
  {
   "cell_type": "code",
   "execution_count": 17,
   "metadata": {},
   "outputs": [
    {
     "data": {
      "text/html": [
       "<div>\n",
       "<style scoped>\n",
       "    .dataframe tbody tr th:only-of-type {\n",
       "        vertical-align: middle;\n",
       "    }\n",
       "\n",
       "    .dataframe tbody tr th {\n",
       "        vertical-align: top;\n",
       "    }\n",
       "\n",
       "    .dataframe thead th {\n",
       "        text-align: right;\n",
       "    }\n",
       "</style>\n",
       "<table border=\"1\" class=\"dataframe\">\n",
       "  <thead>\n",
       "    <tr style=\"text-align: right;\">\n",
       "      <th></th>\n",
       "      <th>age_upon_outcome</th>\n",
       "      <th>animal_id</th>\n",
       "      <th>animal_type</th>\n",
       "      <th>breed</th>\n",
       "      <th>color</th>\n",
       "      <th>date_of_birth</th>\n",
       "      <th>datetime</th>\n",
       "      <th>monthyear</th>\n",
       "      <th>name</th>\n",
       "      <th>outcome_subtype</th>\n",
       "      <th>outcome_type</th>\n",
       "      <th>sex_upon_outcome</th>\n",
       "    </tr>\n",
       "  </thead>\n",
       "  <tbody>\n",
       "    <tr>\n",
       "      <td>1</td>\n",
       "      <td>1 year</td>\n",
       "      <td>A666430</td>\n",
       "      <td>Dog</td>\n",
       "      <td>Beagle Mix</td>\n",
       "      <td>White/Brown</td>\n",
       "      <td>2012-11-06</td>\n",
       "      <td>2013-11-07</td>\n",
       "      <td>2013-11-07T11:47:00</td>\n",
       "      <td>Lucy</td>\n",
       "      <td>Partner</td>\n",
       "      <td>Transfer</td>\n",
       "      <td>Spayed Female</td>\n",
       "    </tr>\n",
       "    <tr>\n",
       "      <td>2</td>\n",
       "      <td>1 year</td>\n",
       "      <td>A675708</td>\n",
       "      <td>Dog</td>\n",
       "      <td>Pit Bull</td>\n",
       "      <td>Blue/White</td>\n",
       "      <td>2013-03-31</td>\n",
       "      <td>2014-06-03</td>\n",
       "      <td>2014-06-03T14:20:00</td>\n",
       "      <td>*Johnny</td>\n",
       "      <td>NaN</td>\n",
       "      <td>Adoption</td>\n",
       "      <td>Neutered Male</td>\n",
       "    </tr>\n",
       "    <tr>\n",
       "      <td>3</td>\n",
       "      <td>9 years</td>\n",
       "      <td>A680386</td>\n",
       "      <td>Dog</td>\n",
       "      <td>Miniature Schnauzer Mix</td>\n",
       "      <td>White</td>\n",
       "      <td>2005-06-02</td>\n",
       "      <td>2014-06-15</td>\n",
       "      <td>2014-06-15T15:50:00</td>\n",
       "      <td>Monday</td>\n",
       "      <td>Partner</td>\n",
       "      <td>Transfer</td>\n",
       "      <td>Neutered Male</td>\n",
       "    </tr>\n",
       "    <tr>\n",
       "      <td>5</td>\n",
       "      <td>4 months</td>\n",
       "      <td>A664462</td>\n",
       "      <td>Dog</td>\n",
       "      <td>Leonberger Mix</td>\n",
       "      <td>Brown/White</td>\n",
       "      <td>2013-06-03</td>\n",
       "      <td>2013-10-07</td>\n",
       "      <td>2013-10-07T13:06:00</td>\n",
       "      <td>*Edgar</td>\n",
       "      <td>Partner</td>\n",
       "      <td>Transfer</td>\n",
       "      <td>Intact Male</td>\n",
       "    </tr>\n",
       "    <tr>\n",
       "      <td>7</td>\n",
       "      <td>3 years</td>\n",
       "      <td>A692618</td>\n",
       "      <td>Dog</td>\n",
       "      <td>Chihuahua Shorthair Mix</td>\n",
       "      <td>Brown</td>\n",
       "      <td>2011-11-23</td>\n",
       "      <td>2014-12-08</td>\n",
       "      <td>2014-12-08T15:55:00</td>\n",
       "      <td>*Ella</td>\n",
       "      <td>Partner</td>\n",
       "      <td>Transfer</td>\n",
       "      <td>Spayed Female</td>\n",
       "    </tr>\n",
       "  </tbody>\n",
       "</table>\n",
       "</div>"
      ],
      "text/plain": [
       "  age_upon_outcome animal_id animal_type                    breed  \\\n",
       "1           1 year   A666430         Dog               Beagle Mix   \n",
       "2           1 year   A675708         Dog                 Pit Bull   \n",
       "3          9 years   A680386         Dog  Miniature Schnauzer Mix   \n",
       "5         4 months   A664462         Dog           Leonberger Mix   \n",
       "7          3 years   A692618         Dog  Chihuahua Shorthair Mix   \n",
       "\n",
       "         color date_of_birth    datetime            monthyear     name  \\\n",
       "1  White/Brown    2012-11-06  2013-11-07  2013-11-07T11:47:00     Lucy   \n",
       "2   Blue/White    2013-03-31  2014-06-03  2014-06-03T14:20:00  *Johnny   \n",
       "3        White    2005-06-02  2014-06-15  2014-06-15T15:50:00   Monday   \n",
       "5  Brown/White    2013-06-03  2013-10-07  2013-10-07T13:06:00   *Edgar   \n",
       "7        Brown    2011-11-23  2014-12-08  2014-12-08T15:55:00    *Ella   \n",
       "\n",
       "  outcome_subtype outcome_type sex_upon_outcome  \n",
       "1         Partner     Transfer    Spayed Female  \n",
       "2             NaN     Adoption    Neutered Male  \n",
       "3         Partner     Transfer    Neutered Male  \n",
       "5         Partner     Transfer      Intact Male  \n",
       "7         Partner     Transfer    Spayed Female  "
      ]
     },
     "execution_count": 17,
     "metadata": {},
     "output_type": "execute_result"
    }
   ],
   "source": [
    "dog_df.head()"
   ]
  },
  {
   "cell_type": "code",
   "execution_count": 18,
   "metadata": {},
   "outputs": [
    {
     "name": "stderr",
     "output_type": "stream",
     "text": [
      "/Users/meganl/opt/anaconda3/lib/python3.7/site-packages/ipykernel_launcher.py:1: SettingWithCopyWarning: \n",
      "A value is trying to be set on a copy of a slice from a DataFrame.\n",
      "Try using .loc[row_indexer,col_indexer] = value instead\n",
      "\n",
      "See the caveats in the documentation: http://pandas.pydata.org/pandas-docs/stable/user_guide/indexing.html#returning-a-view-versus-a-copy\n",
      "  \"\"\"Entry point for launching an IPython kernel.\n",
      "/Users/meganl/opt/anaconda3/lib/python3.7/site-packages/ipykernel_launcher.py:2: SettingWithCopyWarning: \n",
      "A value is trying to be set on a copy of a slice from a DataFrame.\n",
      "Try using .loc[row_indexer,col_indexer] = value instead\n",
      "\n",
      "See the caveats in the documentation: http://pandas.pydata.org/pandas-docs/stable/user_guide/indexing.html#returning-a-view-versus-a-copy\n",
      "  \n"
     ]
    }
   ],
   "source": [
    "dog_df['date_of_birth'] = pd.to_datetime(dog_df['date_of_birth'])\n",
    "dog_df['datetime'] = pd.to_datetime(dog_df['datetime'])"
   ]
  },
  {
   "cell_type": "code",
   "execution_count": 19,
   "metadata": {},
   "outputs": [
    {
     "data": {
      "text/plain": [
       "age_upon_outcome            object\n",
       "animal_id                   object\n",
       "animal_type                 object\n",
       "breed                       object\n",
       "color                       object\n",
       "date_of_birth       datetime64[ns]\n",
       "datetime            datetime64[ns]\n",
       "monthyear                   object\n",
       "name                        object\n",
       "outcome_subtype             object\n",
       "outcome_type                object\n",
       "sex_upon_outcome            object\n",
       "dtype: object"
      ]
     },
     "execution_count": 19,
     "metadata": {},
     "output_type": "execute_result"
    }
   ],
   "source": [
    "dog_df.dtypes"
   ]
  },
  {
   "cell_type": "code",
   "execution_count": 20,
   "metadata": {},
   "outputs": [],
   "source": [
    "from datetime import date\n",
    "# dog_df['age'] = dog_df['datetime'] - dog_df['date_of_birth']"
   ]
  },
  {
   "cell_type": "code",
   "execution_count": 21,
   "metadata": {},
   "outputs": [
    {
     "data": {
      "text/html": [
       "<div>\n",
       "<style scoped>\n",
       "    .dataframe tbody tr th:only-of-type {\n",
       "        vertical-align: middle;\n",
       "    }\n",
       "\n",
       "    .dataframe tbody tr th {\n",
       "        vertical-align: top;\n",
       "    }\n",
       "\n",
       "    .dataframe thead th {\n",
       "        text-align: right;\n",
       "    }\n",
       "</style>\n",
       "<table border=\"1\" class=\"dataframe\">\n",
       "  <thead>\n",
       "    <tr style=\"text-align: right;\">\n",
       "      <th></th>\n",
       "      <th>age_upon_outcome</th>\n",
       "      <th>animal_id</th>\n",
       "      <th>animal_type</th>\n",
       "      <th>breed</th>\n",
       "      <th>color</th>\n",
       "      <th>date_of_birth</th>\n",
       "      <th>datetime</th>\n",
       "      <th>monthyear</th>\n",
       "      <th>name</th>\n",
       "      <th>outcome_subtype</th>\n",
       "      <th>outcome_type</th>\n",
       "      <th>sex_upon_outcome</th>\n",
       "    </tr>\n",
       "  </thead>\n",
       "  <tbody>\n",
       "    <tr>\n",
       "      <td>1</td>\n",
       "      <td>1 year</td>\n",
       "      <td>A666430</td>\n",
       "      <td>Dog</td>\n",
       "      <td>Beagle Mix</td>\n",
       "      <td>White/Brown</td>\n",
       "      <td>2012-11-06</td>\n",
       "      <td>2013-11-07</td>\n",
       "      <td>2013-11-07T11:47:00</td>\n",
       "      <td>Lucy</td>\n",
       "      <td>Partner</td>\n",
       "      <td>Transfer</td>\n",
       "      <td>Spayed Female</td>\n",
       "    </tr>\n",
       "    <tr>\n",
       "      <td>2</td>\n",
       "      <td>1 year</td>\n",
       "      <td>A675708</td>\n",
       "      <td>Dog</td>\n",
       "      <td>Pit Bull</td>\n",
       "      <td>Blue/White</td>\n",
       "      <td>2013-03-31</td>\n",
       "      <td>2014-06-03</td>\n",
       "      <td>2014-06-03T14:20:00</td>\n",
       "      <td>*Johnny</td>\n",
       "      <td>NaN</td>\n",
       "      <td>Adoption</td>\n",
       "      <td>Neutered Male</td>\n",
       "    </tr>\n",
       "    <tr>\n",
       "      <td>3</td>\n",
       "      <td>9 years</td>\n",
       "      <td>A680386</td>\n",
       "      <td>Dog</td>\n",
       "      <td>Miniature Schnauzer Mix</td>\n",
       "      <td>White</td>\n",
       "      <td>2005-06-02</td>\n",
       "      <td>2014-06-15</td>\n",
       "      <td>2014-06-15T15:50:00</td>\n",
       "      <td>Monday</td>\n",
       "      <td>Partner</td>\n",
       "      <td>Transfer</td>\n",
       "      <td>Neutered Male</td>\n",
       "    </tr>\n",
       "    <tr>\n",
       "      <td>5</td>\n",
       "      <td>4 months</td>\n",
       "      <td>A664462</td>\n",
       "      <td>Dog</td>\n",
       "      <td>Leonberger Mix</td>\n",
       "      <td>Brown/White</td>\n",
       "      <td>2013-06-03</td>\n",
       "      <td>2013-10-07</td>\n",
       "      <td>2013-10-07T13:06:00</td>\n",
       "      <td>*Edgar</td>\n",
       "      <td>Partner</td>\n",
       "      <td>Transfer</td>\n",
       "      <td>Intact Male</td>\n",
       "    </tr>\n",
       "    <tr>\n",
       "      <td>7</td>\n",
       "      <td>3 years</td>\n",
       "      <td>A692618</td>\n",
       "      <td>Dog</td>\n",
       "      <td>Chihuahua Shorthair Mix</td>\n",
       "      <td>Brown</td>\n",
       "      <td>2011-11-23</td>\n",
       "      <td>2014-12-08</td>\n",
       "      <td>2014-12-08T15:55:00</td>\n",
       "      <td>*Ella</td>\n",
       "      <td>Partner</td>\n",
       "      <td>Transfer</td>\n",
       "      <td>Spayed Female</td>\n",
       "    </tr>\n",
       "  </tbody>\n",
       "</table>\n",
       "</div>"
      ],
      "text/plain": [
       "  age_upon_outcome animal_id animal_type                    breed  \\\n",
       "1           1 year   A666430         Dog               Beagle Mix   \n",
       "2           1 year   A675708         Dog                 Pit Bull   \n",
       "3          9 years   A680386         Dog  Miniature Schnauzer Mix   \n",
       "5         4 months   A664462         Dog           Leonberger Mix   \n",
       "7          3 years   A692618         Dog  Chihuahua Shorthair Mix   \n",
       "\n",
       "         color date_of_birth   datetime            monthyear     name  \\\n",
       "1  White/Brown    2012-11-06 2013-11-07  2013-11-07T11:47:00     Lucy   \n",
       "2   Blue/White    2013-03-31 2014-06-03  2014-06-03T14:20:00  *Johnny   \n",
       "3        White    2005-06-02 2014-06-15  2014-06-15T15:50:00   Monday   \n",
       "5  Brown/White    2013-06-03 2013-10-07  2013-10-07T13:06:00   *Edgar   \n",
       "7        Brown    2011-11-23 2014-12-08  2014-12-08T15:55:00    *Ella   \n",
       "\n",
       "  outcome_subtype outcome_type sex_upon_outcome  \n",
       "1         Partner     Transfer    Spayed Female  \n",
       "2             NaN     Adoption    Neutered Male  \n",
       "3         Partner     Transfer    Neutered Male  \n",
       "5         Partner     Transfer      Intact Male  \n",
       "7         Partner     Transfer    Spayed Female  "
      ]
     },
     "execution_count": 21,
     "metadata": {},
     "output_type": "execute_result"
    }
   ],
   "source": [
    "dog_df.head()"
   ]
  },
  {
   "cell_type": "code",
   "execution_count": 22,
   "metadata": {},
   "outputs": [
    {
     "name": "stderr",
     "output_type": "stream",
     "text": [
      "/Users/meganl/opt/anaconda3/lib/python3.7/site-packages/ipykernel_launcher.py:2: SettingWithCopyWarning: \n",
      "A value is trying to be set on a copy of a slice from a DataFrame.\n",
      "Try using .loc[row_indexer,col_indexer] = value instead\n",
      "\n",
      "See the caveats in the documentation: http://pandas.pydata.org/pandas-docs/stable/user_guide/indexing.html#returning-a-view-versus-a-copy\n",
      "  \n"
     ]
    }
   ],
   "source": [
    "import numpy as np\n",
    "dog_df['age_months'] = ((dog_df.datetime - dog_df.date_of_birth)/np.timedelta64(1, 'M'))"
   ]
  },
  {
   "cell_type": "code",
   "execution_count": 23,
   "metadata": {},
   "outputs": [
    {
     "data": {
      "text/html": [
       "<div>\n",
       "<style scoped>\n",
       "    .dataframe tbody tr th:only-of-type {\n",
       "        vertical-align: middle;\n",
       "    }\n",
       "\n",
       "    .dataframe tbody tr th {\n",
       "        vertical-align: top;\n",
       "    }\n",
       "\n",
       "    .dataframe thead th {\n",
       "        text-align: right;\n",
       "    }\n",
       "</style>\n",
       "<table border=\"1\" class=\"dataframe\">\n",
       "  <thead>\n",
       "    <tr style=\"text-align: right;\">\n",
       "      <th></th>\n",
       "      <th>age_upon_outcome</th>\n",
       "      <th>animal_id</th>\n",
       "      <th>animal_type</th>\n",
       "      <th>breed</th>\n",
       "      <th>color</th>\n",
       "      <th>date_of_birth</th>\n",
       "      <th>datetime</th>\n",
       "      <th>monthyear</th>\n",
       "      <th>name</th>\n",
       "      <th>outcome_subtype</th>\n",
       "      <th>outcome_type</th>\n",
       "      <th>sex_upon_outcome</th>\n",
       "      <th>age_months</th>\n",
       "    </tr>\n",
       "  </thead>\n",
       "  <tbody>\n",
       "    <tr>\n",
       "      <td>1</td>\n",
       "      <td>1 year</td>\n",
       "      <td>A666430</td>\n",
       "      <td>Dog</td>\n",
       "      <td>Beagle Mix</td>\n",
       "      <td>White/Brown</td>\n",
       "      <td>2012-11-06</td>\n",
       "      <td>2013-11-07</td>\n",
       "      <td>2013-11-07T11:47:00</td>\n",
       "      <td>Lucy</td>\n",
       "      <td>Partner</td>\n",
       "      <td>Transfer</td>\n",
       "      <td>Spayed Female</td>\n",
       "      <td>12.024888</td>\n",
       "    </tr>\n",
       "    <tr>\n",
       "      <td>2</td>\n",
       "      <td>1 year</td>\n",
       "      <td>A675708</td>\n",
       "      <td>Dog</td>\n",
       "      <td>Pit Bull</td>\n",
       "      <td>Blue/White</td>\n",
       "      <td>2013-03-31</td>\n",
       "      <td>2014-06-03</td>\n",
       "      <td>2014-06-03T14:20:00</td>\n",
       "      <td>*Johnny</td>\n",
       "      <td>NaN</td>\n",
       "      <td>Adoption</td>\n",
       "      <td>Neutered Male</td>\n",
       "      <td>14.094745</td>\n",
       "    </tr>\n",
       "    <tr>\n",
       "      <td>3</td>\n",
       "      <td>9 years</td>\n",
       "      <td>A680386</td>\n",
       "      <td>Dog</td>\n",
       "      <td>Miniature Schnauzer Mix</td>\n",
       "      <td>White</td>\n",
       "      <td>2005-06-02</td>\n",
       "      <td>2014-06-15</td>\n",
       "      <td>2014-06-15T15:50:00</td>\n",
       "      <td>Monday</td>\n",
       "      <td>Partner</td>\n",
       "      <td>Transfer</td>\n",
       "      <td>Neutered Male</td>\n",
       "      <td>108.421117</td>\n",
       "    </tr>\n",
       "    <tr>\n",
       "      <td>5</td>\n",
       "      <td>4 months</td>\n",
       "      <td>A664462</td>\n",
       "      <td>Dog</td>\n",
       "      <td>Leonberger Mix</td>\n",
       "      <td>Brown/White</td>\n",
       "      <td>2013-06-03</td>\n",
       "      <td>2013-10-07</td>\n",
       "      <td>2013-10-07T13:06:00</td>\n",
       "      <td>*Edgar</td>\n",
       "      <td>Partner</td>\n",
       "      <td>Transfer</td>\n",
       "      <td>Intact Male</td>\n",
       "      <td>4.139715</td>\n",
       "    </tr>\n",
       "    <tr>\n",
       "      <td>7</td>\n",
       "      <td>3 years</td>\n",
       "      <td>A692618</td>\n",
       "      <td>Dog</td>\n",
       "      <td>Chihuahua Shorthair Mix</td>\n",
       "      <td>Brown</td>\n",
       "      <td>2011-11-23</td>\n",
       "      <td>2014-12-08</td>\n",
       "      <td>2014-12-08T15:55:00</td>\n",
       "      <td>*Ella</td>\n",
       "      <td>Partner</td>\n",
       "      <td>Transfer</td>\n",
       "      <td>Spayed Female</td>\n",
       "      <td>36.501776</td>\n",
       "    </tr>\n",
       "  </tbody>\n",
       "</table>\n",
       "</div>"
      ],
      "text/plain": [
       "  age_upon_outcome animal_id animal_type                    breed  \\\n",
       "1           1 year   A666430         Dog               Beagle Mix   \n",
       "2           1 year   A675708         Dog                 Pit Bull   \n",
       "3          9 years   A680386         Dog  Miniature Schnauzer Mix   \n",
       "5         4 months   A664462         Dog           Leonberger Mix   \n",
       "7          3 years   A692618         Dog  Chihuahua Shorthair Mix   \n",
       "\n",
       "         color date_of_birth   datetime            monthyear     name  \\\n",
       "1  White/Brown    2012-11-06 2013-11-07  2013-11-07T11:47:00     Lucy   \n",
       "2   Blue/White    2013-03-31 2014-06-03  2014-06-03T14:20:00  *Johnny   \n",
       "3        White    2005-06-02 2014-06-15  2014-06-15T15:50:00   Monday   \n",
       "5  Brown/White    2013-06-03 2013-10-07  2013-10-07T13:06:00   *Edgar   \n",
       "7        Brown    2011-11-23 2014-12-08  2014-12-08T15:55:00    *Ella   \n",
       "\n",
       "  outcome_subtype outcome_type sex_upon_outcome  age_months  \n",
       "1         Partner     Transfer    Spayed Female   12.024888  \n",
       "2             NaN     Adoption    Neutered Male   14.094745  \n",
       "3         Partner     Transfer    Neutered Male  108.421117  \n",
       "5         Partner     Transfer      Intact Male    4.139715  \n",
       "7         Partner     Transfer    Spayed Female   36.501776  "
      ]
     },
     "execution_count": 23,
     "metadata": {},
     "output_type": "execute_result"
    }
   ],
   "source": [
    "dog_df.head()"
   ]
  },
  {
   "cell_type": "code",
   "execution_count": 25,
   "metadata": {},
   "outputs": [],
   "source": [
    "dog_df = dog_df.loc[(dog_df['breed']== 'Pit Bull Mix') |\n",
    "                   (dog_df['breed']== 'Chihuahua Shorthair Mix') |\n",
    "                   (dog_df['breed']== 'Labrador Retriever Mix') |\n",
    "                    (dog_df['breed']== 'German Shepherd Mix') |\n",
    "                    (dog_df['breed']== 'Australian Cattle Dog Mix') |\n",
    "                    (dog_df['breed']== 'Dachshund Mix') |\n",
    "                    (dog_df['breed']== 'Boxer Mix') |\n",
    "                    (dog_df['breed']== 'Miniature Poodle Mix') |\n",
    "                    (dog_df['breed']== 'Border Collie Mix') |\n",
    "                    (dog_df['breed']== 'Catahoula Mix')]\n",
    "\n",
    "dog_df = dog_df.loc[(dog_df['sex_upon_outcome'] != 'Unknown')]"
   ]
  },
  {
   "cell_type": "code",
   "execution_count": 26,
   "metadata": {},
   "outputs": [
    {
     "data": {
      "text/plain": [
       "Neutered Male    8935\n",
       "Spayed Female    8011\n",
       "Intact Male      2402\n",
       "Intact Female    2169\n",
       "Name: sex_upon_outcome, dtype: int64"
      ]
     },
     "execution_count": 26,
     "metadata": {},
     "output_type": "execute_result"
    }
   ],
   "source": [
    "dog_df['sex_upon_outcome'].value_counts()"
   ]
  },
  {
   "cell_type": "code",
   "execution_count": 31,
   "metadata": {},
   "outputs": [],
   "source": [
    "new=dog_df['sex_upon_outcome'].str.split(\" \", n=1, expand=True)\n",
    "dog_df[\"gender\"]= new[1] \n",
    "dog_df[\"neutered_intact_spayed\"]=new[0]"
   ]
  },
  {
   "cell_type": "code",
   "execution_count": 32,
   "metadata": {},
   "outputs": [
    {
     "data": {
      "text/html": [
       "<div>\n",
       "<style scoped>\n",
       "    .dataframe tbody tr th:only-of-type {\n",
       "        vertical-align: middle;\n",
       "    }\n",
       "\n",
       "    .dataframe tbody tr th {\n",
       "        vertical-align: top;\n",
       "    }\n",
       "\n",
       "    .dataframe thead th {\n",
       "        text-align: right;\n",
       "    }\n",
       "</style>\n",
       "<table border=\"1\" class=\"dataframe\">\n",
       "  <thead>\n",
       "    <tr style=\"text-align: right;\">\n",
       "      <th></th>\n",
       "      <th>age_upon_outcome</th>\n",
       "      <th>animal_id</th>\n",
       "      <th>animal_type</th>\n",
       "      <th>breed</th>\n",
       "      <th>color</th>\n",
       "      <th>date_of_birth</th>\n",
       "      <th>datetime</th>\n",
       "      <th>monthyear</th>\n",
       "      <th>name</th>\n",
       "      <th>outcome_subtype</th>\n",
       "      <th>outcome_type</th>\n",
       "      <th>sex_upon_outcome</th>\n",
       "      <th>age_months</th>\n",
       "      <th>gender</th>\n",
       "      <th>neutered_intact_spayed</th>\n",
       "    </tr>\n",
       "  </thead>\n",
       "  <tbody>\n",
       "    <tr>\n",
       "      <td>7</td>\n",
       "      <td>3 years</td>\n",
       "      <td>A692618</td>\n",
       "      <td>Dog</td>\n",
       "      <td>Chihuahua Shorthair Mix</td>\n",
       "      <td>Brown</td>\n",
       "      <td>2011-11-23</td>\n",
       "      <td>2014-12-08</td>\n",
       "      <td>2014-12-08T15:55:00</td>\n",
       "      <td>*Ella</td>\n",
       "      <td>Partner</td>\n",
       "      <td>Transfer</td>\n",
       "      <td>Spayed Female</td>\n",
       "      <td>36.501776</td>\n",
       "      <td>Female</td>\n",
       "      <td>Spayed</td>\n",
       "    </tr>\n",
       "    <tr>\n",
       "      <td>14</td>\n",
       "      <td>8 years</td>\n",
       "      <td>A690350</td>\n",
       "      <td>Dog</td>\n",
       "      <td>Labrador Retriever Mix</td>\n",
       "      <td>Black</td>\n",
       "      <td>2006-10-18</td>\n",
       "      <td>2014-10-26</td>\n",
       "      <td>2014-10-26T18:20:00</td>\n",
       "      <td>Shy</td>\n",
       "      <td>NaN</td>\n",
       "      <td>Return to Owner</td>\n",
       "      <td>Neutered Male</td>\n",
       "      <td>96.264810</td>\n",
       "      <td>Male</td>\n",
       "      <td>Neutered</td>\n",
       "    </tr>\n",
       "    <tr>\n",
       "      <td>16</td>\n",
       "      <td>1 year</td>\n",
       "      <td>A674298</td>\n",
       "      <td>Dog</td>\n",
       "      <td>Pit Bull Mix</td>\n",
       "      <td>Brown Brindle/White</td>\n",
       "      <td>2013-03-11</td>\n",
       "      <td>2014-04-16</td>\n",
       "      <td>2014-04-16T12:51:00</td>\n",
       "      <td>*Newt</td>\n",
       "      <td>Partner</td>\n",
       "      <td>Transfer</td>\n",
       "      <td>Neutered Male</td>\n",
       "      <td>13.174809</td>\n",
       "      <td>Male</td>\n",
       "      <td>Neutered</td>\n",
       "    </tr>\n",
       "    <tr>\n",
       "      <td>27</td>\n",
       "      <td>2 months</td>\n",
       "      <td>A667311</td>\n",
       "      <td>Dog</td>\n",
       "      <td>Labrador Retriever Mix</td>\n",
       "      <td>Yellow</td>\n",
       "      <td>2013-09-01</td>\n",
       "      <td>2013-11-19</td>\n",
       "      <td>2013-11-19T18:30:00</td>\n",
       "      <td>Promise</td>\n",
       "      <td>NaN</td>\n",
       "      <td>Adoption</td>\n",
       "      <td>Spayed Female</td>\n",
       "      <td>2.595536</td>\n",
       "      <td>Female</td>\n",
       "      <td>Spayed</td>\n",
       "    </tr>\n",
       "    <tr>\n",
       "      <td>28</td>\n",
       "      <td>4 months</td>\n",
       "      <td>A690699</td>\n",
       "      <td>Dog</td>\n",
       "      <td>Chihuahua Shorthair Mix</td>\n",
       "      <td>Blue/Tan</td>\n",
       "      <td>2014-06-17</td>\n",
       "      <td>2014-11-04</td>\n",
       "      <td>2014-11-04T18:03:00</td>\n",
       "      <td>Minnie</td>\n",
       "      <td>Partner</td>\n",
       "      <td>Transfer</td>\n",
       "      <td>Intact Female</td>\n",
       "      <td>4.599684</td>\n",
       "      <td>Female</td>\n",
       "      <td>Intact</td>\n",
       "    </tr>\n",
       "  </tbody>\n",
       "</table>\n",
       "</div>"
      ],
      "text/plain": [
       "   age_upon_outcome animal_id animal_type                    breed  \\\n",
       "7           3 years   A692618         Dog  Chihuahua Shorthair Mix   \n",
       "14          8 years   A690350         Dog   Labrador Retriever Mix   \n",
       "16           1 year   A674298         Dog             Pit Bull Mix   \n",
       "27         2 months   A667311         Dog   Labrador Retriever Mix   \n",
       "28         4 months   A690699         Dog  Chihuahua Shorthair Mix   \n",
       "\n",
       "                  color date_of_birth   datetime            monthyear  \\\n",
       "7                 Brown    2011-11-23 2014-12-08  2014-12-08T15:55:00   \n",
       "14                Black    2006-10-18 2014-10-26  2014-10-26T18:20:00   \n",
       "16  Brown Brindle/White    2013-03-11 2014-04-16  2014-04-16T12:51:00   \n",
       "27               Yellow    2013-09-01 2013-11-19  2013-11-19T18:30:00   \n",
       "28             Blue/Tan    2014-06-17 2014-11-04  2014-11-04T18:03:00   \n",
       "\n",
       "       name outcome_subtype     outcome_type sex_upon_outcome  age_months  \\\n",
       "7     *Ella         Partner         Transfer    Spayed Female   36.501776   \n",
       "14      Shy             NaN  Return to Owner    Neutered Male   96.264810   \n",
       "16    *Newt         Partner         Transfer    Neutered Male   13.174809   \n",
       "27  Promise             NaN         Adoption    Spayed Female    2.595536   \n",
       "28   Minnie         Partner         Transfer    Intact Female    4.599684   \n",
       "\n",
       "    gender neutered_intact_spayed  \n",
       "7   Female                 Spayed  \n",
       "14    Male               Neutered  \n",
       "16    Male               Neutered  \n",
       "27  Female                 Spayed  \n",
       "28  Female                 Intact  "
      ]
     },
     "execution_count": 32,
     "metadata": {},
     "output_type": "execute_result"
    }
   ],
   "source": [
    "dog_df.head()"
   ]
  },
  {
   "cell_type": "code",
   "execution_count": 33,
   "metadata": {},
   "outputs": [
    {
     "name": "stdout",
     "output_type": "stream",
     "text": [
      "Black\n",
      "Black Mix\n",
      "Black Mix\n",
      "Brown\n"
     ]
    }
   ],
   "source": [
    "#function to group colors \n",
    "def color_mapper(color_string):\n",
    "    split_array = color_string.split('/')\n",
    "    first_color = split_array[0]\n",
    "    if (len(split_array) > 1):\n",
    "        first_color_split = first_color.split(' ')\n",
    "        return first_color_split[0] + ' Mix'\n",
    "    else:\n",
    "        first_color_split = first_color.split(' ')\n",
    "        return first_color_split[0]\n",
    "print(color_mapper('Black'))\n",
    "print(color_mapper('Black/Brown'))\n",
    "print(color_mapper('Black Blue/White'))\n",
    "print(color_mapper('Brown Tiger'))"
   ]
  },
  {
   "cell_type": "code",
   "execution_count": 34,
   "metadata": {},
   "outputs": [
    {
     "data": {
      "text/html": [
       "<div>\n",
       "<style scoped>\n",
       "    .dataframe tbody tr th:only-of-type {\n",
       "        vertical-align: middle;\n",
       "    }\n",
       "\n",
       "    .dataframe tbody tr th {\n",
       "        vertical-align: top;\n",
       "    }\n",
       "\n",
       "    .dataframe thead th {\n",
       "        text-align: right;\n",
       "    }\n",
       "</style>\n",
       "<table border=\"1\" class=\"dataframe\">\n",
       "  <thead>\n",
       "    <tr style=\"text-align: right;\">\n",
       "      <th></th>\n",
       "      <th>age_upon_outcome</th>\n",
       "      <th>animal_id</th>\n",
       "      <th>animal_type</th>\n",
       "      <th>breed</th>\n",
       "      <th>color</th>\n",
       "      <th>date_of_birth</th>\n",
       "      <th>datetime</th>\n",
       "      <th>monthyear</th>\n",
       "      <th>name</th>\n",
       "      <th>outcome_subtype</th>\n",
       "      <th>outcome_type</th>\n",
       "      <th>sex_upon_outcome</th>\n",
       "      <th>age_months</th>\n",
       "      <th>gender</th>\n",
       "      <th>neutered_intact_spayed</th>\n",
       "    </tr>\n",
       "  </thead>\n",
       "  <tbody>\n",
       "    <tr>\n",
       "      <td>7</td>\n",
       "      <td>3 years</td>\n",
       "      <td>A692618</td>\n",
       "      <td>Dog</td>\n",
       "      <td>Chihuahua Shorthair Mix</td>\n",
       "      <td>Brown</td>\n",
       "      <td>2011-11-23</td>\n",
       "      <td>2014-12-08</td>\n",
       "      <td>2014-12-08T15:55:00</td>\n",
       "      <td>*Ella</td>\n",
       "      <td>Partner</td>\n",
       "      <td>Transfer</td>\n",
       "      <td>Spayed Female</td>\n",
       "      <td>36.501776</td>\n",
       "      <td>Female</td>\n",
       "      <td>Spayed</td>\n",
       "    </tr>\n",
       "    <tr>\n",
       "      <td>14</td>\n",
       "      <td>8 years</td>\n",
       "      <td>A690350</td>\n",
       "      <td>Dog</td>\n",
       "      <td>Labrador Retriever Mix</td>\n",
       "      <td>Black</td>\n",
       "      <td>2006-10-18</td>\n",
       "      <td>2014-10-26</td>\n",
       "      <td>2014-10-26T18:20:00</td>\n",
       "      <td>Shy</td>\n",
       "      <td>NaN</td>\n",
       "      <td>Return to Owner</td>\n",
       "      <td>Neutered Male</td>\n",
       "      <td>96.264810</td>\n",
       "      <td>Male</td>\n",
       "      <td>Neutered</td>\n",
       "    </tr>\n",
       "    <tr>\n",
       "      <td>16</td>\n",
       "      <td>1 year</td>\n",
       "      <td>A674298</td>\n",
       "      <td>Dog</td>\n",
       "      <td>Pit Bull Mix</td>\n",
       "      <td>Brown Mix</td>\n",
       "      <td>2013-03-11</td>\n",
       "      <td>2014-04-16</td>\n",
       "      <td>2014-04-16T12:51:00</td>\n",
       "      <td>*Newt</td>\n",
       "      <td>Partner</td>\n",
       "      <td>Transfer</td>\n",
       "      <td>Neutered Male</td>\n",
       "      <td>13.174809</td>\n",
       "      <td>Male</td>\n",
       "      <td>Neutered</td>\n",
       "    </tr>\n",
       "    <tr>\n",
       "      <td>27</td>\n",
       "      <td>2 months</td>\n",
       "      <td>A667311</td>\n",
       "      <td>Dog</td>\n",
       "      <td>Labrador Retriever Mix</td>\n",
       "      <td>Yellow</td>\n",
       "      <td>2013-09-01</td>\n",
       "      <td>2013-11-19</td>\n",
       "      <td>2013-11-19T18:30:00</td>\n",
       "      <td>Promise</td>\n",
       "      <td>NaN</td>\n",
       "      <td>Adoption</td>\n",
       "      <td>Spayed Female</td>\n",
       "      <td>2.595536</td>\n",
       "      <td>Female</td>\n",
       "      <td>Spayed</td>\n",
       "    </tr>\n",
       "    <tr>\n",
       "      <td>28</td>\n",
       "      <td>4 months</td>\n",
       "      <td>A690699</td>\n",
       "      <td>Dog</td>\n",
       "      <td>Chihuahua Shorthair Mix</td>\n",
       "      <td>Blue Mix</td>\n",
       "      <td>2014-06-17</td>\n",
       "      <td>2014-11-04</td>\n",
       "      <td>2014-11-04T18:03:00</td>\n",
       "      <td>Minnie</td>\n",
       "      <td>Partner</td>\n",
       "      <td>Transfer</td>\n",
       "      <td>Intact Female</td>\n",
       "      <td>4.599684</td>\n",
       "      <td>Female</td>\n",
       "      <td>Intact</td>\n",
       "    </tr>\n",
       "    <tr>\n",
       "      <td>...</td>\n",
       "      <td>...</td>\n",
       "      <td>...</td>\n",
       "      <td>...</td>\n",
       "      <td>...</td>\n",
       "      <td>...</td>\n",
       "      <td>...</td>\n",
       "      <td>...</td>\n",
       "      <td>...</td>\n",
       "      <td>...</td>\n",
       "      <td>...</td>\n",
       "      <td>...</td>\n",
       "      <td>...</td>\n",
       "      <td>...</td>\n",
       "      <td>...</td>\n",
       "      <td>...</td>\n",
       "    </tr>\n",
       "    <tr>\n",
       "      <td>78246</td>\n",
       "      <td>2 years</td>\n",
       "      <td>A738395</td>\n",
       "      <td>Dog</td>\n",
       "      <td>Chihuahua Shorthair Mix</td>\n",
       "      <td>Black Mix</td>\n",
       "      <td>2015-11-14</td>\n",
       "      <td>2018-02-01</td>\n",
       "      <td>2018-02-01T18:23:00</td>\n",
       "      <td>Maxie</td>\n",
       "      <td>NaN</td>\n",
       "      <td>Adoption</td>\n",
       "      <td>Neutered Male</td>\n",
       "      <td>26.612456</td>\n",
       "      <td>Male</td>\n",
       "      <td>Neutered</td>\n",
       "    </tr>\n",
       "    <tr>\n",
       "      <td>78247</td>\n",
       "      <td>2 years</td>\n",
       "      <td>A761266</td>\n",
       "      <td>Dog</td>\n",
       "      <td>Border Collie Mix</td>\n",
       "      <td>Black Mix</td>\n",
       "      <td>2015-11-01</td>\n",
       "      <td>2018-02-01</td>\n",
       "      <td>2018-02-01T18:32:00</td>\n",
       "      <td>Baily</td>\n",
       "      <td>NaN</td>\n",
       "      <td>Return to Owner</td>\n",
       "      <td>Spayed Female</td>\n",
       "      <td>27.039570</td>\n",
       "      <td>Female</td>\n",
       "      <td>Spayed</td>\n",
       "    </tr>\n",
       "    <tr>\n",
       "      <td>78248</td>\n",
       "      <td>1 year</td>\n",
       "      <td>A725872</td>\n",
       "      <td>Dog</td>\n",
       "      <td>German Shepherd Mix</td>\n",
       "      <td>Tan Mix</td>\n",
       "      <td>2016-02-03</td>\n",
       "      <td>2018-02-01</td>\n",
       "      <td>2018-02-01T18:20:00</td>\n",
       "      <td>Lova</td>\n",
       "      <td>NaN</td>\n",
       "      <td>Return to Owner</td>\n",
       "      <td>Intact Female</td>\n",
       "      <td>23.951210</td>\n",
       "      <td>Female</td>\n",
       "      <td>Intact</td>\n",
       "    </tr>\n",
       "    <tr>\n",
       "      <td>78249</td>\n",
       "      <td>2 years</td>\n",
       "      <td>A761265</td>\n",
       "      <td>Dog</td>\n",
       "      <td>Border Collie Mix</td>\n",
       "      <td>Black Mix</td>\n",
       "      <td>2015-11-01</td>\n",
       "      <td>2018-02-01</td>\n",
       "      <td>2018-02-01T18:31:00</td>\n",
       "      <td>Lucas</td>\n",
       "      <td>NaN</td>\n",
       "      <td>Return to Owner</td>\n",
       "      <td>Neutered Male</td>\n",
       "      <td>27.039570</td>\n",
       "      <td>Male</td>\n",
       "      <td>Neutered</td>\n",
       "    </tr>\n",
       "    <tr>\n",
       "      <td>78255</td>\n",
       "      <td>2 months</td>\n",
       "      <td>A765857</td>\n",
       "      <td>Dog</td>\n",
       "      <td>Labrador Retriever Mix</td>\n",
       "      <td>White Mix</td>\n",
       "      <td>2017-11-13</td>\n",
       "      <td>2018-02-01</td>\n",
       "      <td>2018-02-01T18:44:00</td>\n",
       "      <td>NaN</td>\n",
       "      <td>NaN</td>\n",
       "      <td>Adoption</td>\n",
       "      <td>Neutered Male</td>\n",
       "      <td>2.628391</td>\n",
       "      <td>Male</td>\n",
       "      <td>Neutered</td>\n",
       "    </tr>\n",
       "  </tbody>\n",
       "</table>\n",
       "<p>21518 rows × 15 columns</p>\n",
       "</div>"
      ],
      "text/plain": [
       "      age_upon_outcome animal_id animal_type                    breed  \\\n",
       "7              3 years   A692618         Dog  Chihuahua Shorthair Mix   \n",
       "14             8 years   A690350         Dog   Labrador Retriever Mix   \n",
       "16              1 year   A674298         Dog             Pit Bull Mix   \n",
       "27            2 months   A667311         Dog   Labrador Retriever Mix   \n",
       "28            4 months   A690699         Dog  Chihuahua Shorthair Mix   \n",
       "...                ...       ...         ...                      ...   \n",
       "78246          2 years   A738395         Dog  Chihuahua Shorthair Mix   \n",
       "78247          2 years   A761266         Dog        Border Collie Mix   \n",
       "78248           1 year   A725872         Dog      German Shepherd Mix   \n",
       "78249          2 years   A761265         Dog        Border Collie Mix   \n",
       "78255         2 months   A765857         Dog   Labrador Retriever Mix   \n",
       "\n",
       "           color date_of_birth   datetime            monthyear     name  \\\n",
       "7          Brown    2011-11-23 2014-12-08  2014-12-08T15:55:00    *Ella   \n",
       "14         Black    2006-10-18 2014-10-26  2014-10-26T18:20:00      Shy   \n",
       "16     Brown Mix    2013-03-11 2014-04-16  2014-04-16T12:51:00    *Newt   \n",
       "27        Yellow    2013-09-01 2013-11-19  2013-11-19T18:30:00  Promise   \n",
       "28      Blue Mix    2014-06-17 2014-11-04  2014-11-04T18:03:00   Minnie   \n",
       "...          ...           ...        ...                  ...      ...   \n",
       "78246  Black Mix    2015-11-14 2018-02-01  2018-02-01T18:23:00    Maxie   \n",
       "78247  Black Mix    2015-11-01 2018-02-01  2018-02-01T18:32:00    Baily   \n",
       "78248    Tan Mix    2016-02-03 2018-02-01  2018-02-01T18:20:00     Lova   \n",
       "78249  Black Mix    2015-11-01 2018-02-01  2018-02-01T18:31:00    Lucas   \n",
       "78255  White Mix    2017-11-13 2018-02-01  2018-02-01T18:44:00      NaN   \n",
       "\n",
       "      outcome_subtype     outcome_type sex_upon_outcome  age_months  gender  \\\n",
       "7             Partner         Transfer    Spayed Female   36.501776  Female   \n",
       "14                NaN  Return to Owner    Neutered Male   96.264810    Male   \n",
       "16            Partner         Transfer    Neutered Male   13.174809    Male   \n",
       "27                NaN         Adoption    Spayed Female    2.595536  Female   \n",
       "28            Partner         Transfer    Intact Female    4.599684  Female   \n",
       "...               ...              ...              ...         ...     ...   \n",
       "78246             NaN         Adoption    Neutered Male   26.612456    Male   \n",
       "78247             NaN  Return to Owner    Spayed Female   27.039570  Female   \n",
       "78248             NaN  Return to Owner    Intact Female   23.951210  Female   \n",
       "78249             NaN  Return to Owner    Neutered Male   27.039570    Male   \n",
       "78255             NaN         Adoption    Neutered Male    2.628391    Male   \n",
       "\n",
       "      neutered_intact_spayed  \n",
       "7                     Spayed  \n",
       "14                  Neutered  \n",
       "16                  Neutered  \n",
       "27                    Spayed  \n",
       "28                    Intact  \n",
       "...                      ...  \n",
       "78246               Neutered  \n",
       "78247                 Spayed  \n",
       "78248                 Intact  \n",
       "78249               Neutered  \n",
       "78255               Neutered  \n",
       "\n",
       "[21518 rows x 15 columns]"
      ]
     },
     "execution_count": 34,
     "metadata": {},
     "output_type": "execute_result"
    }
   ],
   "source": [
    "dog_df['color'] = df['color'].apply(color_mapper)\n",
    "dog_df"
   ]
  },
  {
   "cell_type": "code",
   "execution_count": 35,
   "metadata": {},
   "outputs": [
    {
     "data": {
      "text/plain": [
       "36"
      ]
     },
     "execution_count": 35,
     "metadata": {},
     "output_type": "execute_result"
    }
   ],
   "source": [
    "len(dog_df['color'].unique())"
   ]
  },
  {
   "cell_type": "code",
   "execution_count": 37,
   "metadata": {},
   "outputs": [],
   "source": [
    "# dog_df.groupby('color')['breed'].count()"
   ]
  },
  {
   "cell_type": "code",
   "execution_count": 38,
   "metadata": {},
   "outputs": [],
   "source": [
    "color = {'Orange': 'Apricot',\n",
    "         'Liver Mix': 'Brown Mix',\n",
    "         'Liver': 'Brown',\n",
    "         'Buff': 'Brown',\n",
    "         \"Buff Mix\": 'Brown Mix',\n",
    "         \"Cream\": \"Yellow\",\n",
    "         \"Cream Mix\": \"Yellow\",\n",
    "         \"Fawn\": \"Yellow\",\n",
    "         \"Fawn Mix\": \"Yellow Mix\",\n",
    "         \"Gold\": \"Yellow\",\n",
    "         \"Gold Mix\": \"Yellow Mix\",\n",
    "         \"Sable\": 'Brown',\n",
    "         \"Sable Mix\": \"Brown Mix\",\n",
    "         \"Silver Mix\": \"Gray\",\n",
    "         \"Chocolate\": \"Brown\",\n",
    "         \"Chocolate Mix\": \"Brown Mix\"}\n",
    "\n",
    "dog_df['color'] = dog_df['color'].replace(color)"
   ]
  },
  {
   "cell_type": "code",
   "execution_count": 39,
   "metadata": {},
   "outputs": [
    {
     "data": {
      "text/plain": [
       "Black Mix       4397\n",
       "Brown Mix       3463\n",
       "White Mix       2290\n",
       "Brown           2069\n",
       "Tan Mix         1632\n",
       "Black           1527\n",
       "Blue Mix        1129\n",
       "Tan             1065\n",
       "White            859\n",
       "Yellow           707\n",
       "Tricolor         601\n",
       "Red Mix          519\n",
       "Red              457\n",
       "Yellow Mix       343\n",
       "Blue             322\n",
       "Gray Mix          39\n",
       "Tricolor Mix      37\n",
       "Apricot           27\n",
       "Gray              25\n",
       "Apricot Mix       10\n",
       "Name: color, dtype: int64"
      ]
     },
     "execution_count": 39,
     "metadata": {},
     "output_type": "execute_result"
    }
   ],
   "source": [
    "dog_df['color'].value_counts()"
   ]
  },
  {
   "cell_type": "code",
   "execution_count": 40,
   "metadata": {},
   "outputs": [
    {
     "data": {
      "text/plain": [
       "['Yellow',\n",
       " 'Red',\n",
       " 'Tan',\n",
       " 'Tan Mix',\n",
       " 'Blue',\n",
       " 'White Mix',\n",
       " 'Gray Mix',\n",
       " 'Red Mix',\n",
       " 'Apricot Mix',\n",
       " 'Tricolor',\n",
       " 'Brown Mix',\n",
       " 'Yellow Mix',\n",
       " 'Gray',\n",
       " 'Tricolor Mix',\n",
       " 'Black',\n",
       " 'Blue Mix',\n",
       " 'Brown',\n",
       " 'White',\n",
       " 'Apricot',\n",
       " 'Black Mix']"
      ]
     },
     "execution_count": 40,
     "metadata": {},
     "output_type": "execute_result"
    }
   ],
   "source": [
    "#creating color weights\n",
    "color_weights = set(dog_df['color'].array)\n",
    "color_weights = list(color_weights)\n",
    "color_weights"
   ]
  },
  {
   "cell_type": "code",
   "execution_count": 41,
   "metadata": {},
   "outputs": [
    {
     "data": {
      "text/html": [
       "<div>\n",
       "<style scoped>\n",
       "    .dataframe tbody tr th:only-of-type {\n",
       "        vertical-align: middle;\n",
       "    }\n",
       "\n",
       "    .dataframe tbody tr th {\n",
       "        vertical-align: top;\n",
       "    }\n",
       "\n",
       "    .dataframe thead th {\n",
       "        text-align: right;\n",
       "    }\n",
       "</style>\n",
       "<table border=\"1\" class=\"dataframe\">\n",
       "  <thead>\n",
       "    <tr style=\"text-align: right;\">\n",
       "      <th></th>\n",
       "      <th>age_upon_outcome</th>\n",
       "      <th>animal_id</th>\n",
       "      <th>animal_type</th>\n",
       "      <th>breed</th>\n",
       "      <th>color</th>\n",
       "      <th>date_of_birth</th>\n",
       "      <th>datetime</th>\n",
       "      <th>monthyear</th>\n",
       "      <th>name</th>\n",
       "      <th>outcome_subtype</th>\n",
       "      <th>outcome_type</th>\n",
       "      <th>sex_upon_outcome</th>\n",
       "      <th>age_months</th>\n",
       "      <th>gender</th>\n",
       "      <th>neutered_intact_spayed</th>\n",
       "      <th>color_weights</th>\n",
       "    </tr>\n",
       "  </thead>\n",
       "  <tbody>\n",
       "    <tr>\n",
       "      <td>7</td>\n",
       "      <td>3 years</td>\n",
       "      <td>A692618</td>\n",
       "      <td>Dog</td>\n",
       "      <td>Chihuahua Shorthair Mix</td>\n",
       "      <td>Brown</td>\n",
       "      <td>2011-11-23</td>\n",
       "      <td>2014-12-08</td>\n",
       "      <td>2014-12-08T15:55:00</td>\n",
       "      <td>*Ella</td>\n",
       "      <td>Partner</td>\n",
       "      <td>Transfer</td>\n",
       "      <td>Spayed Female</td>\n",
       "      <td>36.501776</td>\n",
       "      <td>Female</td>\n",
       "      <td>Spayed</td>\n",
       "      <td>16</td>\n",
       "    </tr>\n",
       "    <tr>\n",
       "      <td>14</td>\n",
       "      <td>8 years</td>\n",
       "      <td>A690350</td>\n",
       "      <td>Dog</td>\n",
       "      <td>Labrador Retriever Mix</td>\n",
       "      <td>Black</td>\n",
       "      <td>2006-10-18</td>\n",
       "      <td>2014-10-26</td>\n",
       "      <td>2014-10-26T18:20:00</td>\n",
       "      <td>Shy</td>\n",
       "      <td>NaN</td>\n",
       "      <td>Return to Owner</td>\n",
       "      <td>Neutered Male</td>\n",
       "      <td>96.264810</td>\n",
       "      <td>Male</td>\n",
       "      <td>Neutered</td>\n",
       "      <td>14</td>\n",
       "    </tr>\n",
       "    <tr>\n",
       "      <td>16</td>\n",
       "      <td>1 year</td>\n",
       "      <td>A674298</td>\n",
       "      <td>Dog</td>\n",
       "      <td>Pit Bull Mix</td>\n",
       "      <td>Brown Mix</td>\n",
       "      <td>2013-03-11</td>\n",
       "      <td>2014-04-16</td>\n",
       "      <td>2014-04-16T12:51:00</td>\n",
       "      <td>*Newt</td>\n",
       "      <td>Partner</td>\n",
       "      <td>Transfer</td>\n",
       "      <td>Neutered Male</td>\n",
       "      <td>13.174809</td>\n",
       "      <td>Male</td>\n",
       "      <td>Neutered</td>\n",
       "      <td>10</td>\n",
       "    </tr>\n",
       "    <tr>\n",
       "      <td>27</td>\n",
       "      <td>2 months</td>\n",
       "      <td>A667311</td>\n",
       "      <td>Dog</td>\n",
       "      <td>Labrador Retriever Mix</td>\n",
       "      <td>Yellow</td>\n",
       "      <td>2013-09-01</td>\n",
       "      <td>2013-11-19</td>\n",
       "      <td>2013-11-19T18:30:00</td>\n",
       "      <td>Promise</td>\n",
       "      <td>NaN</td>\n",
       "      <td>Adoption</td>\n",
       "      <td>Spayed Female</td>\n",
       "      <td>2.595536</td>\n",
       "      <td>Female</td>\n",
       "      <td>Spayed</td>\n",
       "      <td>0</td>\n",
       "    </tr>\n",
       "    <tr>\n",
       "      <td>28</td>\n",
       "      <td>4 months</td>\n",
       "      <td>A690699</td>\n",
       "      <td>Dog</td>\n",
       "      <td>Chihuahua Shorthair Mix</td>\n",
       "      <td>Blue Mix</td>\n",
       "      <td>2014-06-17</td>\n",
       "      <td>2014-11-04</td>\n",
       "      <td>2014-11-04T18:03:00</td>\n",
       "      <td>Minnie</td>\n",
       "      <td>Partner</td>\n",
       "      <td>Transfer</td>\n",
       "      <td>Intact Female</td>\n",
       "      <td>4.599684</td>\n",
       "      <td>Female</td>\n",
       "      <td>Intact</td>\n",
       "      <td>15</td>\n",
       "    </tr>\n",
       "    <tr>\n",
       "      <td>...</td>\n",
       "      <td>...</td>\n",
       "      <td>...</td>\n",
       "      <td>...</td>\n",
       "      <td>...</td>\n",
       "      <td>...</td>\n",
       "      <td>...</td>\n",
       "      <td>...</td>\n",
       "      <td>...</td>\n",
       "      <td>...</td>\n",
       "      <td>...</td>\n",
       "      <td>...</td>\n",
       "      <td>...</td>\n",
       "      <td>...</td>\n",
       "      <td>...</td>\n",
       "      <td>...</td>\n",
       "      <td>...</td>\n",
       "    </tr>\n",
       "    <tr>\n",
       "      <td>78246</td>\n",
       "      <td>2 years</td>\n",
       "      <td>A738395</td>\n",
       "      <td>Dog</td>\n",
       "      <td>Chihuahua Shorthair Mix</td>\n",
       "      <td>Black Mix</td>\n",
       "      <td>2015-11-14</td>\n",
       "      <td>2018-02-01</td>\n",
       "      <td>2018-02-01T18:23:00</td>\n",
       "      <td>Maxie</td>\n",
       "      <td>NaN</td>\n",
       "      <td>Adoption</td>\n",
       "      <td>Neutered Male</td>\n",
       "      <td>26.612456</td>\n",
       "      <td>Male</td>\n",
       "      <td>Neutered</td>\n",
       "      <td>19</td>\n",
       "    </tr>\n",
       "    <tr>\n",
       "      <td>78247</td>\n",
       "      <td>2 years</td>\n",
       "      <td>A761266</td>\n",
       "      <td>Dog</td>\n",
       "      <td>Border Collie Mix</td>\n",
       "      <td>Black Mix</td>\n",
       "      <td>2015-11-01</td>\n",
       "      <td>2018-02-01</td>\n",
       "      <td>2018-02-01T18:32:00</td>\n",
       "      <td>Baily</td>\n",
       "      <td>NaN</td>\n",
       "      <td>Return to Owner</td>\n",
       "      <td>Spayed Female</td>\n",
       "      <td>27.039570</td>\n",
       "      <td>Female</td>\n",
       "      <td>Spayed</td>\n",
       "      <td>19</td>\n",
       "    </tr>\n",
       "    <tr>\n",
       "      <td>78248</td>\n",
       "      <td>1 year</td>\n",
       "      <td>A725872</td>\n",
       "      <td>Dog</td>\n",
       "      <td>German Shepherd Mix</td>\n",
       "      <td>Tan Mix</td>\n",
       "      <td>2016-02-03</td>\n",
       "      <td>2018-02-01</td>\n",
       "      <td>2018-02-01T18:20:00</td>\n",
       "      <td>Lova</td>\n",
       "      <td>NaN</td>\n",
       "      <td>Return to Owner</td>\n",
       "      <td>Intact Female</td>\n",
       "      <td>23.951210</td>\n",
       "      <td>Female</td>\n",
       "      <td>Intact</td>\n",
       "      <td>3</td>\n",
       "    </tr>\n",
       "    <tr>\n",
       "      <td>78249</td>\n",
       "      <td>2 years</td>\n",
       "      <td>A761265</td>\n",
       "      <td>Dog</td>\n",
       "      <td>Border Collie Mix</td>\n",
       "      <td>Black Mix</td>\n",
       "      <td>2015-11-01</td>\n",
       "      <td>2018-02-01</td>\n",
       "      <td>2018-02-01T18:31:00</td>\n",
       "      <td>Lucas</td>\n",
       "      <td>NaN</td>\n",
       "      <td>Return to Owner</td>\n",
       "      <td>Neutered Male</td>\n",
       "      <td>27.039570</td>\n",
       "      <td>Male</td>\n",
       "      <td>Neutered</td>\n",
       "      <td>19</td>\n",
       "    </tr>\n",
       "    <tr>\n",
       "      <td>78255</td>\n",
       "      <td>2 months</td>\n",
       "      <td>A765857</td>\n",
       "      <td>Dog</td>\n",
       "      <td>Labrador Retriever Mix</td>\n",
       "      <td>White Mix</td>\n",
       "      <td>2017-11-13</td>\n",
       "      <td>2018-02-01</td>\n",
       "      <td>2018-02-01T18:44:00</td>\n",
       "      <td>NaN</td>\n",
       "      <td>NaN</td>\n",
       "      <td>Adoption</td>\n",
       "      <td>Neutered Male</td>\n",
       "      <td>2.628391</td>\n",
       "      <td>Male</td>\n",
       "      <td>Neutered</td>\n",
       "      <td>5</td>\n",
       "    </tr>\n",
       "  </tbody>\n",
       "</table>\n",
       "<p>21518 rows × 16 columns</p>\n",
       "</div>"
      ],
      "text/plain": [
       "      age_upon_outcome animal_id animal_type                    breed  \\\n",
       "7              3 years   A692618         Dog  Chihuahua Shorthair Mix   \n",
       "14             8 years   A690350         Dog   Labrador Retriever Mix   \n",
       "16              1 year   A674298         Dog             Pit Bull Mix   \n",
       "27            2 months   A667311         Dog   Labrador Retriever Mix   \n",
       "28            4 months   A690699         Dog  Chihuahua Shorthair Mix   \n",
       "...                ...       ...         ...                      ...   \n",
       "78246          2 years   A738395         Dog  Chihuahua Shorthair Mix   \n",
       "78247          2 years   A761266         Dog        Border Collie Mix   \n",
       "78248           1 year   A725872         Dog      German Shepherd Mix   \n",
       "78249          2 years   A761265         Dog        Border Collie Mix   \n",
       "78255         2 months   A765857         Dog   Labrador Retriever Mix   \n",
       "\n",
       "           color date_of_birth   datetime            monthyear     name  \\\n",
       "7          Brown    2011-11-23 2014-12-08  2014-12-08T15:55:00    *Ella   \n",
       "14         Black    2006-10-18 2014-10-26  2014-10-26T18:20:00      Shy   \n",
       "16     Brown Mix    2013-03-11 2014-04-16  2014-04-16T12:51:00    *Newt   \n",
       "27        Yellow    2013-09-01 2013-11-19  2013-11-19T18:30:00  Promise   \n",
       "28      Blue Mix    2014-06-17 2014-11-04  2014-11-04T18:03:00   Minnie   \n",
       "...          ...           ...        ...                  ...      ...   \n",
       "78246  Black Mix    2015-11-14 2018-02-01  2018-02-01T18:23:00    Maxie   \n",
       "78247  Black Mix    2015-11-01 2018-02-01  2018-02-01T18:32:00    Baily   \n",
       "78248    Tan Mix    2016-02-03 2018-02-01  2018-02-01T18:20:00     Lova   \n",
       "78249  Black Mix    2015-11-01 2018-02-01  2018-02-01T18:31:00    Lucas   \n",
       "78255  White Mix    2017-11-13 2018-02-01  2018-02-01T18:44:00      NaN   \n",
       "\n",
       "      outcome_subtype     outcome_type sex_upon_outcome  age_months  gender  \\\n",
       "7             Partner         Transfer    Spayed Female   36.501776  Female   \n",
       "14                NaN  Return to Owner    Neutered Male   96.264810    Male   \n",
       "16            Partner         Transfer    Neutered Male   13.174809    Male   \n",
       "27                NaN         Adoption    Spayed Female    2.595536  Female   \n",
       "28            Partner         Transfer    Intact Female    4.599684  Female   \n",
       "...               ...              ...              ...         ...     ...   \n",
       "78246             NaN         Adoption    Neutered Male   26.612456    Male   \n",
       "78247             NaN  Return to Owner    Spayed Female   27.039570  Female   \n",
       "78248             NaN  Return to Owner    Intact Female   23.951210  Female   \n",
       "78249             NaN  Return to Owner    Neutered Male   27.039570    Male   \n",
       "78255             NaN         Adoption    Neutered Male    2.628391    Male   \n",
       "\n",
       "      neutered_intact_spayed  color_weights  \n",
       "7                     Spayed             16  \n",
       "14                  Neutered             14  \n",
       "16                  Neutered             10  \n",
       "27                    Spayed              0  \n",
       "28                    Intact             15  \n",
       "...                      ...            ...  \n",
       "78246               Neutered             19  \n",
       "78247                 Spayed             19  \n",
       "78248                 Intact              3  \n",
       "78249               Neutered             19  \n",
       "78255               Neutered              5  \n",
       "\n",
       "[21518 rows x 16 columns]"
      ]
     },
     "execution_count": 41,
     "metadata": {},
     "output_type": "execute_result"
    }
   ],
   "source": [
    "dog_df['color_weights'] = dog_df['color'].apply(lambda color: color_weights.index(color))\n",
    "dog_df"
   ]
  },
  {
   "cell_type": "code",
   "execution_count": 44,
   "metadata": {},
   "outputs": [
    {
     "data": {
      "text/plain": [
       "Index(['age_upon_outcome', 'animal_id', 'animal_type', 'breed', 'color',\n",
       "       'date_of_birth', 'datetime', 'monthyear', 'name', 'outcome_subtype',\n",
       "       'outcome_type', 'sex_upon_outcome', 'age_months', 'gender',\n",
       "       'neutered_intact_spayed', 'color_weights'],\n",
       "      dtype='object')"
      ]
     },
     "execution_count": 44,
     "metadata": {},
     "output_type": "execute_result"
    }
   ],
   "source": [
    "# dog_df['color_weights'].value_counts()\n",
    "dog_df.columns"
   ]
  },
  {
   "cell_type": "code",
   "execution_count": 45,
   "metadata": {},
   "outputs": [],
   "source": [
    "dog_df = dog_df[['breed', 'color', 'outcome_type', 'age_months', 'gender', \n",
    "                 'neutered_intact_spayed', 'color_weights']]"
   ]
  },
  {
   "cell_type": "code",
   "execution_count": 60,
   "metadata": {},
   "outputs": [],
   "source": [
    "dog_df = dog_df.dropna()"
   ]
  },
  {
   "cell_type": "code",
   "execution_count": 61,
   "metadata": {},
   "outputs": [
    {
     "data": {
      "text/plain": [
       "breed                     21515\n",
       "color                     21515\n",
       "outcome_type              21515\n",
       "age_months                21515\n",
       "gender                    21515\n",
       "neutered_intact_spayed    21515\n",
       "color_weights             21515\n",
       "breed_weights             21515\n",
       "dtype: int64"
      ]
     },
     "execution_count": 61,
     "metadata": {},
     "output_type": "execute_result"
    }
   ],
   "source": [
    "dog_df.count()"
   ]
  },
  {
   "cell_type": "code",
   "execution_count": 62,
   "metadata": {},
   "outputs": [
    {
     "data": {
      "text/plain": [
       "Index(['breed', 'color', 'outcome_type', 'age_months', 'gender',\n",
       "       'neutered_intact_spayed', 'color_weights', 'breed_weights'],\n",
       "      dtype='object')"
      ]
     },
     "execution_count": 62,
     "metadata": {},
     "output_type": "execute_result"
    }
   ],
   "source": [
    "dog_df.columns"
   ]
  },
  {
   "cell_type": "code",
   "execution_count": 63,
   "metadata": {},
   "outputs": [
    {
     "data": {
      "text/plain": [
       "['Catahoula Mix',\n",
       " 'Dachshund Mix',\n",
       " 'Border Collie Mix',\n",
       " 'Pit Bull Mix',\n",
       " 'Boxer Mix',\n",
       " 'Miniature Poodle Mix',\n",
       " 'Australian Cattle Dog Mix',\n",
       " 'Labrador Retriever Mix',\n",
       " 'German Shepherd Mix',\n",
       " 'Chihuahua Shorthair Mix']"
      ]
     },
     "execution_count": 63,
     "metadata": {},
     "output_type": "execute_result"
    }
   ],
   "source": [
    "#breed list\n",
    "breed_list = set(dog_df['breed'].array)\n",
    "breed_list = list(breed_list)\n",
    "breed_list"
   ]
  },
  {
   "cell_type": "code",
   "execution_count": 64,
   "metadata": {},
   "outputs": [
    {
     "data": {
      "text/plain": [
       "3    6113\n",
       "9    4707\n",
       "7    4562\n",
       "8    1878\n",
       "6    1051\n",
       "1     783\n",
       "4     662\n",
       "5     645\n",
       "2     639\n",
       "0     475\n",
       "Name: breed_weights, dtype: int64"
      ]
     },
     "execution_count": 64,
     "metadata": {},
     "output_type": "execute_result"
    }
   ],
   "source": [
    "#create breed weights\n",
    "dog_df['breed_weights'] = dog_df['breed'].apply(lambda breed: breed_list.index(breed))\n",
    "dog_df.head()\n",
    "dog_df['breed_weights'].value_counts()"
   ]
  },
  {
   "cell_type": "code",
   "execution_count": 65,
   "metadata": {},
   "outputs": [
    {
     "data": {
      "text/html": [
       "<div>\n",
       "<style scoped>\n",
       "    .dataframe tbody tr th:only-of-type {\n",
       "        vertical-align: middle;\n",
       "    }\n",
       "\n",
       "    .dataframe tbody tr th {\n",
       "        vertical-align: top;\n",
       "    }\n",
       "\n",
       "    .dataframe thead th {\n",
       "        text-align: right;\n",
       "    }\n",
       "</style>\n",
       "<table border=\"1\" class=\"dataframe\">\n",
       "  <thead>\n",
       "    <tr style=\"text-align: right;\">\n",
       "      <th></th>\n",
       "      <th>breed</th>\n",
       "      <th>color</th>\n",
       "      <th>outcome_type</th>\n",
       "      <th>age_months</th>\n",
       "      <th>gender</th>\n",
       "      <th>neutered_intact_spayed</th>\n",
       "      <th>color_weights</th>\n",
       "      <th>breed_weights</th>\n",
       "    </tr>\n",
       "  </thead>\n",
       "  <tbody>\n",
       "    <tr>\n",
       "      <td>7</td>\n",
       "      <td>Chihuahua Shorthair Mix</td>\n",
       "      <td>Brown</td>\n",
       "      <td>Transfer</td>\n",
       "      <td>36.501776</td>\n",
       "      <td>Female</td>\n",
       "      <td>Spayed</td>\n",
       "      <td>16</td>\n",
       "      <td>9</td>\n",
       "    </tr>\n",
       "    <tr>\n",
       "      <td>14</td>\n",
       "      <td>Labrador Retriever Mix</td>\n",
       "      <td>Black</td>\n",
       "      <td>Return to Owner</td>\n",
       "      <td>96.264810</td>\n",
       "      <td>Male</td>\n",
       "      <td>Neutered</td>\n",
       "      <td>14</td>\n",
       "      <td>7</td>\n",
       "    </tr>\n",
       "    <tr>\n",
       "      <td>16</td>\n",
       "      <td>Pit Bull Mix</td>\n",
       "      <td>Brown Mix</td>\n",
       "      <td>Transfer</td>\n",
       "      <td>13.174809</td>\n",
       "      <td>Male</td>\n",
       "      <td>Neutered</td>\n",
       "      <td>10</td>\n",
       "      <td>3</td>\n",
       "    </tr>\n",
       "    <tr>\n",
       "      <td>27</td>\n",
       "      <td>Labrador Retriever Mix</td>\n",
       "      <td>Yellow</td>\n",
       "      <td>Adoption</td>\n",
       "      <td>2.595536</td>\n",
       "      <td>Female</td>\n",
       "      <td>Spayed</td>\n",
       "      <td>0</td>\n",
       "      <td>7</td>\n",
       "    </tr>\n",
       "    <tr>\n",
       "      <td>28</td>\n",
       "      <td>Chihuahua Shorthair Mix</td>\n",
       "      <td>Blue Mix</td>\n",
       "      <td>Transfer</td>\n",
       "      <td>4.599684</td>\n",
       "      <td>Female</td>\n",
       "      <td>Intact</td>\n",
       "      <td>15</td>\n",
       "      <td>9</td>\n",
       "    </tr>\n",
       "  </tbody>\n",
       "</table>\n",
       "</div>"
      ],
      "text/plain": [
       "                      breed      color     outcome_type  age_months  gender  \\\n",
       "7   Chihuahua Shorthair Mix      Brown         Transfer   36.501776  Female   \n",
       "14   Labrador Retriever Mix      Black  Return to Owner   96.264810    Male   \n",
       "16             Pit Bull Mix  Brown Mix         Transfer   13.174809    Male   \n",
       "27   Labrador Retriever Mix     Yellow         Adoption    2.595536  Female   \n",
       "28  Chihuahua Shorthair Mix   Blue Mix         Transfer    4.599684  Female   \n",
       "\n",
       "   neutered_intact_spayed  color_weights  breed_weights  \n",
       "7                  Spayed             16              9  \n",
       "14               Neutered             14              7  \n",
       "16               Neutered             10              3  \n",
       "27                 Spayed              0              7  \n",
       "28                 Intact             15              9  "
      ]
     },
     "execution_count": 65,
     "metadata": {},
     "output_type": "execute_result"
    }
   ],
   "source": [
    "dog_df.head()"
   ]
  },
  {
   "cell_type": "code",
   "execution_count": 66,
   "metadata": {},
   "outputs": [
    {
     "data": {
      "text/plain": [
       "breed                     21515\n",
       "color                     21515\n",
       "outcome_type              21515\n",
       "age_months                21515\n",
       "gender                    21515\n",
       "neutered_intact_spayed    21515\n",
       "color_weights             21515\n",
       "breed_weights             21515\n",
       "dtype: int64"
      ]
     },
     "execution_count": 66,
     "metadata": {},
     "output_type": "execute_result"
    }
   ],
   "source": [
    "dog_df['outcome_type'].value_counts()\n",
    "dog_df.count()"
   ]
  },
  {
   "cell_type": "code",
   "execution_count": 67,
   "metadata": {},
   "outputs": [
    {
     "data": {
      "text/plain": [
       "Adoption           9778\n",
       "Return to Owner    6248\n",
       "Transfer           4541\n",
       "Euthanasia          860\n",
       "Died                 74\n",
       "Missing              14\n",
       "Name: outcome_type, dtype: int64"
      ]
     },
     "execution_count": 67,
     "metadata": {},
     "output_type": "execute_result"
    }
   ],
   "source": [
    "outcome = {'Rto-Adopt': 'Return to Owner',\n",
    "          'Disposal': 'Died'}\n",
    "dog_df['outcome_type'] = dog_df['outcome_type'].replace(outcome)\n",
    "dog_df['outcome_type'].value_counts()"
   ]
  },
  {
   "cell_type": "code",
   "execution_count": 69,
   "metadata": {},
   "outputs": [
    {
     "data": {
      "text/plain": [
       "1    9778\n",
       "2    6248\n",
       "3    4541\n",
       "5     860\n",
       "0      74\n",
       "4      14\n",
       "Name: outcome_weights, dtype: int64"
      ]
     },
     "execution_count": 69,
     "metadata": {},
     "output_type": "execute_result"
    }
   ],
   "source": [
    "#outcome list\n",
    "outcome = set(dog_df['outcome_type'].array)\n",
    "outcome_list = list(outcome)\n",
    "outcome_list\n",
    "\n",
    "#create outcome weights\n",
    "dog_df['outcome_weights'] = dog_df['outcome_type'].apply(lambda outcome: outcome_list.index(outcome))\n",
    "dog_df.head()\n",
    "dog_df['outcome_weights'].value_counts()"
   ]
  },
  {
   "cell_type": "code",
   "execution_count": 72,
   "metadata": {},
   "outputs": [
    {
     "data": {
      "text/html": [
       "<div>\n",
       "<style scoped>\n",
       "    .dataframe tbody tr th:only-of-type {\n",
       "        vertical-align: middle;\n",
       "    }\n",
       "\n",
       "    .dataframe tbody tr th {\n",
       "        vertical-align: top;\n",
       "    }\n",
       "\n",
       "    .dataframe thead th {\n",
       "        text-align: right;\n",
       "    }\n",
       "</style>\n",
       "<table border=\"1\" class=\"dataframe\">\n",
       "  <thead>\n",
       "    <tr style=\"text-align: right;\">\n",
       "      <th></th>\n",
       "      <th>breed</th>\n",
       "      <th>color</th>\n",
       "      <th>outcome_type</th>\n",
       "      <th>age_months</th>\n",
       "      <th>gender</th>\n",
       "      <th>neutered_intact_spayed</th>\n",
       "      <th>color_weights</th>\n",
       "      <th>breed_weights</th>\n",
       "      <th>outcome_weights</th>\n",
       "      <th>gender_weights</th>\n",
       "    </tr>\n",
       "  </thead>\n",
       "  <tbody>\n",
       "    <tr>\n",
       "      <td>7</td>\n",
       "      <td>Chihuahua Shorthair Mix</td>\n",
       "      <td>Brown</td>\n",
       "      <td>Transfer</td>\n",
       "      <td>36.501776</td>\n",
       "      <td>Female</td>\n",
       "      <td>Spayed</td>\n",
       "      <td>16</td>\n",
       "      <td>9</td>\n",
       "      <td>3</td>\n",
       "      <td>1</td>\n",
       "    </tr>\n",
       "    <tr>\n",
       "      <td>14</td>\n",
       "      <td>Labrador Retriever Mix</td>\n",
       "      <td>Black</td>\n",
       "      <td>Return to Owner</td>\n",
       "      <td>96.264810</td>\n",
       "      <td>Male</td>\n",
       "      <td>Neutered</td>\n",
       "      <td>14</td>\n",
       "      <td>7</td>\n",
       "      <td>2</td>\n",
       "      <td>0</td>\n",
       "    </tr>\n",
       "    <tr>\n",
       "      <td>16</td>\n",
       "      <td>Pit Bull Mix</td>\n",
       "      <td>Brown Mix</td>\n",
       "      <td>Transfer</td>\n",
       "      <td>13.174809</td>\n",
       "      <td>Male</td>\n",
       "      <td>Neutered</td>\n",
       "      <td>10</td>\n",
       "      <td>3</td>\n",
       "      <td>3</td>\n",
       "      <td>0</td>\n",
       "    </tr>\n",
       "    <tr>\n",
       "      <td>27</td>\n",
       "      <td>Labrador Retriever Mix</td>\n",
       "      <td>Yellow</td>\n",
       "      <td>Adoption</td>\n",
       "      <td>2.595536</td>\n",
       "      <td>Female</td>\n",
       "      <td>Spayed</td>\n",
       "      <td>0</td>\n",
       "      <td>7</td>\n",
       "      <td>1</td>\n",
       "      <td>1</td>\n",
       "    </tr>\n",
       "    <tr>\n",
       "      <td>28</td>\n",
       "      <td>Chihuahua Shorthair Mix</td>\n",
       "      <td>Blue Mix</td>\n",
       "      <td>Transfer</td>\n",
       "      <td>4.599684</td>\n",
       "      <td>Female</td>\n",
       "      <td>Intact</td>\n",
       "      <td>15</td>\n",
       "      <td>9</td>\n",
       "      <td>3</td>\n",
       "      <td>1</td>\n",
       "    </tr>\n",
       "  </tbody>\n",
       "</table>\n",
       "</div>"
      ],
      "text/plain": [
       "                      breed      color     outcome_type  age_months  gender  \\\n",
       "7   Chihuahua Shorthair Mix      Brown         Transfer   36.501776  Female   \n",
       "14   Labrador Retriever Mix      Black  Return to Owner   96.264810    Male   \n",
       "16             Pit Bull Mix  Brown Mix         Transfer   13.174809    Male   \n",
       "27   Labrador Retriever Mix     Yellow         Adoption    2.595536  Female   \n",
       "28  Chihuahua Shorthair Mix   Blue Mix         Transfer    4.599684  Female   \n",
       "\n",
       "   neutered_intact_spayed  color_weights  breed_weights  outcome_weights  \\\n",
       "7                  Spayed             16              9                3   \n",
       "14               Neutered             14              7                2   \n",
       "16               Neutered             10              3                3   \n",
       "27                 Spayed              0              7                1   \n",
       "28                 Intact             15              9                3   \n",
       "\n",
       "    gender_weights  \n",
       "7                1  \n",
       "14               0  \n",
       "16               0  \n",
       "27               1  \n",
       "28               1  "
      ]
     },
     "execution_count": 72,
     "metadata": {},
     "output_type": "execute_result"
    }
   ],
   "source": [
    "dog_df.head()"
   ]
  },
  {
   "cell_type": "code",
   "execution_count": 71,
   "metadata": {},
   "outputs": [
    {
     "data": {
      "text/plain": [
       "0    11336\n",
       "1    10179\n",
       "Name: gender_weights, dtype: int64"
      ]
     },
     "execution_count": 71,
     "metadata": {},
     "output_type": "execute_result"
    }
   ],
   "source": [
    "#gender list\n",
    "gender = set(dog_df['gender'].array)\n",
    "gender_list = list(gender)\n",
    "gender_list\n",
    "\n",
    "#create gender weights\n",
    "dog_df['gender_weights'] = dog_df['gender'].apply(lambda gender: gender_list.index(gender))\n",
    "dog_df.head()\n",
    "dog_df['gender_weights'].value_counts()"
   ]
  },
  {
   "cell_type": "code",
   "execution_count": 74,
   "metadata": {},
   "outputs": [
    {
     "data": {
      "text/plain": [
       "0    8935\n",
       "1    8011\n",
       "2    4569\n",
       "Name: neuter_weights, dtype: int64"
      ]
     },
     "execution_count": 74,
     "metadata": {},
     "output_type": "execute_result"
    }
   ],
   "source": [
    "#neutered list\n",
    "neuter = set(dog_df['neutered_intact_spayed'].array)\n",
    "neuter_list = list(neuter)\n",
    "neuter_list\n",
    "\n",
    "#create gender weights\n",
    "dog_df['neuter_weights'] = dog_df['neutered_intact_spayed'].apply(lambda neuter: neuter_list.index(neuter))\n",
    "dog_df.head()\n",
    "dog_df['neuter_weights'].value_counts()"
   ]
  },
  {
   "cell_type": "code",
   "execution_count": 75,
   "metadata": {},
   "outputs": [
    {
     "data": {
      "text/html": [
       "<div>\n",
       "<style scoped>\n",
       "    .dataframe tbody tr th:only-of-type {\n",
       "        vertical-align: middle;\n",
       "    }\n",
       "\n",
       "    .dataframe tbody tr th {\n",
       "        vertical-align: top;\n",
       "    }\n",
       "\n",
       "    .dataframe thead th {\n",
       "        text-align: right;\n",
       "    }\n",
       "</style>\n",
       "<table border=\"1\" class=\"dataframe\">\n",
       "  <thead>\n",
       "    <tr style=\"text-align: right;\">\n",
       "      <th></th>\n",
       "      <th>breed</th>\n",
       "      <th>color</th>\n",
       "      <th>outcome_type</th>\n",
       "      <th>age_months</th>\n",
       "      <th>gender</th>\n",
       "      <th>neutered_intact_spayed</th>\n",
       "      <th>color_weights</th>\n",
       "      <th>breed_weights</th>\n",
       "      <th>outcome_weights</th>\n",
       "      <th>gender_weights</th>\n",
       "      <th>neuter_weights</th>\n",
       "    </tr>\n",
       "  </thead>\n",
       "  <tbody>\n",
       "    <tr>\n",
       "      <td>7</td>\n",
       "      <td>Chihuahua Shorthair Mix</td>\n",
       "      <td>Brown</td>\n",
       "      <td>Transfer</td>\n",
       "      <td>36.501776</td>\n",
       "      <td>Female</td>\n",
       "      <td>Spayed</td>\n",
       "      <td>16</td>\n",
       "      <td>9</td>\n",
       "      <td>3</td>\n",
       "      <td>1</td>\n",
       "      <td>1</td>\n",
       "    </tr>\n",
       "    <tr>\n",
       "      <td>14</td>\n",
       "      <td>Labrador Retriever Mix</td>\n",
       "      <td>Black</td>\n",
       "      <td>Return to Owner</td>\n",
       "      <td>96.264810</td>\n",
       "      <td>Male</td>\n",
       "      <td>Neutered</td>\n",
       "      <td>14</td>\n",
       "      <td>7</td>\n",
       "      <td>2</td>\n",
       "      <td>0</td>\n",
       "      <td>0</td>\n",
       "    </tr>\n",
       "    <tr>\n",
       "      <td>16</td>\n",
       "      <td>Pit Bull Mix</td>\n",
       "      <td>Brown Mix</td>\n",
       "      <td>Transfer</td>\n",
       "      <td>13.174809</td>\n",
       "      <td>Male</td>\n",
       "      <td>Neutered</td>\n",
       "      <td>10</td>\n",
       "      <td>3</td>\n",
       "      <td>3</td>\n",
       "      <td>0</td>\n",
       "      <td>0</td>\n",
       "    </tr>\n",
       "    <tr>\n",
       "      <td>27</td>\n",
       "      <td>Labrador Retriever Mix</td>\n",
       "      <td>Yellow</td>\n",
       "      <td>Adoption</td>\n",
       "      <td>2.595536</td>\n",
       "      <td>Female</td>\n",
       "      <td>Spayed</td>\n",
       "      <td>0</td>\n",
       "      <td>7</td>\n",
       "      <td>1</td>\n",
       "      <td>1</td>\n",
       "      <td>1</td>\n",
       "    </tr>\n",
       "    <tr>\n",
       "      <td>28</td>\n",
       "      <td>Chihuahua Shorthair Mix</td>\n",
       "      <td>Blue Mix</td>\n",
       "      <td>Transfer</td>\n",
       "      <td>4.599684</td>\n",
       "      <td>Female</td>\n",
       "      <td>Intact</td>\n",
       "      <td>15</td>\n",
       "      <td>9</td>\n",
       "      <td>3</td>\n",
       "      <td>1</td>\n",
       "      <td>2</td>\n",
       "    </tr>\n",
       "  </tbody>\n",
       "</table>\n",
       "</div>"
      ],
      "text/plain": [
       "                      breed      color     outcome_type  age_months  gender  \\\n",
       "7   Chihuahua Shorthair Mix      Brown         Transfer   36.501776  Female   \n",
       "14   Labrador Retriever Mix      Black  Return to Owner   96.264810    Male   \n",
       "16             Pit Bull Mix  Brown Mix         Transfer   13.174809    Male   \n",
       "27   Labrador Retriever Mix     Yellow         Adoption    2.595536  Female   \n",
       "28  Chihuahua Shorthair Mix   Blue Mix         Transfer    4.599684  Female   \n",
       "\n",
       "   neutered_intact_spayed  color_weights  breed_weights  outcome_weights  \\\n",
       "7                  Spayed             16              9                3   \n",
       "14               Neutered             14              7                2   \n",
       "16               Neutered             10              3                3   \n",
       "27                 Spayed              0              7                1   \n",
       "28                 Intact             15              9                3   \n",
       "\n",
       "    gender_weights  neuter_weights  \n",
       "7                1               1  \n",
       "14               0               0  \n",
       "16               0               0  \n",
       "27               1               1  \n",
       "28               1               2  "
      ]
     },
     "execution_count": 75,
     "metadata": {},
     "output_type": "execute_result"
    }
   ],
   "source": [
    "dog_df.head()"
   ]
  },
  {
   "cell_type": "code",
   "execution_count": 77,
   "metadata": {},
   "outputs": [
    {
     "data": {
      "text/plain": [
       "Index(['breed', 'color', 'outcome_type', 'age_months', 'gender',\n",
       "       'neutered_intact_spayed', 'color_weights', 'breed_weights',\n",
       "       'outcome_weights', 'gender_weights', 'neuter_weights'],\n",
       "      dtype='object')"
      ]
     },
     "execution_count": 77,
     "metadata": {},
     "output_type": "execute_result"
    }
   ],
   "source": [
    "dog_df.columns"
   ]
  },
  {
   "cell_type": "code",
   "execution_count": 78,
   "metadata": {},
   "outputs": [],
   "source": [
    "final_dog_df = dog_df[['age_months','color_weights', 'breed_weights','outcome_weights', \n",
    "                       'gender_weights', 'neuter_weights']]"
   ]
  },
  {
   "cell_type": "code",
   "execution_count": 79,
   "metadata": {},
   "outputs": [
    {
     "data": {
      "text/html": [
       "<div>\n",
       "<style scoped>\n",
       "    .dataframe tbody tr th:only-of-type {\n",
       "        vertical-align: middle;\n",
       "    }\n",
       "\n",
       "    .dataframe tbody tr th {\n",
       "        vertical-align: top;\n",
       "    }\n",
       "\n",
       "    .dataframe thead th {\n",
       "        text-align: right;\n",
       "    }\n",
       "</style>\n",
       "<table border=\"1\" class=\"dataframe\">\n",
       "  <thead>\n",
       "    <tr style=\"text-align: right;\">\n",
       "      <th></th>\n",
       "      <th>age_months</th>\n",
       "      <th>color_weights</th>\n",
       "      <th>breed_weights</th>\n",
       "      <th>outcome_weights</th>\n",
       "      <th>gender_weights</th>\n",
       "      <th>neuter_weights</th>\n",
       "    </tr>\n",
       "  </thead>\n",
       "  <tbody>\n",
       "    <tr>\n",
       "      <td>7</td>\n",
       "      <td>36.501776</td>\n",
       "      <td>16</td>\n",
       "      <td>9</td>\n",
       "      <td>3</td>\n",
       "      <td>1</td>\n",
       "      <td>1</td>\n",
       "    </tr>\n",
       "    <tr>\n",
       "      <td>14</td>\n",
       "      <td>96.264810</td>\n",
       "      <td>14</td>\n",
       "      <td>7</td>\n",
       "      <td>2</td>\n",
       "      <td>0</td>\n",
       "      <td>0</td>\n",
       "    </tr>\n",
       "    <tr>\n",
       "      <td>16</td>\n",
       "      <td>13.174809</td>\n",
       "      <td>10</td>\n",
       "      <td>3</td>\n",
       "      <td>3</td>\n",
       "      <td>0</td>\n",
       "      <td>0</td>\n",
       "    </tr>\n",
       "    <tr>\n",
       "      <td>27</td>\n",
       "      <td>2.595536</td>\n",
       "      <td>0</td>\n",
       "      <td>7</td>\n",
       "      <td>1</td>\n",
       "      <td>1</td>\n",
       "      <td>1</td>\n",
       "    </tr>\n",
       "    <tr>\n",
       "      <td>28</td>\n",
       "      <td>4.599684</td>\n",
       "      <td>15</td>\n",
       "      <td>9</td>\n",
       "      <td>3</td>\n",
       "      <td>1</td>\n",
       "      <td>2</td>\n",
       "    </tr>\n",
       "  </tbody>\n",
       "</table>\n",
       "</div>"
      ],
      "text/plain": [
       "    age_months  color_weights  breed_weights  outcome_weights  gender_weights  \\\n",
       "7    36.501776             16              9                3               1   \n",
       "14   96.264810             14              7                2               0   \n",
       "16   13.174809             10              3                3               0   \n",
       "27    2.595536              0              7                1               1   \n",
       "28    4.599684             15              9                3               1   \n",
       "\n",
       "    neuter_weights  \n",
       "7                1  \n",
       "14               0  \n",
       "16               0  \n",
       "27               1  \n",
       "28               2  "
      ]
     },
     "execution_count": 79,
     "metadata": {},
     "output_type": "execute_result"
    }
   ],
   "source": [
    "final_dog_df.head()"
   ]
  },
  {
   "cell_type": "code",
   "execution_count": 80,
   "metadata": {},
   "outputs": [
    {
     "data": {
      "text/plain": [
       "age_months         float64\n",
       "color_weights        int64\n",
       "breed_weights        int64\n",
       "outcome_weights      int64\n",
       "gender_weights       int64\n",
       "neuter_weights       int64\n",
       "dtype: object"
      ]
     },
     "execution_count": 80,
     "metadata": {},
     "output_type": "execute_result"
    }
   ],
   "source": [
    "final_dog_df.dtypes"
   ]
  },
  {
   "cell_type": "markdown",
   "metadata": {},
   "source": [
    "## ML"
   ]
  },
  {
   "cell_type": "code",
   "execution_count": 81,
   "metadata": {},
   "outputs": [
    {
     "data": {
      "text/html": [
       "<div>\n",
       "<style scoped>\n",
       "    .dataframe tbody tr th:only-of-type {\n",
       "        vertical-align: middle;\n",
       "    }\n",
       "\n",
       "    .dataframe tbody tr th {\n",
       "        vertical-align: top;\n",
       "    }\n",
       "\n",
       "    .dataframe thead th {\n",
       "        text-align: right;\n",
       "    }\n",
       "</style>\n",
       "<table border=\"1\" class=\"dataframe\">\n",
       "  <thead>\n",
       "    <tr style=\"text-align: right;\">\n",
       "      <th></th>\n",
       "      <th>age_months</th>\n",
       "      <th>color_weights</th>\n",
       "      <th>breed_weights</th>\n",
       "      <th>gender_weights</th>\n",
       "      <th>neuter_weights</th>\n",
       "    </tr>\n",
       "  </thead>\n",
       "  <tbody>\n",
       "    <tr>\n",
       "      <td>7</td>\n",
       "      <td>36.501776</td>\n",
       "      <td>16</td>\n",
       "      <td>9</td>\n",
       "      <td>1</td>\n",
       "      <td>1</td>\n",
       "    </tr>\n",
       "    <tr>\n",
       "      <td>14</td>\n",
       "      <td>96.264810</td>\n",
       "      <td>14</td>\n",
       "      <td>7</td>\n",
       "      <td>0</td>\n",
       "      <td>0</td>\n",
       "    </tr>\n",
       "    <tr>\n",
       "      <td>16</td>\n",
       "      <td>13.174809</td>\n",
       "      <td>10</td>\n",
       "      <td>3</td>\n",
       "      <td>0</td>\n",
       "      <td>0</td>\n",
       "    </tr>\n",
       "    <tr>\n",
       "      <td>27</td>\n",
       "      <td>2.595536</td>\n",
       "      <td>0</td>\n",
       "      <td>7</td>\n",
       "      <td>1</td>\n",
       "      <td>1</td>\n",
       "    </tr>\n",
       "    <tr>\n",
       "      <td>28</td>\n",
       "      <td>4.599684</td>\n",
       "      <td>15</td>\n",
       "      <td>9</td>\n",
       "      <td>1</td>\n",
       "      <td>2</td>\n",
       "    </tr>\n",
       "    <tr>\n",
       "      <td>...</td>\n",
       "      <td>...</td>\n",
       "      <td>...</td>\n",
       "      <td>...</td>\n",
       "      <td>...</td>\n",
       "      <td>...</td>\n",
       "    </tr>\n",
       "    <tr>\n",
       "      <td>78246</td>\n",
       "      <td>26.612456</td>\n",
       "      <td>19</td>\n",
       "      <td>9</td>\n",
       "      <td>0</td>\n",
       "      <td>0</td>\n",
       "    </tr>\n",
       "    <tr>\n",
       "      <td>78247</td>\n",
       "      <td>27.039570</td>\n",
       "      <td>19</td>\n",
       "      <td>2</td>\n",
       "      <td>1</td>\n",
       "      <td>1</td>\n",
       "    </tr>\n",
       "    <tr>\n",
       "      <td>78248</td>\n",
       "      <td>23.951210</td>\n",
       "      <td>3</td>\n",
       "      <td>8</td>\n",
       "      <td>1</td>\n",
       "      <td>2</td>\n",
       "    </tr>\n",
       "    <tr>\n",
       "      <td>78249</td>\n",
       "      <td>27.039570</td>\n",
       "      <td>19</td>\n",
       "      <td>2</td>\n",
       "      <td>0</td>\n",
       "      <td>0</td>\n",
       "    </tr>\n",
       "    <tr>\n",
       "      <td>78255</td>\n",
       "      <td>2.628391</td>\n",
       "      <td>5</td>\n",
       "      <td>7</td>\n",
       "      <td>0</td>\n",
       "      <td>0</td>\n",
       "    </tr>\n",
       "  </tbody>\n",
       "</table>\n",
       "<p>21515 rows × 5 columns</p>\n",
       "</div>"
      ],
      "text/plain": [
       "       age_months  color_weights  breed_weights  gender_weights  \\\n",
       "7       36.501776             16              9               1   \n",
       "14      96.264810             14              7               0   \n",
       "16      13.174809             10              3               0   \n",
       "27       2.595536              0              7               1   \n",
       "28       4.599684             15              9               1   \n",
       "...           ...            ...            ...             ...   \n",
       "78246   26.612456             19              9               0   \n",
       "78247   27.039570             19              2               1   \n",
       "78248   23.951210              3              8               1   \n",
       "78249   27.039570             19              2               0   \n",
       "78255    2.628391              5              7               0   \n",
       "\n",
       "       neuter_weights  \n",
       "7                   1  \n",
       "14                  0  \n",
       "16                  0  \n",
       "27                  1  \n",
       "28                  2  \n",
       "...               ...  \n",
       "78246               0  \n",
       "78247               1  \n",
       "78248               2  \n",
       "78249               0  \n",
       "78255               0  \n",
       "\n",
       "[21515 rows x 5 columns]"
      ]
     },
     "execution_count": 81,
     "metadata": {},
     "output_type": "execute_result"
    }
   ],
   "source": [
    "feature_names = [\"age_months\", 'color_weights', 'breed_weights', 'gender_weights', 'neuter_weights']\n",
    "X = final_dog_df[feature_names]\n",
    "y = final_dog_df['outcome_weights']\n",
    "X"
   ]
  },
  {
   "cell_type": "markdown",
   "metadata": {},
   "source": [
    "## Creating training and test sets"
   ]
  },
  {
   "cell_type": "code",
   "execution_count": 82,
   "metadata": {},
   "outputs": [],
   "source": [
    "from sklearn.model_selection import train_test_split\n",
    "\n",
    "X_train, X_test, y_train, y_test = train_test_split(X, y, random_state=0)"
   ]
  },
  {
   "cell_type": "markdown",
   "metadata": {},
   "source": [
    "## Applying Scaling"
   ]
  },
  {
   "cell_type": "code",
   "execution_count": 83,
   "metadata": {},
   "outputs": [],
   "source": [
    "from sklearn.preprocessing import MinMaxScaler\n",
    "scaler = MinMaxScaler()\n",
    "X_train_scaled = scaler.fit_transform(X_train)\n",
    "X_test_scaled = scaler.transform(X_test)"
   ]
  },
  {
   "cell_type": "markdown",
   "metadata": {},
   "source": [
    "## Build Models"
   ]
  },
  {
   "cell_type": "code",
   "execution_count": 84,
   "metadata": {},
   "outputs": [
    {
     "name": "stdout",
     "output_type": "stream",
     "text": [
      "Accuracy of logistic regression on training 0.5654437283093704\n",
      "Accuracy of logistic regression on testing 0.5718535043688417\n"
     ]
    },
    {
     "name": "stderr",
     "output_type": "stream",
     "text": [
      "/Users/meganl/opt/anaconda3/lib/python3.7/site-packages/sklearn/linear_model/logistic.py:432: FutureWarning: Default solver will be changed to 'lbfgs' in 0.22. Specify a solver to silence this warning.\n",
      "  FutureWarning)\n",
      "/Users/meganl/opt/anaconda3/lib/python3.7/site-packages/sklearn/linear_model/logistic.py:469: FutureWarning: Default multi_class will be changed to 'auto' in 0.22. Specify the multi_class option to silence this warning.\n",
      "  \"this warning.\", FutureWarning)\n"
     ]
    }
   ],
   "source": [
    "## Logistic Regression\n",
    "from sklearn.linear_model import LogisticRegression\n",
    "logreg = LogisticRegression()\n",
    "logreg.fit(X_train_scaled, y_train)\n",
    "\n",
    "print('Accuracy of logistic regression on training', logreg.score(X_train_scaled, y_train))\n",
    "print('Accuracy of logistic regression on testing', logreg.score(X_test_scaled, y_test))"
   ]
  },
  {
   "cell_type": "code",
   "execution_count": 85,
   "metadata": {},
   "outputs": [
    {
     "name": "stdout",
     "output_type": "stream",
     "text": [
      "Accuracy of Decision tree on training 0.9559370352007932\n",
      "Accuracy of Decision tree on testing 0.5268637293177171\n"
     ]
    }
   ],
   "source": [
    "## Decision Tree\n",
    "from sklearn.tree import DecisionTreeClassifier\n",
    "dt = DecisionTreeClassifier()\n",
    "dt.fit(X_train_scaled, y_train)\n",
    "\n",
    "print('Accuracy of Decision tree on training', dt.score(X_train_scaled, y_train))\n",
    "print('Accuracy of Decision tree on testing', dt.score(X_test_scaled, y_test))"
   ]
  },
  {
   "cell_type": "code",
   "execution_count": 86,
   "metadata": {},
   "outputs": [
    {
     "name": "stdout",
     "output_type": "stream",
     "text": [
      "Accuracy of Decision tree on training 0.579387704511651\n",
      "Accuracy of Decision tree on testing 0.5748280349507343\n"
     ]
    }
   ],
   "source": [
    "# Setting max decision tree depth to help avoid overfitting\n",
    "dt2 = DecisionTreeClassifier(max_depth=3)\n",
    "dt2.fit(X_train_scaled, y_train)\n",
    "print('Accuracy of Decision tree on training', dt2.score(X_train_scaled, y_train))\n",
    "print('Accuracy of Decision tree on testing', dt2.score(X_test_scaled, y_test))"
   ]
  },
  {
   "cell_type": "code",
   "execution_count": 87,
   "metadata": {},
   "outputs": [
    {
     "name": "stdout",
     "output_type": "stream",
     "text": [
      "Accuracy of Knn on training 0.6734630639563709\n",
      "Accuracy of Knn on testing 0.5644171779141104\n"
     ]
    }
   ],
   "source": [
    "# K-nearest neighbor \n",
    "from sklearn.neighbors import KNeighborsClassifier\n",
    "knn = KNeighborsClassifier()\n",
    "knn.fit(X_train_scaled, y_train)\n",
    "print('Accuracy of Knn on training', knn.score(X_train_scaled, y_train))\n",
    "print('Accuracy of Knn on testing', knn.score(X_test_scaled, y_test))"
   ]
  },
  {
   "cell_type": "code",
   "execution_count": 90,
   "metadata": {},
   "outputs": [
    {
     "name": "stdout",
     "output_type": "stream",
     "text": [
      "Accuracy of Linear Discriminant on training 0.556271690629648\n",
      "Accuracy of Linear Discriminant on testing 0.5629299126231642\n"
     ]
    }
   ],
   "source": [
    "# Linear Discriminant Analysis \n",
    "from sklearn.discriminant_analysis import LinearDiscriminantAnalysis\n",
    "lda = LinearDiscriminantAnalysis()\n",
    "lda.fit(X_train_scaled,y_train)\n",
    "print('Accuracy of Linear Discriminant on training', lda.score(X_train_scaled, y_train))\n",
    "print('Accuracy of Linear Discriminant on testing', lda.score(X_test_scaled, y_test))"
   ]
  },
  {
   "cell_type": "code",
   "execution_count": 91,
   "metadata": {},
   "outputs": [
    {
     "name": "stdout",
     "output_type": "stream",
     "text": [
      "Accuracy of GNB on training 0.5621591472483887\n",
      "Accuracy of GNB on testing 0.5712957798847369\n"
     ]
    }
   ],
   "source": [
    "# Gaussian Naive Bayes \n",
    "from sklearn.naive_bayes import GaussianNB\n",
    "gnb = GaussianNB()\n",
    "gnb.fit(X_train_scaled, y_train)\n",
    "print('Accuracy of GNB on training', gnb.score(X_train_scaled, y_train))\n",
    "print('Accuracy of GNB on testing', gnb.score(X_test_scaled, y_test))"
   ]
  },
  {
   "cell_type": "code",
   "execution_count": 92,
   "metadata": {},
   "outputs": [
    {
     "name": "stderr",
     "output_type": "stream",
     "text": [
      "/Users/meganl/opt/anaconda3/lib/python3.7/site-packages/sklearn/svm/base.py:193: FutureWarning: The default value of gamma will change from 'auto' to 'scale' in version 0.22 to account better for unscaled features. Set gamma explicitly to 'auto' or 'scale' to avoid this warning.\n",
      "  \"avoid this warning.\", FutureWarning)\n"
     ]
    },
    {
     "name": "stdout",
     "output_type": "stream",
     "text": [
      "Accuracy of SVM on training 0.5619732275656916\n",
      "Accuracy of SVM on testing 0.5623721881390593\n"
     ]
    }
   ],
   "source": [
    "# Support Vector Machine\n",
    "from sklearn.svm import SVC\n",
    "svm = SVC()\n",
    "svm.fit(X_train_scaled, y_train)\n",
    "print('Accuracy of SVM on training', svm.score(X_train_scaled, y_train))\n",
    "print('Accuracy of SVM on testing', svm.score(X_test_scaled, y_test))"
   ]
  },
  {
   "cell_type": "code",
   "execution_count": 93,
   "metadata": {},
   "outputs": [],
   "source": [
    "import pickle\n",
    "pickle.dump(dt2, open('model.pkl','wb'))"
   ]
  },
  {
   "cell_type": "code",
   "execution_count": 103,
   "metadata": {},
   "outputs": [
    {
     "name": "stdout",
     "output_type": "stream",
     "text": [
      "[2]\n"
     ]
    }
   ],
   "source": [
    "model = pickle.load( open('model.pkl','rb'))\n",
    "print(model.predict([[12, 18, 9, 0, 0]]))"
   ]
  },
  {
   "cell_type": "code",
   "execution_count": 96,
   "metadata": {
    "scrolled": true
   },
   "outputs": [
    {
     "data": {
      "text/plain": [
       "DecisionTreeClassifier(class_weight=None, criterion='gini', max_depth=3,\n",
       "                       max_features=None, max_leaf_nodes=None,\n",
       "                       min_impurity_decrease=0.0, min_impurity_split=None,\n",
       "                       min_samples_leaf=1, min_samples_split=2,\n",
       "                       min_weight_fraction_leaf=0.0, presort=False,\n",
       "                       random_state=None, splitter='best')"
      ]
     },
     "execution_count": 96,
     "metadata": {},
     "output_type": "execute_result"
    }
   ],
   "source": [
    "model"
   ]
  },
  {
   "cell_type": "code",
   "execution_count": 132,
   "metadata": {},
   "outputs": [
    {
     "name": "stdout",
     "output_type": "stream",
     "text": [
      " Died: 0 <br>\n",
      " Adoption: 1 <br>\n",
      " Return to Owner: 2 <br>\n",
      " Transfer: 3 <br>\n",
      " Missing: 4 <br>\n",
      " Euthanasia: 5 <br>\n",
      " Catahoula Mix: 0 <br>\n",
      " Dachshund Mix: 1 <br>\n",
      " Border Collie Mix: 2 <br>\n",
      " Pit Bull Mix: 3 <br>\n",
      " Boxer Mix: 4 <br>\n",
      " Miniature Poodle Mix: 5 <br>\n",
      " Australian Cattle Dog Mix: 6 <br>\n",
      " Labrador Retriever Mix: 7 <br>\n",
      " German Shepherd Mix: 8 <br>\n",
      " Chihuahua Shorthair Mix: 9 <br>\n",
      " Male: 0 <br>\n",
      " Female: 1 <br>\n",
      " Neutered: 0 <br>\n",
      " Spayed: 1 <br>\n",
      " Intact: 2 <br>\n"
     ]
    }
   ],
   "source": [
    "# \"age_months\", 'color_weights', 'breed_weights', 'gender_weights', 'neuter_weights'\n",
    "for i in outcome_list:\n",
    "#     print(i)\n",
    "    index_num = outcome_list.index(i)\n",
    "    print(f' {i}: {index_num} <br>')\n",
    "    \n",
    "for i in breed_list:\n",
    "#     print(i)\n",
    "    index_num = breed_list.index(i)\n",
    "    print(f' {i}: {index_num} <br>')\n",
    "    \n",
    "for i in gender_list:\n",
    "#     print(i)\n",
    "    index_num = gender_list.index(i)\n",
    "    print(f' {i}: {index_num} <br>')\n",
    "    \n",
    "for i in neuter_list:\n",
    "#     print(i)\n",
    "    index_num = neuter_list.index(i)\n",
    "    print(f' {i}: {index_num} <br>')"
   ]
  },
  {
   "cell_type": "markdown",
   "metadata": {},
   "source": [
    "## Weight Legend"
   ]
  },
  {
   "cell_type": "markdown",
   "metadata": {},
   "source": [
    "<b> Outcome </b> <br>\n",
    "Died: 0 <br>\n",
    " Adoption: 1 <br>\n",
    " Return to Owner: 2 <br>\n",
    " Transfer: 3 <br>\n",
    " Missing: 4 <br>\n",
    " Euthanasia: 5 <br>\n",
    " \n",
    "Breed <br>\n",
    "Catahoula Mix: 0 <br>\n",
    " Dachshund Mix: 1 <br>\n",
    " Border Collie Mix: 2 <br>\n",
    " Pit Bull Mix: 3 <br>\n",
    " Boxer Mix: 4 <br>\n",
    " Miniature Poodle Mix: 5 <br>\n",
    " Australian Cattle Dog Mix: 6 <br>\n",
    " Labrador Retriever Mix: 7 <br>\n",
    " German Shepherd Mix: 8 <br>\n",
    " Chihuahua Shorthair Mix: 9 <br>\n",
    " \n",
    " Gender <br>\n",
    " Male: 0 <br>\n",
    " Female: 1 <br>\n",
    " \n",
    " Neuter <br>\n",
    " Neutered: 0 <br>\n",
    " Spayed: 1 <br>\n",
    " Intact: 2 <br>"
   ]
  }
 ],
 "metadata": {
  "kernelspec": {
   "display_name": "Python 3",
   "language": "python",
   "name": "python3"
  },
  "language_info": {
   "codemirror_mode": {
    "name": "ipython",
    "version": 3
   },
   "file_extension": ".py",
   "mimetype": "text/x-python",
   "name": "python",
   "nbconvert_exporter": "python",
   "pygments_lexer": "ipython3",
   "version": "3.7.4"
  }
 },
 "nbformat": 4,
 "nbformat_minor": 2
}
