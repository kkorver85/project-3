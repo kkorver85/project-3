{
 "cells": [
  {
   "cell_type": "markdown",
   "metadata": {},
   "source": [
    "## ML Project"
   ]
  },
  {
   "cell_type": "code",
   "execution_count": 215,
   "metadata": {},
   "outputs": [],
   "source": [
    "import pandas as pd\n",
    "import os\n",
    "import matplotlib.pyplot as plt\n",
    "from datetime import date\n",
    "import numpy as np"
   ]
  },
  {
   "cell_type": "code",
   "execution_count": 216,
   "metadata": {},
   "outputs": [],
   "source": [
    "file = \"aac_shelter_outcomes.csv\""
   ]
  },
  {
   "cell_type": "code",
   "execution_count": 217,
   "metadata": {},
   "outputs": [],
   "source": [
    "df = pd.read_csv(file)"
   ]
  },
  {
   "cell_type": "code",
   "execution_count": 218,
   "metadata": {},
   "outputs": [
    {
     "data": {
      "text/plain": [
       "Dog          44242\n",
       "Cat          29422\n",
       "Other         4249\n",
       "Bird           334\n",
       "Livestock        9\n",
       "Name: animal_type, dtype: int64"
      ]
     },
     "execution_count": 218,
     "metadata": {},
     "output_type": "execute_result"
    }
   ],
   "source": [
    "df['animal_type'].value_counts()"
   ]
  },
  {
   "cell_type": "code",
   "execution_count": 219,
   "metadata": {},
   "outputs": [
    {
     "data": {
      "text/plain": [
       "Index(['age_upon_outcome', 'animal_id', 'animal_type', 'breed', 'color',\n",
       "       'date_of_birth', 'datetime', 'monthyear', 'name', 'outcome_subtype',\n",
       "       'outcome_type', 'sex_upon_outcome'],\n",
       "      dtype='object')"
      ]
     },
     "execution_count": 219,
     "metadata": {},
     "output_type": "execute_result"
    }
   ],
   "source": [
    "df.columns"
   ]
  },
  {
   "cell_type": "code",
   "execution_count": 220,
   "metadata": {},
   "outputs": [],
   "source": [
    "df = df.loc[(df['animal_type'] == 'Dog') | (df['animal_type'] == 'Cat')]"
   ]
  },
  {
   "cell_type": "code",
   "execution_count": 221,
   "metadata": {},
   "outputs": [],
   "source": [
    "dog_df = df.loc[df['animal_type'] == 'Dog']"
   ]
  },
  {
   "cell_type": "code",
   "execution_count": 222,
   "metadata": {},
   "outputs": [
    {
     "data": {
      "text/plain": [
       "1893"
      ]
     },
     "execution_count": 222,
     "metadata": {},
     "output_type": "execute_result"
    }
   ],
   "source": [
    "len(dog_df['breed'].unique())"
   ]
  },
  {
   "cell_type": "code",
   "execution_count": 223,
   "metadata": {},
   "outputs": [],
   "source": [
    "cat_df = df.loc[df['animal_type'] == 'Cat']"
   ]
  },
  {
   "cell_type": "code",
   "execution_count": 224,
   "metadata": {},
   "outputs": [
    {
     "data": {
      "text/plain": [
       "79"
      ]
     },
     "execution_count": 224,
     "metadata": {},
     "output_type": "execute_result"
    }
   ],
   "source": [
    "len(cat_df['breed'].unique())"
   ]
  },
  {
   "cell_type": "code",
   "execution_count": 225,
   "metadata": {},
   "outputs": [],
   "source": [
    "table = pd.pivot_table(dog_df, values='animal_id', index=['breed'], aggfunc='count')\n",
    "table = table.reset_index()\n",
    "table = table.rename(columns={\"animal_id\": \"count\"})\n",
    "table = table.sort_values(by='count', ascending=False)"
   ]
  },
  {
   "cell_type": "code",
   "execution_count": 226,
   "metadata": {},
   "outputs": [
    {
     "data": {
      "text/plain": [
       "['Pit Bull Mix',\n",
       " 'Chihuahua Shorthair Mix',\n",
       " 'Labrador Retriever Mix',\n",
       " 'German Shepherd Mix',\n",
       " 'Australian Cattle Dog Mix',\n",
       " 'Dachshund Mix',\n",
       " 'Boxer Mix',\n",
       " 'Miniature Poodle Mix',\n",
       " 'Border Collie Mix',\n",
       " 'Catahoula Mix']"
      ]
     },
     "execution_count": 226,
     "metadata": {},
     "output_type": "execute_result"
    }
   ],
   "source": [
    "new_table = table.head(10)\n",
    "top_10_breeds = new_table['breed'].to_list()\n",
    "top_10_breeds"
   ]
  },
  {
   "cell_type": "markdown",
   "metadata": {},
   "source": [
    "## Clean Dog Dataframe"
   ]
  },
  {
   "cell_type": "code",
   "execution_count": 227,
   "metadata": {},
   "outputs": [
    {
     "data": {
      "text/plain": [
       "Index(['age_upon_outcome', 'animal_id', 'animal_type', 'breed', 'color',\n",
       "       'date_of_birth', 'datetime', 'monthyear', 'name', 'outcome_subtype',\n",
       "       'outcome_type', 'sex_upon_outcome'],\n",
       "      dtype='object')"
      ]
     },
     "execution_count": 227,
     "metadata": {},
     "output_type": "execute_result"
    }
   ],
   "source": [
    "dog_df.columns"
   ]
  },
  {
   "cell_type": "code",
   "execution_count": 228,
   "metadata": {},
   "outputs": [
    {
     "data": {
      "text/plain": [
       "Partner                9516\n",
       "Foster                 2162\n",
       "Suffering               684\n",
       "Aggressive              501\n",
       "Offsite                 254\n",
       "Behavior                142\n",
       "In Kennel                87\n",
       "Rabies Risk              85\n",
       "Medical                  60\n",
       "At Vet                   23\n",
       "In Foster                23\n",
       "Court/Investigation      18\n",
       "Possible Theft            7\n",
       "In Surgery                7\n",
       "Enroute                   4\n",
       "Barn                      1\n",
       "Snr                       1\n",
       "Name: outcome_subtype, dtype: int64"
      ]
     },
     "execution_count": 228,
     "metadata": {},
     "output_type": "execute_result"
    }
   ],
   "source": [
    "dog_df['outcome_subtype'].value_counts()"
   ]
  },
  {
   "cell_type": "code",
   "execution_count": 229,
   "metadata": {},
   "outputs": [
    {
     "data": {
      "text/html": [
       "<div>\n",
       "<style scoped>\n",
       "    .dataframe tbody tr th:only-of-type {\n",
       "        vertical-align: middle;\n",
       "    }\n",
       "\n",
       "    .dataframe tbody tr th {\n",
       "        vertical-align: top;\n",
       "    }\n",
       "\n",
       "    .dataframe thead th {\n",
       "        text-align: right;\n",
       "    }\n",
       "</style>\n",
       "<table border=\"1\" class=\"dataframe\">\n",
       "  <thead>\n",
       "    <tr style=\"text-align: right;\">\n",
       "      <th></th>\n",
       "      <th>age_upon_outcome</th>\n",
       "      <th>animal_id</th>\n",
       "      <th>animal_type</th>\n",
       "      <th>breed</th>\n",
       "      <th>color</th>\n",
       "      <th>date_of_birth</th>\n",
       "      <th>datetime</th>\n",
       "      <th>monthyear</th>\n",
       "      <th>name</th>\n",
       "      <th>outcome_subtype</th>\n",
       "      <th>outcome_type</th>\n",
       "      <th>sex_upon_outcome</th>\n",
       "    </tr>\n",
       "  </thead>\n",
       "  <tbody>\n",
       "    <tr>\n",
       "      <td>1</td>\n",
       "      <td>1 year</td>\n",
       "      <td>A666430</td>\n",
       "      <td>Dog</td>\n",
       "      <td>Beagle Mix</td>\n",
       "      <td>White/Brown</td>\n",
       "      <td>2012-11-06T00:00:00</td>\n",
       "      <td>2013-11-07T11:47:00</td>\n",
       "      <td>2013-11-07T11:47:00</td>\n",
       "      <td>Lucy</td>\n",
       "      <td>Partner</td>\n",
       "      <td>Transfer</td>\n",
       "      <td>Spayed Female</td>\n",
       "    </tr>\n",
       "    <tr>\n",
       "      <td>2</td>\n",
       "      <td>1 year</td>\n",
       "      <td>A675708</td>\n",
       "      <td>Dog</td>\n",
       "      <td>Pit Bull</td>\n",
       "      <td>Blue/White</td>\n",
       "      <td>2013-03-31T00:00:00</td>\n",
       "      <td>2014-06-03T14:20:00</td>\n",
       "      <td>2014-06-03T14:20:00</td>\n",
       "      <td>*Johnny</td>\n",
       "      <td>NaN</td>\n",
       "      <td>Adoption</td>\n",
       "      <td>Neutered Male</td>\n",
       "    </tr>\n",
       "    <tr>\n",
       "      <td>3</td>\n",
       "      <td>9 years</td>\n",
       "      <td>A680386</td>\n",
       "      <td>Dog</td>\n",
       "      <td>Miniature Schnauzer Mix</td>\n",
       "      <td>White</td>\n",
       "      <td>2005-06-02T00:00:00</td>\n",
       "      <td>2014-06-15T15:50:00</td>\n",
       "      <td>2014-06-15T15:50:00</td>\n",
       "      <td>Monday</td>\n",
       "      <td>Partner</td>\n",
       "      <td>Transfer</td>\n",
       "      <td>Neutered Male</td>\n",
       "    </tr>\n",
       "    <tr>\n",
       "      <td>5</td>\n",
       "      <td>4 months</td>\n",
       "      <td>A664462</td>\n",
       "      <td>Dog</td>\n",
       "      <td>Leonberger Mix</td>\n",
       "      <td>Brown/White</td>\n",
       "      <td>2013-06-03T00:00:00</td>\n",
       "      <td>2013-10-07T13:06:00</td>\n",
       "      <td>2013-10-07T13:06:00</td>\n",
       "      <td>*Edgar</td>\n",
       "      <td>Partner</td>\n",
       "      <td>Transfer</td>\n",
       "      <td>Intact Male</td>\n",
       "    </tr>\n",
       "    <tr>\n",
       "      <td>7</td>\n",
       "      <td>3 years</td>\n",
       "      <td>A692618</td>\n",
       "      <td>Dog</td>\n",
       "      <td>Chihuahua Shorthair Mix</td>\n",
       "      <td>Brown</td>\n",
       "      <td>2011-11-23T00:00:00</td>\n",
       "      <td>2014-12-08T15:55:00</td>\n",
       "      <td>2014-12-08T15:55:00</td>\n",
       "      <td>*Ella</td>\n",
       "      <td>Partner</td>\n",
       "      <td>Transfer</td>\n",
       "      <td>Spayed Female</td>\n",
       "    </tr>\n",
       "  </tbody>\n",
       "</table>\n",
       "</div>"
      ],
      "text/plain": [
       "  age_upon_outcome animal_id animal_type                    breed  \\\n",
       "1           1 year   A666430         Dog               Beagle Mix   \n",
       "2           1 year   A675708         Dog                 Pit Bull   \n",
       "3          9 years   A680386         Dog  Miniature Schnauzer Mix   \n",
       "5         4 months   A664462         Dog           Leonberger Mix   \n",
       "7          3 years   A692618         Dog  Chihuahua Shorthair Mix   \n",
       "\n",
       "         color        date_of_birth             datetime            monthyear  \\\n",
       "1  White/Brown  2012-11-06T00:00:00  2013-11-07T11:47:00  2013-11-07T11:47:00   \n",
       "2   Blue/White  2013-03-31T00:00:00  2014-06-03T14:20:00  2014-06-03T14:20:00   \n",
       "3        White  2005-06-02T00:00:00  2014-06-15T15:50:00  2014-06-15T15:50:00   \n",
       "5  Brown/White  2013-06-03T00:00:00  2013-10-07T13:06:00  2013-10-07T13:06:00   \n",
       "7        Brown  2011-11-23T00:00:00  2014-12-08T15:55:00  2014-12-08T15:55:00   \n",
       "\n",
       "      name outcome_subtype outcome_type sex_upon_outcome  \n",
       "1     Lucy         Partner     Transfer    Spayed Female  \n",
       "2  *Johnny             NaN     Adoption    Neutered Male  \n",
       "3   Monday         Partner     Transfer    Neutered Male  \n",
       "5   *Edgar         Partner     Transfer      Intact Male  \n",
       "7    *Ella         Partner     Transfer    Spayed Female  "
      ]
     },
     "execution_count": 229,
     "metadata": {},
     "output_type": "execute_result"
    }
   ],
   "source": [
    "dog_df.head()"
   ]
  },
  {
   "cell_type": "code",
   "execution_count": 230,
   "metadata": {},
   "outputs": [
    {
     "name": "stderr",
     "output_type": "stream",
     "text": [
      "/Users/meganl/opt/anaconda3/lib/python3.7/site-packages/ipykernel_launcher.py:2: SettingWithCopyWarning: \n",
      "A value is trying to be set on a copy of a slice from a DataFrame.\n",
      "Try using .loc[row_indexer,col_indexer] = value instead\n",
      "\n",
      "See the caveats in the documentation: http://pandas.pydata.org/pandas-docs/stable/user_guide/indexing.html#returning-a-view-versus-a-copy\n",
      "  \n",
      "/Users/meganl/opt/anaconda3/lib/python3.7/site-packages/ipykernel_launcher.py:3: SettingWithCopyWarning: \n",
      "A value is trying to be set on a copy of a slice from a DataFrame.\n",
      "Try using .loc[row_indexer,col_indexer] = value instead\n",
      "\n",
      "See the caveats in the documentation: http://pandas.pydata.org/pandas-docs/stable/user_guide/indexing.html#returning-a-view-versus-a-copy\n",
      "  This is separate from the ipykernel package so we can avoid doing imports until\n"
     ]
    }
   ],
   "source": [
    "# clean date of birth and datetime columns\n",
    "dog_df['date_of_birth'] = dog_df['date_of_birth'].str.split('T', n=1, expand=True)\n",
    "dog_df['datetime'] = dog_df['datetime'].str.split('T', n=1, expand=True)"
   ]
  },
  {
   "cell_type": "code",
   "execution_count": 231,
   "metadata": {},
   "outputs": [
    {
     "name": "stderr",
     "output_type": "stream",
     "text": [
      "/Users/meganl/opt/anaconda3/lib/python3.7/site-packages/ipykernel_launcher.py:2: SettingWithCopyWarning: \n",
      "A value is trying to be set on a copy of a slice from a DataFrame.\n",
      "Try using .loc[row_indexer,col_indexer] = value instead\n",
      "\n",
      "See the caveats in the documentation: http://pandas.pydata.org/pandas-docs/stable/user_guide/indexing.html#returning-a-view-versus-a-copy\n",
      "  \n",
      "/Users/meganl/opt/anaconda3/lib/python3.7/site-packages/ipykernel_launcher.py:3: SettingWithCopyWarning: \n",
      "A value is trying to be set on a copy of a slice from a DataFrame.\n",
      "Try using .loc[row_indexer,col_indexer] = value instead\n",
      "\n",
      "See the caveats in the documentation: http://pandas.pydata.org/pandas-docs/stable/user_guide/indexing.html#returning-a-view-versus-a-copy\n",
      "  This is separate from the ipykernel package so we can avoid doing imports until\n"
     ]
    }
   ],
   "source": [
    "# change date of birth and datetime types to date time\n",
    "dog_df['date_of_birth'] = pd.to_datetime(dog_df['date_of_birth'])\n",
    "dog_df['datetime'] = pd.to_datetime(dog_df['datetime'])"
   ]
  },
  {
   "cell_type": "code",
   "execution_count": 232,
   "metadata": {},
   "outputs": [
    {
     "data": {
      "text/plain": [
       "age_upon_outcome            object\n",
       "animal_id                   object\n",
       "animal_type                 object\n",
       "breed                       object\n",
       "color                       object\n",
       "date_of_birth       datetime64[ns]\n",
       "datetime            datetime64[ns]\n",
       "monthyear                   object\n",
       "name                        object\n",
       "outcome_subtype             object\n",
       "outcome_type                object\n",
       "sex_upon_outcome            object\n",
       "dtype: object"
      ]
     },
     "execution_count": 232,
     "metadata": {},
     "output_type": "execute_result"
    }
   ],
   "source": [
    "dog_df.dtypes"
   ]
  },
  {
   "cell_type": "code",
   "execution_count": 233,
   "metadata": {},
   "outputs": [
    {
     "data": {
      "text/html": [
       "<div>\n",
       "<style scoped>\n",
       "    .dataframe tbody tr th:only-of-type {\n",
       "        vertical-align: middle;\n",
       "    }\n",
       "\n",
       "    .dataframe tbody tr th {\n",
       "        vertical-align: top;\n",
       "    }\n",
       "\n",
       "    .dataframe thead th {\n",
       "        text-align: right;\n",
       "    }\n",
       "</style>\n",
       "<table border=\"1\" class=\"dataframe\">\n",
       "  <thead>\n",
       "    <tr style=\"text-align: right;\">\n",
       "      <th></th>\n",
       "      <th>age_upon_outcome</th>\n",
       "      <th>animal_id</th>\n",
       "      <th>animal_type</th>\n",
       "      <th>breed</th>\n",
       "      <th>color</th>\n",
       "      <th>date_of_birth</th>\n",
       "      <th>datetime</th>\n",
       "      <th>monthyear</th>\n",
       "      <th>name</th>\n",
       "      <th>outcome_subtype</th>\n",
       "      <th>outcome_type</th>\n",
       "      <th>sex_upon_outcome</th>\n",
       "    </tr>\n",
       "  </thead>\n",
       "  <tbody>\n",
       "    <tr>\n",
       "      <td>1</td>\n",
       "      <td>1 year</td>\n",
       "      <td>A666430</td>\n",
       "      <td>Dog</td>\n",
       "      <td>Beagle Mix</td>\n",
       "      <td>White/Brown</td>\n",
       "      <td>2012-11-06</td>\n",
       "      <td>2013-11-07</td>\n",
       "      <td>2013-11-07T11:47:00</td>\n",
       "      <td>Lucy</td>\n",
       "      <td>Partner</td>\n",
       "      <td>Transfer</td>\n",
       "      <td>Spayed Female</td>\n",
       "    </tr>\n",
       "    <tr>\n",
       "      <td>2</td>\n",
       "      <td>1 year</td>\n",
       "      <td>A675708</td>\n",
       "      <td>Dog</td>\n",
       "      <td>Pit Bull</td>\n",
       "      <td>Blue/White</td>\n",
       "      <td>2013-03-31</td>\n",
       "      <td>2014-06-03</td>\n",
       "      <td>2014-06-03T14:20:00</td>\n",
       "      <td>*Johnny</td>\n",
       "      <td>NaN</td>\n",
       "      <td>Adoption</td>\n",
       "      <td>Neutered Male</td>\n",
       "    </tr>\n",
       "    <tr>\n",
       "      <td>3</td>\n",
       "      <td>9 years</td>\n",
       "      <td>A680386</td>\n",
       "      <td>Dog</td>\n",
       "      <td>Miniature Schnauzer Mix</td>\n",
       "      <td>White</td>\n",
       "      <td>2005-06-02</td>\n",
       "      <td>2014-06-15</td>\n",
       "      <td>2014-06-15T15:50:00</td>\n",
       "      <td>Monday</td>\n",
       "      <td>Partner</td>\n",
       "      <td>Transfer</td>\n",
       "      <td>Neutered Male</td>\n",
       "    </tr>\n",
       "    <tr>\n",
       "      <td>5</td>\n",
       "      <td>4 months</td>\n",
       "      <td>A664462</td>\n",
       "      <td>Dog</td>\n",
       "      <td>Leonberger Mix</td>\n",
       "      <td>Brown/White</td>\n",
       "      <td>2013-06-03</td>\n",
       "      <td>2013-10-07</td>\n",
       "      <td>2013-10-07T13:06:00</td>\n",
       "      <td>*Edgar</td>\n",
       "      <td>Partner</td>\n",
       "      <td>Transfer</td>\n",
       "      <td>Intact Male</td>\n",
       "    </tr>\n",
       "    <tr>\n",
       "      <td>7</td>\n",
       "      <td>3 years</td>\n",
       "      <td>A692618</td>\n",
       "      <td>Dog</td>\n",
       "      <td>Chihuahua Shorthair Mix</td>\n",
       "      <td>Brown</td>\n",
       "      <td>2011-11-23</td>\n",
       "      <td>2014-12-08</td>\n",
       "      <td>2014-12-08T15:55:00</td>\n",
       "      <td>*Ella</td>\n",
       "      <td>Partner</td>\n",
       "      <td>Transfer</td>\n",
       "      <td>Spayed Female</td>\n",
       "    </tr>\n",
       "  </tbody>\n",
       "</table>\n",
       "</div>"
      ],
      "text/plain": [
       "  age_upon_outcome animal_id animal_type                    breed  \\\n",
       "1           1 year   A666430         Dog               Beagle Mix   \n",
       "2           1 year   A675708         Dog                 Pit Bull   \n",
       "3          9 years   A680386         Dog  Miniature Schnauzer Mix   \n",
       "5         4 months   A664462         Dog           Leonberger Mix   \n",
       "7          3 years   A692618         Dog  Chihuahua Shorthair Mix   \n",
       "\n",
       "         color date_of_birth   datetime            monthyear     name  \\\n",
       "1  White/Brown    2012-11-06 2013-11-07  2013-11-07T11:47:00     Lucy   \n",
       "2   Blue/White    2013-03-31 2014-06-03  2014-06-03T14:20:00  *Johnny   \n",
       "3        White    2005-06-02 2014-06-15  2014-06-15T15:50:00   Monday   \n",
       "5  Brown/White    2013-06-03 2013-10-07  2013-10-07T13:06:00   *Edgar   \n",
       "7        Brown    2011-11-23 2014-12-08  2014-12-08T15:55:00    *Ella   \n",
       "\n",
       "  outcome_subtype outcome_type sex_upon_outcome  \n",
       "1         Partner     Transfer    Spayed Female  \n",
       "2             NaN     Adoption    Neutered Male  \n",
       "3         Partner     Transfer    Neutered Male  \n",
       "5         Partner     Transfer      Intact Male  \n",
       "7         Partner     Transfer    Spayed Female  "
      ]
     },
     "execution_count": 233,
     "metadata": {},
     "output_type": "execute_result"
    }
   ],
   "source": [
    "dog_df.head()"
   ]
  },
  {
   "cell_type": "code",
   "execution_count": 234,
   "metadata": {},
   "outputs": [
    {
     "name": "stderr",
     "output_type": "stream",
     "text": [
      "/Users/meganl/opt/anaconda3/lib/python3.7/site-packages/ipykernel_launcher.py:2: SettingWithCopyWarning: \n",
      "A value is trying to be set on a copy of a slice from a DataFrame.\n",
      "Try using .loc[row_indexer,col_indexer] = value instead\n",
      "\n",
      "See the caveats in the documentation: http://pandas.pydata.org/pandas-docs/stable/user_guide/indexing.html#returning-a-view-versus-a-copy\n",
      "  \n"
     ]
    }
   ],
   "source": [
    "# calculate the age in months for each row\n",
    "dog_df['age_months'] = ((dog_df.datetime - dog_df.date_of_birth)/np.timedelta64(1, 'M'))"
   ]
  },
  {
   "cell_type": "code",
   "execution_count": 235,
   "metadata": {},
   "outputs": [
    {
     "data": {
      "text/html": [
       "<div>\n",
       "<style scoped>\n",
       "    .dataframe tbody tr th:only-of-type {\n",
       "        vertical-align: middle;\n",
       "    }\n",
       "\n",
       "    .dataframe tbody tr th {\n",
       "        vertical-align: top;\n",
       "    }\n",
       "\n",
       "    .dataframe thead th {\n",
       "        text-align: right;\n",
       "    }\n",
       "</style>\n",
       "<table border=\"1\" class=\"dataframe\">\n",
       "  <thead>\n",
       "    <tr style=\"text-align: right;\">\n",
       "      <th></th>\n",
       "      <th>age_upon_outcome</th>\n",
       "      <th>animal_id</th>\n",
       "      <th>animal_type</th>\n",
       "      <th>breed</th>\n",
       "      <th>color</th>\n",
       "      <th>date_of_birth</th>\n",
       "      <th>datetime</th>\n",
       "      <th>monthyear</th>\n",
       "      <th>name</th>\n",
       "      <th>outcome_subtype</th>\n",
       "      <th>outcome_type</th>\n",
       "      <th>sex_upon_outcome</th>\n",
       "      <th>age_months</th>\n",
       "    </tr>\n",
       "  </thead>\n",
       "  <tbody>\n",
       "    <tr>\n",
       "      <td>1</td>\n",
       "      <td>1 year</td>\n",
       "      <td>A666430</td>\n",
       "      <td>Dog</td>\n",
       "      <td>Beagle Mix</td>\n",
       "      <td>White/Brown</td>\n",
       "      <td>2012-11-06</td>\n",
       "      <td>2013-11-07</td>\n",
       "      <td>2013-11-07T11:47:00</td>\n",
       "      <td>Lucy</td>\n",
       "      <td>Partner</td>\n",
       "      <td>Transfer</td>\n",
       "      <td>Spayed Female</td>\n",
       "      <td>12.024888</td>\n",
       "    </tr>\n",
       "    <tr>\n",
       "      <td>2</td>\n",
       "      <td>1 year</td>\n",
       "      <td>A675708</td>\n",
       "      <td>Dog</td>\n",
       "      <td>Pit Bull</td>\n",
       "      <td>Blue/White</td>\n",
       "      <td>2013-03-31</td>\n",
       "      <td>2014-06-03</td>\n",
       "      <td>2014-06-03T14:20:00</td>\n",
       "      <td>*Johnny</td>\n",
       "      <td>NaN</td>\n",
       "      <td>Adoption</td>\n",
       "      <td>Neutered Male</td>\n",
       "      <td>14.094745</td>\n",
       "    </tr>\n",
       "    <tr>\n",
       "      <td>3</td>\n",
       "      <td>9 years</td>\n",
       "      <td>A680386</td>\n",
       "      <td>Dog</td>\n",
       "      <td>Miniature Schnauzer Mix</td>\n",
       "      <td>White</td>\n",
       "      <td>2005-06-02</td>\n",
       "      <td>2014-06-15</td>\n",
       "      <td>2014-06-15T15:50:00</td>\n",
       "      <td>Monday</td>\n",
       "      <td>Partner</td>\n",
       "      <td>Transfer</td>\n",
       "      <td>Neutered Male</td>\n",
       "      <td>108.421117</td>\n",
       "    </tr>\n",
       "    <tr>\n",
       "      <td>5</td>\n",
       "      <td>4 months</td>\n",
       "      <td>A664462</td>\n",
       "      <td>Dog</td>\n",
       "      <td>Leonberger Mix</td>\n",
       "      <td>Brown/White</td>\n",
       "      <td>2013-06-03</td>\n",
       "      <td>2013-10-07</td>\n",
       "      <td>2013-10-07T13:06:00</td>\n",
       "      <td>*Edgar</td>\n",
       "      <td>Partner</td>\n",
       "      <td>Transfer</td>\n",
       "      <td>Intact Male</td>\n",
       "      <td>4.139715</td>\n",
       "    </tr>\n",
       "    <tr>\n",
       "      <td>7</td>\n",
       "      <td>3 years</td>\n",
       "      <td>A692618</td>\n",
       "      <td>Dog</td>\n",
       "      <td>Chihuahua Shorthair Mix</td>\n",
       "      <td>Brown</td>\n",
       "      <td>2011-11-23</td>\n",
       "      <td>2014-12-08</td>\n",
       "      <td>2014-12-08T15:55:00</td>\n",
       "      <td>*Ella</td>\n",
       "      <td>Partner</td>\n",
       "      <td>Transfer</td>\n",
       "      <td>Spayed Female</td>\n",
       "      <td>36.501776</td>\n",
       "    </tr>\n",
       "  </tbody>\n",
       "</table>\n",
       "</div>"
      ],
      "text/plain": [
       "  age_upon_outcome animal_id animal_type                    breed  \\\n",
       "1           1 year   A666430         Dog               Beagle Mix   \n",
       "2           1 year   A675708         Dog                 Pit Bull   \n",
       "3          9 years   A680386         Dog  Miniature Schnauzer Mix   \n",
       "5         4 months   A664462         Dog           Leonberger Mix   \n",
       "7          3 years   A692618         Dog  Chihuahua Shorthair Mix   \n",
       "\n",
       "         color date_of_birth   datetime            monthyear     name  \\\n",
       "1  White/Brown    2012-11-06 2013-11-07  2013-11-07T11:47:00     Lucy   \n",
       "2   Blue/White    2013-03-31 2014-06-03  2014-06-03T14:20:00  *Johnny   \n",
       "3        White    2005-06-02 2014-06-15  2014-06-15T15:50:00   Monday   \n",
       "5  Brown/White    2013-06-03 2013-10-07  2013-10-07T13:06:00   *Edgar   \n",
       "7        Brown    2011-11-23 2014-12-08  2014-12-08T15:55:00    *Ella   \n",
       "\n",
       "  outcome_subtype outcome_type sex_upon_outcome  age_months  \n",
       "1         Partner     Transfer    Spayed Female   12.024888  \n",
       "2             NaN     Adoption    Neutered Male   14.094745  \n",
       "3         Partner     Transfer    Neutered Male  108.421117  \n",
       "5         Partner     Transfer      Intact Male    4.139715  \n",
       "7         Partner     Transfer    Spayed Female   36.501776  "
      ]
     },
     "execution_count": 235,
     "metadata": {},
     "output_type": "execute_result"
    }
   ],
   "source": [
    "dog_df.head()"
   ]
  },
  {
   "cell_type": "code",
   "execution_count": 236,
   "metadata": {},
   "outputs": [],
   "source": [
    "#filter dog df to the following breeds\n",
    "dog_df = dog_df.loc[(dog_df['breed']== 'Pit Bull Mix') |\n",
    "                   (dog_df['breed']== 'Chihuahua Shorthair Mix') |\n",
    "                   (dog_df['breed']== 'Labrador Retriever Mix') |\n",
    "                    (dog_df['breed']== 'German Shepherd Mix') |\n",
    "                    (dog_df['breed']== 'Australian Cattle Dog Mix') |\n",
    "                    (dog_df['breed']== 'Dachshund Mix') |\n",
    "                    (dog_df['breed']== 'Boxer Mix') |\n",
    "                    (dog_df['breed']== 'Miniature Poodle Mix') |\n",
    "                    (dog_df['breed']== 'Border Collie Mix') |\n",
    "                    (dog_df['breed']== 'Catahoula Mix')]\n",
    "\n",
    "dog_df = dog_df.loc[(dog_df['sex_upon_outcome'] != 'Unknown')]"
   ]
  },
  {
   "cell_type": "code",
   "execution_count": 237,
   "metadata": {},
   "outputs": [
    {
     "data": {
      "text/plain": [
       "Neutered Male    8935\n",
       "Spayed Female    8011\n",
       "Intact Male      2402\n",
       "Intact Female    2169\n",
       "Name: sex_upon_outcome, dtype: int64"
      ]
     },
     "execution_count": 237,
     "metadata": {},
     "output_type": "execute_result"
    }
   ],
   "source": [
    "dog_df['sex_upon_outcome'].value_counts()"
   ]
  },
  {
   "cell_type": "code",
   "execution_count": 238,
   "metadata": {},
   "outputs": [],
   "source": [
    "# split sex_upon_outcome column to 2 separate columns: gender and neutered/inact/spayed\n",
    "new=dog_df['sex_upon_outcome'].str.split(\" \", n=1, expand=True)\n",
    "dog_df[\"gender\"]= new[1] \n",
    "dog_df[\"neutered_intact_spayed\"]=new[0]"
   ]
  },
  {
   "cell_type": "code",
   "execution_count": 239,
   "metadata": {},
   "outputs": [
    {
     "data": {
      "text/html": [
       "<div>\n",
       "<style scoped>\n",
       "    .dataframe tbody tr th:only-of-type {\n",
       "        vertical-align: middle;\n",
       "    }\n",
       "\n",
       "    .dataframe tbody tr th {\n",
       "        vertical-align: top;\n",
       "    }\n",
       "\n",
       "    .dataframe thead th {\n",
       "        text-align: right;\n",
       "    }\n",
       "</style>\n",
       "<table border=\"1\" class=\"dataframe\">\n",
       "  <thead>\n",
       "    <tr style=\"text-align: right;\">\n",
       "      <th></th>\n",
       "      <th>age_upon_outcome</th>\n",
       "      <th>animal_id</th>\n",
       "      <th>animal_type</th>\n",
       "      <th>breed</th>\n",
       "      <th>color</th>\n",
       "      <th>date_of_birth</th>\n",
       "      <th>datetime</th>\n",
       "      <th>monthyear</th>\n",
       "      <th>name</th>\n",
       "      <th>outcome_subtype</th>\n",
       "      <th>outcome_type</th>\n",
       "      <th>sex_upon_outcome</th>\n",
       "      <th>age_months</th>\n",
       "      <th>gender</th>\n",
       "      <th>neutered_intact_spayed</th>\n",
       "    </tr>\n",
       "  </thead>\n",
       "  <tbody>\n",
       "    <tr>\n",
       "      <td>7</td>\n",
       "      <td>3 years</td>\n",
       "      <td>A692618</td>\n",
       "      <td>Dog</td>\n",
       "      <td>Chihuahua Shorthair Mix</td>\n",
       "      <td>Brown</td>\n",
       "      <td>2011-11-23</td>\n",
       "      <td>2014-12-08</td>\n",
       "      <td>2014-12-08T15:55:00</td>\n",
       "      <td>*Ella</td>\n",
       "      <td>Partner</td>\n",
       "      <td>Transfer</td>\n",
       "      <td>Spayed Female</td>\n",
       "      <td>36.501776</td>\n",
       "      <td>Female</td>\n",
       "      <td>Spayed</td>\n",
       "    </tr>\n",
       "    <tr>\n",
       "      <td>14</td>\n",
       "      <td>8 years</td>\n",
       "      <td>A690350</td>\n",
       "      <td>Dog</td>\n",
       "      <td>Labrador Retriever Mix</td>\n",
       "      <td>Black</td>\n",
       "      <td>2006-10-18</td>\n",
       "      <td>2014-10-26</td>\n",
       "      <td>2014-10-26T18:20:00</td>\n",
       "      <td>Shy</td>\n",
       "      <td>NaN</td>\n",
       "      <td>Return to Owner</td>\n",
       "      <td>Neutered Male</td>\n",
       "      <td>96.264810</td>\n",
       "      <td>Male</td>\n",
       "      <td>Neutered</td>\n",
       "    </tr>\n",
       "    <tr>\n",
       "      <td>16</td>\n",
       "      <td>1 year</td>\n",
       "      <td>A674298</td>\n",
       "      <td>Dog</td>\n",
       "      <td>Pit Bull Mix</td>\n",
       "      <td>Brown Brindle/White</td>\n",
       "      <td>2013-03-11</td>\n",
       "      <td>2014-04-16</td>\n",
       "      <td>2014-04-16T12:51:00</td>\n",
       "      <td>*Newt</td>\n",
       "      <td>Partner</td>\n",
       "      <td>Transfer</td>\n",
       "      <td>Neutered Male</td>\n",
       "      <td>13.174809</td>\n",
       "      <td>Male</td>\n",
       "      <td>Neutered</td>\n",
       "    </tr>\n",
       "    <tr>\n",
       "      <td>27</td>\n",
       "      <td>2 months</td>\n",
       "      <td>A667311</td>\n",
       "      <td>Dog</td>\n",
       "      <td>Labrador Retriever Mix</td>\n",
       "      <td>Yellow</td>\n",
       "      <td>2013-09-01</td>\n",
       "      <td>2013-11-19</td>\n",
       "      <td>2013-11-19T18:30:00</td>\n",
       "      <td>Promise</td>\n",
       "      <td>NaN</td>\n",
       "      <td>Adoption</td>\n",
       "      <td>Spayed Female</td>\n",
       "      <td>2.595536</td>\n",
       "      <td>Female</td>\n",
       "      <td>Spayed</td>\n",
       "    </tr>\n",
       "    <tr>\n",
       "      <td>28</td>\n",
       "      <td>4 months</td>\n",
       "      <td>A690699</td>\n",
       "      <td>Dog</td>\n",
       "      <td>Chihuahua Shorthair Mix</td>\n",
       "      <td>Blue/Tan</td>\n",
       "      <td>2014-06-17</td>\n",
       "      <td>2014-11-04</td>\n",
       "      <td>2014-11-04T18:03:00</td>\n",
       "      <td>Minnie</td>\n",
       "      <td>Partner</td>\n",
       "      <td>Transfer</td>\n",
       "      <td>Intact Female</td>\n",
       "      <td>4.599684</td>\n",
       "      <td>Female</td>\n",
       "      <td>Intact</td>\n",
       "    </tr>\n",
       "  </tbody>\n",
       "</table>\n",
       "</div>"
      ],
      "text/plain": [
       "   age_upon_outcome animal_id animal_type                    breed  \\\n",
       "7           3 years   A692618         Dog  Chihuahua Shorthair Mix   \n",
       "14          8 years   A690350         Dog   Labrador Retriever Mix   \n",
       "16           1 year   A674298         Dog             Pit Bull Mix   \n",
       "27         2 months   A667311         Dog   Labrador Retriever Mix   \n",
       "28         4 months   A690699         Dog  Chihuahua Shorthair Mix   \n",
       "\n",
       "                  color date_of_birth   datetime            monthyear  \\\n",
       "7                 Brown    2011-11-23 2014-12-08  2014-12-08T15:55:00   \n",
       "14                Black    2006-10-18 2014-10-26  2014-10-26T18:20:00   \n",
       "16  Brown Brindle/White    2013-03-11 2014-04-16  2014-04-16T12:51:00   \n",
       "27               Yellow    2013-09-01 2013-11-19  2013-11-19T18:30:00   \n",
       "28             Blue/Tan    2014-06-17 2014-11-04  2014-11-04T18:03:00   \n",
       "\n",
       "       name outcome_subtype     outcome_type sex_upon_outcome  age_months  \\\n",
       "7     *Ella         Partner         Transfer    Spayed Female   36.501776   \n",
       "14      Shy             NaN  Return to Owner    Neutered Male   96.264810   \n",
       "16    *Newt         Partner         Transfer    Neutered Male   13.174809   \n",
       "27  Promise             NaN         Adoption    Spayed Female    2.595536   \n",
       "28   Minnie         Partner         Transfer    Intact Female    4.599684   \n",
       "\n",
       "    gender neutered_intact_spayed  \n",
       "7   Female                 Spayed  \n",
       "14    Male               Neutered  \n",
       "16    Male               Neutered  \n",
       "27  Female                 Spayed  \n",
       "28  Female                 Intact  "
      ]
     },
     "execution_count": 239,
     "metadata": {},
     "output_type": "execute_result"
    }
   ],
   "source": [
    "dog_df.head()"
   ]
  },
  {
   "cell_type": "code",
   "execution_count": 240,
   "metadata": {},
   "outputs": [],
   "source": [
    "#function to group colors \n",
    "def color_mapper(color_string):\n",
    "    split_array = color_string.split('/')\n",
    "    first_color = split_array[0]\n",
    "    if (len(split_array) > 1):\n",
    "        first_color_split = first_color.split(' ')\n",
    "        return first_color_split[0] + ' Mix'\n",
    "    else:\n",
    "        first_color_split = first_color.split(' ')\n",
    "        return first_color_split[0]\n",
    "\n",
    "# print(color_mapper('Black'))\n",
    "# print(color_mapper('Black/Brown'))\n",
    "# print(color_mapper('Black Blue/White'))\n",
    "# print(color_mapper('Brown Tiger'))"
   ]
  },
  {
   "cell_type": "code",
   "execution_count": 241,
   "metadata": {},
   "outputs": [
    {
     "data": {
      "text/html": [
       "<div>\n",
       "<style scoped>\n",
       "    .dataframe tbody tr th:only-of-type {\n",
       "        vertical-align: middle;\n",
       "    }\n",
       "\n",
       "    .dataframe tbody tr th {\n",
       "        vertical-align: top;\n",
       "    }\n",
       "\n",
       "    .dataframe thead th {\n",
       "        text-align: right;\n",
       "    }\n",
       "</style>\n",
       "<table border=\"1\" class=\"dataframe\">\n",
       "  <thead>\n",
       "    <tr style=\"text-align: right;\">\n",
       "      <th></th>\n",
       "      <th>age_upon_outcome</th>\n",
       "      <th>animal_id</th>\n",
       "      <th>animal_type</th>\n",
       "      <th>breed</th>\n",
       "      <th>color</th>\n",
       "      <th>date_of_birth</th>\n",
       "      <th>datetime</th>\n",
       "      <th>monthyear</th>\n",
       "      <th>name</th>\n",
       "      <th>outcome_subtype</th>\n",
       "      <th>outcome_type</th>\n",
       "      <th>sex_upon_outcome</th>\n",
       "      <th>age_months</th>\n",
       "      <th>gender</th>\n",
       "      <th>neutered_intact_spayed</th>\n",
       "    </tr>\n",
       "  </thead>\n",
       "  <tbody>\n",
       "    <tr>\n",
       "      <td>7</td>\n",
       "      <td>3 years</td>\n",
       "      <td>A692618</td>\n",
       "      <td>Dog</td>\n",
       "      <td>Chihuahua Shorthair Mix</td>\n",
       "      <td>Brown</td>\n",
       "      <td>2011-11-23</td>\n",
       "      <td>2014-12-08</td>\n",
       "      <td>2014-12-08T15:55:00</td>\n",
       "      <td>*Ella</td>\n",
       "      <td>Partner</td>\n",
       "      <td>Transfer</td>\n",
       "      <td>Spayed Female</td>\n",
       "      <td>36.501776</td>\n",
       "      <td>Female</td>\n",
       "      <td>Spayed</td>\n",
       "    </tr>\n",
       "    <tr>\n",
       "      <td>14</td>\n",
       "      <td>8 years</td>\n",
       "      <td>A690350</td>\n",
       "      <td>Dog</td>\n",
       "      <td>Labrador Retriever Mix</td>\n",
       "      <td>Black</td>\n",
       "      <td>2006-10-18</td>\n",
       "      <td>2014-10-26</td>\n",
       "      <td>2014-10-26T18:20:00</td>\n",
       "      <td>Shy</td>\n",
       "      <td>NaN</td>\n",
       "      <td>Return to Owner</td>\n",
       "      <td>Neutered Male</td>\n",
       "      <td>96.264810</td>\n",
       "      <td>Male</td>\n",
       "      <td>Neutered</td>\n",
       "    </tr>\n",
       "    <tr>\n",
       "      <td>16</td>\n",
       "      <td>1 year</td>\n",
       "      <td>A674298</td>\n",
       "      <td>Dog</td>\n",
       "      <td>Pit Bull Mix</td>\n",
       "      <td>Brown Mix</td>\n",
       "      <td>2013-03-11</td>\n",
       "      <td>2014-04-16</td>\n",
       "      <td>2014-04-16T12:51:00</td>\n",
       "      <td>*Newt</td>\n",
       "      <td>Partner</td>\n",
       "      <td>Transfer</td>\n",
       "      <td>Neutered Male</td>\n",
       "      <td>13.174809</td>\n",
       "      <td>Male</td>\n",
       "      <td>Neutered</td>\n",
       "    </tr>\n",
       "    <tr>\n",
       "      <td>27</td>\n",
       "      <td>2 months</td>\n",
       "      <td>A667311</td>\n",
       "      <td>Dog</td>\n",
       "      <td>Labrador Retriever Mix</td>\n",
       "      <td>Yellow</td>\n",
       "      <td>2013-09-01</td>\n",
       "      <td>2013-11-19</td>\n",
       "      <td>2013-11-19T18:30:00</td>\n",
       "      <td>Promise</td>\n",
       "      <td>NaN</td>\n",
       "      <td>Adoption</td>\n",
       "      <td>Spayed Female</td>\n",
       "      <td>2.595536</td>\n",
       "      <td>Female</td>\n",
       "      <td>Spayed</td>\n",
       "    </tr>\n",
       "    <tr>\n",
       "      <td>28</td>\n",
       "      <td>4 months</td>\n",
       "      <td>A690699</td>\n",
       "      <td>Dog</td>\n",
       "      <td>Chihuahua Shorthair Mix</td>\n",
       "      <td>Blue Mix</td>\n",
       "      <td>2014-06-17</td>\n",
       "      <td>2014-11-04</td>\n",
       "      <td>2014-11-04T18:03:00</td>\n",
       "      <td>Minnie</td>\n",
       "      <td>Partner</td>\n",
       "      <td>Transfer</td>\n",
       "      <td>Intact Female</td>\n",
       "      <td>4.599684</td>\n",
       "      <td>Female</td>\n",
       "      <td>Intact</td>\n",
       "    </tr>\n",
       "    <tr>\n",
       "      <td>...</td>\n",
       "      <td>...</td>\n",
       "      <td>...</td>\n",
       "      <td>...</td>\n",
       "      <td>...</td>\n",
       "      <td>...</td>\n",
       "      <td>...</td>\n",
       "      <td>...</td>\n",
       "      <td>...</td>\n",
       "      <td>...</td>\n",
       "      <td>...</td>\n",
       "      <td>...</td>\n",
       "      <td>...</td>\n",
       "      <td>...</td>\n",
       "      <td>...</td>\n",
       "      <td>...</td>\n",
       "    </tr>\n",
       "    <tr>\n",
       "      <td>78246</td>\n",
       "      <td>2 years</td>\n",
       "      <td>A738395</td>\n",
       "      <td>Dog</td>\n",
       "      <td>Chihuahua Shorthair Mix</td>\n",
       "      <td>Black Mix</td>\n",
       "      <td>2015-11-14</td>\n",
       "      <td>2018-02-01</td>\n",
       "      <td>2018-02-01T18:23:00</td>\n",
       "      <td>Maxie</td>\n",
       "      <td>NaN</td>\n",
       "      <td>Adoption</td>\n",
       "      <td>Neutered Male</td>\n",
       "      <td>26.612456</td>\n",
       "      <td>Male</td>\n",
       "      <td>Neutered</td>\n",
       "    </tr>\n",
       "    <tr>\n",
       "      <td>78247</td>\n",
       "      <td>2 years</td>\n",
       "      <td>A761266</td>\n",
       "      <td>Dog</td>\n",
       "      <td>Border Collie Mix</td>\n",
       "      <td>Black Mix</td>\n",
       "      <td>2015-11-01</td>\n",
       "      <td>2018-02-01</td>\n",
       "      <td>2018-02-01T18:32:00</td>\n",
       "      <td>Baily</td>\n",
       "      <td>NaN</td>\n",
       "      <td>Return to Owner</td>\n",
       "      <td>Spayed Female</td>\n",
       "      <td>27.039570</td>\n",
       "      <td>Female</td>\n",
       "      <td>Spayed</td>\n",
       "    </tr>\n",
       "    <tr>\n",
       "      <td>78248</td>\n",
       "      <td>1 year</td>\n",
       "      <td>A725872</td>\n",
       "      <td>Dog</td>\n",
       "      <td>German Shepherd Mix</td>\n",
       "      <td>Tan Mix</td>\n",
       "      <td>2016-02-03</td>\n",
       "      <td>2018-02-01</td>\n",
       "      <td>2018-02-01T18:20:00</td>\n",
       "      <td>Lova</td>\n",
       "      <td>NaN</td>\n",
       "      <td>Return to Owner</td>\n",
       "      <td>Intact Female</td>\n",
       "      <td>23.951210</td>\n",
       "      <td>Female</td>\n",
       "      <td>Intact</td>\n",
       "    </tr>\n",
       "    <tr>\n",
       "      <td>78249</td>\n",
       "      <td>2 years</td>\n",
       "      <td>A761265</td>\n",
       "      <td>Dog</td>\n",
       "      <td>Border Collie Mix</td>\n",
       "      <td>Black Mix</td>\n",
       "      <td>2015-11-01</td>\n",
       "      <td>2018-02-01</td>\n",
       "      <td>2018-02-01T18:31:00</td>\n",
       "      <td>Lucas</td>\n",
       "      <td>NaN</td>\n",
       "      <td>Return to Owner</td>\n",
       "      <td>Neutered Male</td>\n",
       "      <td>27.039570</td>\n",
       "      <td>Male</td>\n",
       "      <td>Neutered</td>\n",
       "    </tr>\n",
       "    <tr>\n",
       "      <td>78255</td>\n",
       "      <td>2 months</td>\n",
       "      <td>A765857</td>\n",
       "      <td>Dog</td>\n",
       "      <td>Labrador Retriever Mix</td>\n",
       "      <td>White Mix</td>\n",
       "      <td>2017-11-13</td>\n",
       "      <td>2018-02-01</td>\n",
       "      <td>2018-02-01T18:44:00</td>\n",
       "      <td>NaN</td>\n",
       "      <td>NaN</td>\n",
       "      <td>Adoption</td>\n",
       "      <td>Neutered Male</td>\n",
       "      <td>2.628391</td>\n",
       "      <td>Male</td>\n",
       "      <td>Neutered</td>\n",
       "    </tr>\n",
       "  </tbody>\n",
       "</table>\n",
       "<p>21518 rows × 15 columns</p>\n",
       "</div>"
      ],
      "text/plain": [
       "      age_upon_outcome animal_id animal_type                    breed  \\\n",
       "7              3 years   A692618         Dog  Chihuahua Shorthair Mix   \n",
       "14             8 years   A690350         Dog   Labrador Retriever Mix   \n",
       "16              1 year   A674298         Dog             Pit Bull Mix   \n",
       "27            2 months   A667311         Dog   Labrador Retriever Mix   \n",
       "28            4 months   A690699         Dog  Chihuahua Shorthair Mix   \n",
       "...                ...       ...         ...                      ...   \n",
       "78246          2 years   A738395         Dog  Chihuahua Shorthair Mix   \n",
       "78247          2 years   A761266         Dog        Border Collie Mix   \n",
       "78248           1 year   A725872         Dog      German Shepherd Mix   \n",
       "78249          2 years   A761265         Dog        Border Collie Mix   \n",
       "78255         2 months   A765857         Dog   Labrador Retriever Mix   \n",
       "\n",
       "           color date_of_birth   datetime            monthyear     name  \\\n",
       "7          Brown    2011-11-23 2014-12-08  2014-12-08T15:55:00    *Ella   \n",
       "14         Black    2006-10-18 2014-10-26  2014-10-26T18:20:00      Shy   \n",
       "16     Brown Mix    2013-03-11 2014-04-16  2014-04-16T12:51:00    *Newt   \n",
       "27        Yellow    2013-09-01 2013-11-19  2013-11-19T18:30:00  Promise   \n",
       "28      Blue Mix    2014-06-17 2014-11-04  2014-11-04T18:03:00   Minnie   \n",
       "...          ...           ...        ...                  ...      ...   \n",
       "78246  Black Mix    2015-11-14 2018-02-01  2018-02-01T18:23:00    Maxie   \n",
       "78247  Black Mix    2015-11-01 2018-02-01  2018-02-01T18:32:00    Baily   \n",
       "78248    Tan Mix    2016-02-03 2018-02-01  2018-02-01T18:20:00     Lova   \n",
       "78249  Black Mix    2015-11-01 2018-02-01  2018-02-01T18:31:00    Lucas   \n",
       "78255  White Mix    2017-11-13 2018-02-01  2018-02-01T18:44:00      NaN   \n",
       "\n",
       "      outcome_subtype     outcome_type sex_upon_outcome  age_months  gender  \\\n",
       "7             Partner         Transfer    Spayed Female   36.501776  Female   \n",
       "14                NaN  Return to Owner    Neutered Male   96.264810    Male   \n",
       "16            Partner         Transfer    Neutered Male   13.174809    Male   \n",
       "27                NaN         Adoption    Spayed Female    2.595536  Female   \n",
       "28            Partner         Transfer    Intact Female    4.599684  Female   \n",
       "...               ...              ...              ...         ...     ...   \n",
       "78246             NaN         Adoption    Neutered Male   26.612456    Male   \n",
       "78247             NaN  Return to Owner    Spayed Female   27.039570  Female   \n",
       "78248             NaN  Return to Owner    Intact Female   23.951210  Female   \n",
       "78249             NaN  Return to Owner    Neutered Male   27.039570    Male   \n",
       "78255             NaN         Adoption    Neutered Male    2.628391    Male   \n",
       "\n",
       "      neutered_intact_spayed  \n",
       "7                     Spayed  \n",
       "14                  Neutered  \n",
       "16                  Neutered  \n",
       "27                    Spayed  \n",
       "28                    Intact  \n",
       "...                      ...  \n",
       "78246               Neutered  \n",
       "78247                 Spayed  \n",
       "78248                 Intact  \n",
       "78249               Neutered  \n",
       "78255               Neutered  \n",
       "\n",
       "[21518 rows x 15 columns]"
      ]
     },
     "execution_count": 241,
     "metadata": {},
     "output_type": "execute_result"
    }
   ],
   "source": [
    "#apply color function\n",
    "dog_df['color'] = df['color'].apply(color_mapper)\n",
    "dog_df"
   ]
  },
  {
   "cell_type": "code",
   "execution_count": 242,
   "metadata": {},
   "outputs": [
    {
     "data": {
      "text/plain": [
       "36"
      ]
     },
     "execution_count": 242,
     "metadata": {},
     "output_type": "execute_result"
    }
   ],
   "source": [
    "len(dog_df['color'].unique())"
   ]
  },
  {
   "cell_type": "code",
   "execution_count": 243,
   "metadata": {},
   "outputs": [],
   "source": [
    "#clean colors \n",
    "color = {'Orange': 'Apricot',\n",
    "         'Liver Mix': 'Brown Mix',\n",
    "         'Liver': 'Brown',\n",
    "         'Buff': 'Brown',\n",
    "         \"Buff Mix\": 'Brown Mix',\n",
    "         \"Cream\": \"Yellow\",\n",
    "         \"Cream Mix\": \"Yellow\",\n",
    "         \"Fawn\": \"Yellow\",\n",
    "         \"Fawn Mix\": \"Yellow Mix\",\n",
    "         \"Gold\": \"Yellow\",\n",
    "         \"Gold Mix\": \"Yellow Mix\",\n",
    "         \"Sable\": 'Brown',\n",
    "         \"Sable Mix\": \"Brown Mix\",\n",
    "         \"Silver Mix\": \"Gray\",\n",
    "         \"Chocolate\": \"Brown\",\n",
    "         \"Chocolate Mix\": \"Brown Mix\"}\n",
    "\n",
    "dog_df['color'] = dog_df['color'].replace(color)"
   ]
  },
  {
   "cell_type": "code",
   "execution_count": 244,
   "metadata": {},
   "outputs": [
    {
     "data": {
      "text/plain": [
       "Black Mix       4397\n",
       "Brown Mix       3463\n",
       "White Mix       2290\n",
       "Brown           2069\n",
       "Tan Mix         1632\n",
       "Black           1527\n",
       "Blue Mix        1129\n",
       "Tan             1065\n",
       "White            859\n",
       "Yellow           707\n",
       "Tricolor         601\n",
       "Red Mix          519\n",
       "Red              457\n",
       "Yellow Mix       343\n",
       "Blue             322\n",
       "Gray Mix          39\n",
       "Tricolor Mix      37\n",
       "Apricot           27\n",
       "Gray              25\n",
       "Apricot Mix       10\n",
       "Name: color, dtype: int64"
      ]
     },
     "execution_count": 244,
     "metadata": {},
     "output_type": "execute_result"
    }
   ],
   "source": [
    "dog_df['color'].value_counts()"
   ]
  },
  {
   "cell_type": "code",
   "execution_count": 245,
   "metadata": {},
   "outputs": [
    {
     "data": {
      "text/plain": [
       "['Red Mix',\n",
       " 'Apricot',\n",
       " 'Apricot Mix',\n",
       " 'White Mix',\n",
       " 'Gray Mix',\n",
       " 'Yellow Mix',\n",
       " 'Tricolor',\n",
       " 'Gray',\n",
       " 'White',\n",
       " 'Tricolor Mix',\n",
       " 'Blue',\n",
       " 'Tan Mix',\n",
       " 'Brown Mix',\n",
       " 'Yellow',\n",
       " 'Blue Mix',\n",
       " 'Black',\n",
       " 'Tan',\n",
       " 'Brown',\n",
       " 'Red',\n",
       " 'Black Mix']"
      ]
     },
     "execution_count": 245,
     "metadata": {},
     "output_type": "execute_result"
    }
   ],
   "source": [
    "#creating color list\n",
    "color_weights = set(dog_df['color'].array)\n",
    "color_weights = list(color_weights)\n",
    "color_weights"
   ]
  },
  {
   "cell_type": "code",
   "execution_count": 246,
   "metadata": {},
   "outputs": [
    {
     "data": {
      "text/html": [
       "<div>\n",
       "<style scoped>\n",
       "    .dataframe tbody tr th:only-of-type {\n",
       "        vertical-align: middle;\n",
       "    }\n",
       "\n",
       "    .dataframe tbody tr th {\n",
       "        vertical-align: top;\n",
       "    }\n",
       "\n",
       "    .dataframe thead th {\n",
       "        text-align: right;\n",
       "    }\n",
       "</style>\n",
       "<table border=\"1\" class=\"dataframe\">\n",
       "  <thead>\n",
       "    <tr style=\"text-align: right;\">\n",
       "      <th></th>\n",
       "      <th>age_upon_outcome</th>\n",
       "      <th>animal_id</th>\n",
       "      <th>animal_type</th>\n",
       "      <th>breed</th>\n",
       "      <th>color</th>\n",
       "      <th>date_of_birth</th>\n",
       "      <th>datetime</th>\n",
       "      <th>monthyear</th>\n",
       "      <th>name</th>\n",
       "      <th>outcome_subtype</th>\n",
       "      <th>outcome_type</th>\n",
       "      <th>sex_upon_outcome</th>\n",
       "      <th>age_months</th>\n",
       "      <th>gender</th>\n",
       "      <th>neutered_intact_spayed</th>\n",
       "      <th>color_weights</th>\n",
       "    </tr>\n",
       "  </thead>\n",
       "  <tbody>\n",
       "    <tr>\n",
       "      <td>7</td>\n",
       "      <td>3 years</td>\n",
       "      <td>A692618</td>\n",
       "      <td>Dog</td>\n",
       "      <td>Chihuahua Shorthair Mix</td>\n",
       "      <td>Brown</td>\n",
       "      <td>2011-11-23</td>\n",
       "      <td>2014-12-08</td>\n",
       "      <td>2014-12-08T15:55:00</td>\n",
       "      <td>*Ella</td>\n",
       "      <td>Partner</td>\n",
       "      <td>Transfer</td>\n",
       "      <td>Spayed Female</td>\n",
       "      <td>36.501776</td>\n",
       "      <td>Female</td>\n",
       "      <td>Spayed</td>\n",
       "      <td>17</td>\n",
       "    </tr>\n",
       "    <tr>\n",
       "      <td>14</td>\n",
       "      <td>8 years</td>\n",
       "      <td>A690350</td>\n",
       "      <td>Dog</td>\n",
       "      <td>Labrador Retriever Mix</td>\n",
       "      <td>Black</td>\n",
       "      <td>2006-10-18</td>\n",
       "      <td>2014-10-26</td>\n",
       "      <td>2014-10-26T18:20:00</td>\n",
       "      <td>Shy</td>\n",
       "      <td>NaN</td>\n",
       "      <td>Return to Owner</td>\n",
       "      <td>Neutered Male</td>\n",
       "      <td>96.264810</td>\n",
       "      <td>Male</td>\n",
       "      <td>Neutered</td>\n",
       "      <td>15</td>\n",
       "    </tr>\n",
       "    <tr>\n",
       "      <td>16</td>\n",
       "      <td>1 year</td>\n",
       "      <td>A674298</td>\n",
       "      <td>Dog</td>\n",
       "      <td>Pit Bull Mix</td>\n",
       "      <td>Brown Mix</td>\n",
       "      <td>2013-03-11</td>\n",
       "      <td>2014-04-16</td>\n",
       "      <td>2014-04-16T12:51:00</td>\n",
       "      <td>*Newt</td>\n",
       "      <td>Partner</td>\n",
       "      <td>Transfer</td>\n",
       "      <td>Neutered Male</td>\n",
       "      <td>13.174809</td>\n",
       "      <td>Male</td>\n",
       "      <td>Neutered</td>\n",
       "      <td>12</td>\n",
       "    </tr>\n",
       "    <tr>\n",
       "      <td>27</td>\n",
       "      <td>2 months</td>\n",
       "      <td>A667311</td>\n",
       "      <td>Dog</td>\n",
       "      <td>Labrador Retriever Mix</td>\n",
       "      <td>Yellow</td>\n",
       "      <td>2013-09-01</td>\n",
       "      <td>2013-11-19</td>\n",
       "      <td>2013-11-19T18:30:00</td>\n",
       "      <td>Promise</td>\n",
       "      <td>NaN</td>\n",
       "      <td>Adoption</td>\n",
       "      <td>Spayed Female</td>\n",
       "      <td>2.595536</td>\n",
       "      <td>Female</td>\n",
       "      <td>Spayed</td>\n",
       "      <td>13</td>\n",
       "    </tr>\n",
       "    <tr>\n",
       "      <td>28</td>\n",
       "      <td>4 months</td>\n",
       "      <td>A690699</td>\n",
       "      <td>Dog</td>\n",
       "      <td>Chihuahua Shorthair Mix</td>\n",
       "      <td>Blue Mix</td>\n",
       "      <td>2014-06-17</td>\n",
       "      <td>2014-11-04</td>\n",
       "      <td>2014-11-04T18:03:00</td>\n",
       "      <td>Minnie</td>\n",
       "      <td>Partner</td>\n",
       "      <td>Transfer</td>\n",
       "      <td>Intact Female</td>\n",
       "      <td>4.599684</td>\n",
       "      <td>Female</td>\n",
       "      <td>Intact</td>\n",
       "      <td>14</td>\n",
       "    </tr>\n",
       "    <tr>\n",
       "      <td>...</td>\n",
       "      <td>...</td>\n",
       "      <td>...</td>\n",
       "      <td>...</td>\n",
       "      <td>...</td>\n",
       "      <td>...</td>\n",
       "      <td>...</td>\n",
       "      <td>...</td>\n",
       "      <td>...</td>\n",
       "      <td>...</td>\n",
       "      <td>...</td>\n",
       "      <td>...</td>\n",
       "      <td>...</td>\n",
       "      <td>...</td>\n",
       "      <td>...</td>\n",
       "      <td>...</td>\n",
       "      <td>...</td>\n",
       "    </tr>\n",
       "    <tr>\n",
       "      <td>78246</td>\n",
       "      <td>2 years</td>\n",
       "      <td>A738395</td>\n",
       "      <td>Dog</td>\n",
       "      <td>Chihuahua Shorthair Mix</td>\n",
       "      <td>Black Mix</td>\n",
       "      <td>2015-11-14</td>\n",
       "      <td>2018-02-01</td>\n",
       "      <td>2018-02-01T18:23:00</td>\n",
       "      <td>Maxie</td>\n",
       "      <td>NaN</td>\n",
       "      <td>Adoption</td>\n",
       "      <td>Neutered Male</td>\n",
       "      <td>26.612456</td>\n",
       "      <td>Male</td>\n",
       "      <td>Neutered</td>\n",
       "      <td>19</td>\n",
       "    </tr>\n",
       "    <tr>\n",
       "      <td>78247</td>\n",
       "      <td>2 years</td>\n",
       "      <td>A761266</td>\n",
       "      <td>Dog</td>\n",
       "      <td>Border Collie Mix</td>\n",
       "      <td>Black Mix</td>\n",
       "      <td>2015-11-01</td>\n",
       "      <td>2018-02-01</td>\n",
       "      <td>2018-02-01T18:32:00</td>\n",
       "      <td>Baily</td>\n",
       "      <td>NaN</td>\n",
       "      <td>Return to Owner</td>\n",
       "      <td>Spayed Female</td>\n",
       "      <td>27.039570</td>\n",
       "      <td>Female</td>\n",
       "      <td>Spayed</td>\n",
       "      <td>19</td>\n",
       "    </tr>\n",
       "    <tr>\n",
       "      <td>78248</td>\n",
       "      <td>1 year</td>\n",
       "      <td>A725872</td>\n",
       "      <td>Dog</td>\n",
       "      <td>German Shepherd Mix</td>\n",
       "      <td>Tan Mix</td>\n",
       "      <td>2016-02-03</td>\n",
       "      <td>2018-02-01</td>\n",
       "      <td>2018-02-01T18:20:00</td>\n",
       "      <td>Lova</td>\n",
       "      <td>NaN</td>\n",
       "      <td>Return to Owner</td>\n",
       "      <td>Intact Female</td>\n",
       "      <td>23.951210</td>\n",
       "      <td>Female</td>\n",
       "      <td>Intact</td>\n",
       "      <td>11</td>\n",
       "    </tr>\n",
       "    <tr>\n",
       "      <td>78249</td>\n",
       "      <td>2 years</td>\n",
       "      <td>A761265</td>\n",
       "      <td>Dog</td>\n",
       "      <td>Border Collie Mix</td>\n",
       "      <td>Black Mix</td>\n",
       "      <td>2015-11-01</td>\n",
       "      <td>2018-02-01</td>\n",
       "      <td>2018-02-01T18:31:00</td>\n",
       "      <td>Lucas</td>\n",
       "      <td>NaN</td>\n",
       "      <td>Return to Owner</td>\n",
       "      <td>Neutered Male</td>\n",
       "      <td>27.039570</td>\n",
       "      <td>Male</td>\n",
       "      <td>Neutered</td>\n",
       "      <td>19</td>\n",
       "    </tr>\n",
       "    <tr>\n",
       "      <td>78255</td>\n",
       "      <td>2 months</td>\n",
       "      <td>A765857</td>\n",
       "      <td>Dog</td>\n",
       "      <td>Labrador Retriever Mix</td>\n",
       "      <td>White Mix</td>\n",
       "      <td>2017-11-13</td>\n",
       "      <td>2018-02-01</td>\n",
       "      <td>2018-02-01T18:44:00</td>\n",
       "      <td>NaN</td>\n",
       "      <td>NaN</td>\n",
       "      <td>Adoption</td>\n",
       "      <td>Neutered Male</td>\n",
       "      <td>2.628391</td>\n",
       "      <td>Male</td>\n",
       "      <td>Neutered</td>\n",
       "      <td>3</td>\n",
       "    </tr>\n",
       "  </tbody>\n",
       "</table>\n",
       "<p>21518 rows × 16 columns</p>\n",
       "</div>"
      ],
      "text/plain": [
       "      age_upon_outcome animal_id animal_type                    breed  \\\n",
       "7              3 years   A692618         Dog  Chihuahua Shorthair Mix   \n",
       "14             8 years   A690350         Dog   Labrador Retriever Mix   \n",
       "16              1 year   A674298         Dog             Pit Bull Mix   \n",
       "27            2 months   A667311         Dog   Labrador Retriever Mix   \n",
       "28            4 months   A690699         Dog  Chihuahua Shorthair Mix   \n",
       "...                ...       ...         ...                      ...   \n",
       "78246          2 years   A738395         Dog  Chihuahua Shorthair Mix   \n",
       "78247          2 years   A761266         Dog        Border Collie Mix   \n",
       "78248           1 year   A725872         Dog      German Shepherd Mix   \n",
       "78249          2 years   A761265         Dog        Border Collie Mix   \n",
       "78255         2 months   A765857         Dog   Labrador Retriever Mix   \n",
       "\n",
       "           color date_of_birth   datetime            monthyear     name  \\\n",
       "7          Brown    2011-11-23 2014-12-08  2014-12-08T15:55:00    *Ella   \n",
       "14         Black    2006-10-18 2014-10-26  2014-10-26T18:20:00      Shy   \n",
       "16     Brown Mix    2013-03-11 2014-04-16  2014-04-16T12:51:00    *Newt   \n",
       "27        Yellow    2013-09-01 2013-11-19  2013-11-19T18:30:00  Promise   \n",
       "28      Blue Mix    2014-06-17 2014-11-04  2014-11-04T18:03:00   Minnie   \n",
       "...          ...           ...        ...                  ...      ...   \n",
       "78246  Black Mix    2015-11-14 2018-02-01  2018-02-01T18:23:00    Maxie   \n",
       "78247  Black Mix    2015-11-01 2018-02-01  2018-02-01T18:32:00    Baily   \n",
       "78248    Tan Mix    2016-02-03 2018-02-01  2018-02-01T18:20:00     Lova   \n",
       "78249  Black Mix    2015-11-01 2018-02-01  2018-02-01T18:31:00    Lucas   \n",
       "78255  White Mix    2017-11-13 2018-02-01  2018-02-01T18:44:00      NaN   \n",
       "\n",
       "      outcome_subtype     outcome_type sex_upon_outcome  age_months  gender  \\\n",
       "7             Partner         Transfer    Spayed Female   36.501776  Female   \n",
       "14                NaN  Return to Owner    Neutered Male   96.264810    Male   \n",
       "16            Partner         Transfer    Neutered Male   13.174809    Male   \n",
       "27                NaN         Adoption    Spayed Female    2.595536  Female   \n",
       "28            Partner         Transfer    Intact Female    4.599684  Female   \n",
       "...               ...              ...              ...         ...     ...   \n",
       "78246             NaN         Adoption    Neutered Male   26.612456    Male   \n",
       "78247             NaN  Return to Owner    Spayed Female   27.039570  Female   \n",
       "78248             NaN  Return to Owner    Intact Female   23.951210  Female   \n",
       "78249             NaN  Return to Owner    Neutered Male   27.039570    Male   \n",
       "78255             NaN         Adoption    Neutered Male    2.628391    Male   \n",
       "\n",
       "      neutered_intact_spayed  color_weights  \n",
       "7                     Spayed             17  \n",
       "14                  Neutered             15  \n",
       "16                  Neutered             12  \n",
       "27                    Spayed             13  \n",
       "28                    Intact             14  \n",
       "...                      ...            ...  \n",
       "78246               Neutered             19  \n",
       "78247                 Spayed             19  \n",
       "78248                 Intact             11  \n",
       "78249               Neutered             19  \n",
       "78255               Neutered              3  \n",
       "\n",
       "[21518 rows x 16 columns]"
      ]
     },
     "execution_count": 246,
     "metadata": {},
     "output_type": "execute_result"
    }
   ],
   "source": [
    "#apply color weights\n",
    "dog_df['color_weights'] = dog_df['color'].apply(lambda color: color_weights.index(color))\n",
    "dog_df"
   ]
  },
  {
   "cell_type": "code",
   "execution_count": 247,
   "metadata": {},
   "outputs": [],
   "source": [
    "#clean dataframe to only selected columns\n",
    "dog_df = dog_df[['breed', 'color', 'outcome_type', 'age_months', 'gender', \n",
    "                 'neutered_intact_spayed', 'color_weights']]"
   ]
  },
  {
   "cell_type": "code",
   "execution_count": 248,
   "metadata": {},
   "outputs": [],
   "source": [
    "#drop any NaN rows\n",
    "dog_df = dog_df.dropna()"
   ]
  },
  {
   "cell_type": "code",
   "execution_count": 249,
   "metadata": {},
   "outputs": [
    {
     "data": {
      "text/plain": [
       "breed                     21515\n",
       "color                     21515\n",
       "outcome_type              21515\n",
       "age_months                21515\n",
       "gender                    21515\n",
       "neutered_intact_spayed    21515\n",
       "color_weights             21515\n",
       "dtype: int64"
      ]
     },
     "execution_count": 249,
     "metadata": {},
     "output_type": "execute_result"
    }
   ],
   "source": [
    "dog_df.count()"
   ]
  },
  {
   "cell_type": "code",
   "execution_count": 250,
   "metadata": {},
   "outputs": [
    {
     "data": {
      "text/plain": [
       "Index(['breed', 'color', 'outcome_type', 'age_months', 'gender',\n",
       "       'neutered_intact_spayed', 'color_weights'],\n",
       "      dtype='object')"
      ]
     },
     "execution_count": 250,
     "metadata": {},
     "output_type": "execute_result"
    }
   ],
   "source": [
    "dog_df.columns"
   ]
  },
  {
   "cell_type": "code",
   "execution_count": 251,
   "metadata": {},
   "outputs": [
    {
     "data": {
      "text/plain": [
       "1    6113\n",
       "7    4707\n",
       "2    4562\n",
       "3    1878\n",
       "6    1051\n",
       "9     783\n",
       "5     662\n",
       "8     645\n",
       "0     639\n",
       "4     475\n",
       "Name: breed_weights, dtype: int64"
      ]
     },
     "execution_count": 251,
     "metadata": {},
     "output_type": "execute_result"
    }
   ],
   "source": [
    "#create breed list\n",
    "breed_list = set(dog_df['breed'].array)\n",
    "breed_list = list(breed_list)\n",
    "\n",
    "#create breed weights\n",
    "dog_df['breed_weights'] = dog_df['breed'].apply(lambda breed: breed_list.index(breed))\n",
    "dog_df.head()\n",
    "dog_df['breed_weights'].value_counts()"
   ]
  },
  {
   "cell_type": "code",
   "execution_count": 252,
   "metadata": {},
   "outputs": [
    {
     "data": {
      "text/html": [
       "<div>\n",
       "<style scoped>\n",
       "    .dataframe tbody tr th:only-of-type {\n",
       "        vertical-align: middle;\n",
       "    }\n",
       "\n",
       "    .dataframe tbody tr th {\n",
       "        vertical-align: top;\n",
       "    }\n",
       "\n",
       "    .dataframe thead th {\n",
       "        text-align: right;\n",
       "    }\n",
       "</style>\n",
       "<table border=\"1\" class=\"dataframe\">\n",
       "  <thead>\n",
       "    <tr style=\"text-align: right;\">\n",
       "      <th></th>\n",
       "      <th>breed</th>\n",
       "      <th>color</th>\n",
       "      <th>outcome_type</th>\n",
       "      <th>age_months</th>\n",
       "      <th>gender</th>\n",
       "      <th>neutered_intact_spayed</th>\n",
       "      <th>color_weights</th>\n",
       "      <th>breed_weights</th>\n",
       "    </tr>\n",
       "  </thead>\n",
       "  <tbody>\n",
       "    <tr>\n",
       "      <td>7</td>\n",
       "      <td>Chihuahua Shorthair Mix</td>\n",
       "      <td>Brown</td>\n",
       "      <td>Transfer</td>\n",
       "      <td>36.501776</td>\n",
       "      <td>Female</td>\n",
       "      <td>Spayed</td>\n",
       "      <td>17</td>\n",
       "      <td>7</td>\n",
       "    </tr>\n",
       "    <tr>\n",
       "      <td>14</td>\n",
       "      <td>Labrador Retriever Mix</td>\n",
       "      <td>Black</td>\n",
       "      <td>Return to Owner</td>\n",
       "      <td>96.264810</td>\n",
       "      <td>Male</td>\n",
       "      <td>Neutered</td>\n",
       "      <td>15</td>\n",
       "      <td>2</td>\n",
       "    </tr>\n",
       "    <tr>\n",
       "      <td>16</td>\n",
       "      <td>Pit Bull Mix</td>\n",
       "      <td>Brown Mix</td>\n",
       "      <td>Transfer</td>\n",
       "      <td>13.174809</td>\n",
       "      <td>Male</td>\n",
       "      <td>Neutered</td>\n",
       "      <td>12</td>\n",
       "      <td>1</td>\n",
       "    </tr>\n",
       "    <tr>\n",
       "      <td>27</td>\n",
       "      <td>Labrador Retriever Mix</td>\n",
       "      <td>Yellow</td>\n",
       "      <td>Adoption</td>\n",
       "      <td>2.595536</td>\n",
       "      <td>Female</td>\n",
       "      <td>Spayed</td>\n",
       "      <td>13</td>\n",
       "      <td>2</td>\n",
       "    </tr>\n",
       "    <tr>\n",
       "      <td>28</td>\n",
       "      <td>Chihuahua Shorthair Mix</td>\n",
       "      <td>Blue Mix</td>\n",
       "      <td>Transfer</td>\n",
       "      <td>4.599684</td>\n",
       "      <td>Female</td>\n",
       "      <td>Intact</td>\n",
       "      <td>14</td>\n",
       "      <td>7</td>\n",
       "    </tr>\n",
       "  </tbody>\n",
       "</table>\n",
       "</div>"
      ],
      "text/plain": [
       "                      breed      color     outcome_type  age_months  gender  \\\n",
       "7   Chihuahua Shorthair Mix      Brown         Transfer   36.501776  Female   \n",
       "14   Labrador Retriever Mix      Black  Return to Owner   96.264810    Male   \n",
       "16             Pit Bull Mix  Brown Mix         Transfer   13.174809    Male   \n",
       "27   Labrador Retriever Mix     Yellow         Adoption    2.595536  Female   \n",
       "28  Chihuahua Shorthair Mix   Blue Mix         Transfer    4.599684  Female   \n",
       "\n",
       "   neutered_intact_spayed  color_weights  breed_weights  \n",
       "7                  Spayed             17              7  \n",
       "14               Neutered             15              2  \n",
       "16               Neutered             12              1  \n",
       "27                 Spayed             13              2  \n",
       "28                 Intact             14              7  "
      ]
     },
     "execution_count": 252,
     "metadata": {},
     "output_type": "execute_result"
    }
   ],
   "source": [
    "dog_df.head()"
   ]
  },
  {
   "cell_type": "code",
   "execution_count": 253,
   "metadata": {},
   "outputs": [
    {
     "data": {
      "text/plain": [
       "breed                     21515\n",
       "color                     21515\n",
       "outcome_type              21515\n",
       "age_months                21515\n",
       "gender                    21515\n",
       "neutered_intact_spayed    21515\n",
       "color_weights             21515\n",
       "breed_weights             21515\n",
       "dtype: int64"
      ]
     },
     "execution_count": 253,
     "metadata": {},
     "output_type": "execute_result"
    }
   ],
   "source": [
    "dog_df['outcome_type'].value_counts()\n",
    "dog_df.count()"
   ]
  },
  {
   "cell_type": "code",
   "execution_count": 254,
   "metadata": {},
   "outputs": [
    {
     "data": {
      "text/plain": [
       "Adoption           9778\n",
       "Return to Owner    6186\n",
       "Transfer           4541\n",
       "Euthanasia          860\n",
       "Died                 67\n",
       "Rto-Adopt            62\n",
       "Missing              14\n",
       "Disposal              7\n",
       "Name: outcome_type, dtype: int64"
      ]
     },
     "execution_count": 254,
     "metadata": {},
     "output_type": "execute_result"
    }
   ],
   "source": [
    "dog_df['outcome_type'].value_counts()"
   ]
  },
  {
   "cell_type": "code",
   "execution_count": 255,
   "metadata": {},
   "outputs": [
    {
     "data": {
      "text/plain": [
       "Adoption/Return to Owner    16026\n",
       "Transfer                     4541\n",
       "Died/Euthanasia               934\n",
       "Missing                        14\n",
       "Name: outcome_type, dtype: int64"
      ]
     },
     "execution_count": 255,
     "metadata": {},
     "output_type": "execute_result"
    }
   ],
   "source": [
    "#clean outcome column\n",
    "outcome = {'Rto-Adopt': 'Adoption/Return to Owner',\n",
    "           'Disposal': 'Died/Euthanasia',\n",
    "           'Died': 'Died/Euthanasia',\n",
    "           'Euthanasia': 'Died/Euthanasia',\n",
    "           'Adoption': 'Adoption/Return to Owner',\n",
    "           'Return to Owner': 'Adoption/Return to Owner'}\n",
    "\n",
    "dog_df['outcome_type'] = dog_df['outcome_type'].replace(outcome)\n",
    "dog_df['outcome_type'].value_counts()"
   ]
  },
  {
   "cell_type": "code",
   "execution_count": 289,
   "metadata": {},
   "outputs": [
    {
     "data": {
      "text/plain": [
       "5489"
      ]
     },
     "execution_count": 289,
     "metadata": {},
     "output_type": "execute_result"
    }
   ],
   "source": [
    "total = 4541 + 934 + 14\n",
    "total"
   ]
  },
  {
   "cell_type": "code",
   "execution_count": 256,
   "metadata": {},
   "outputs": [
    {
     "data": {
      "text/plain": [
       "1    16026\n",
       "2     4541\n",
       "0      934\n",
       "3       14\n",
       "Name: outcome_weights, dtype: int64"
      ]
     },
     "execution_count": 256,
     "metadata": {},
     "output_type": "execute_result"
    }
   ],
   "source": [
    "#outcome list\n",
    "outcome = set(dog_df['outcome_type'].array)\n",
    "outcome_list = list(outcome)\n",
    "outcome_list\n",
    "\n",
    "#create outcome weights\n",
    "dog_df['outcome_weights'] = dog_df['outcome_type'].apply(lambda outcome: outcome_list.index(outcome))\n",
    "dog_df.head()\n",
    "dog_df['outcome_weights'].value_counts()"
   ]
  },
  {
   "cell_type": "code",
   "execution_count": 257,
   "metadata": {},
   "outputs": [
    {
     "data": {
      "text/plain": [
       "Adoption/Return to Owner    16026\n",
       "Transfer                     4541\n",
       "Died/Euthanasia               934\n",
       "Name: outcome_type, dtype: int64"
      ]
     },
     "execution_count": 257,
     "metadata": {},
     "output_type": "execute_result"
    }
   ],
   "source": [
    "dog_df.head()\n",
    "dog_df=dog_df.loc[dog_df['outcome_type'] != 'Missing']\n",
    "\n",
    "dog_df['outcome_type'].value_counts()"
   ]
  },
  {
   "cell_type": "code",
   "execution_count": 258,
   "metadata": {},
   "outputs": [
    {
     "data": {
      "text/plain": [
       "1    11329\n",
       "0    10172\n",
       "Name: gender_weights, dtype: int64"
      ]
     },
     "execution_count": 258,
     "metadata": {},
     "output_type": "execute_result"
    }
   ],
   "source": [
    "#gender list\n",
    "gender = set(dog_df['gender'].array)\n",
    "gender_list = list(gender)\n",
    "gender_list\n",
    "\n",
    "#create gender weights\n",
    "dog_df['gender_weights'] = dog_df['gender'].apply(lambda gender: gender_list.index(gender))\n",
    "dog_df.head()\n",
    "dog_df['gender_weights'].value_counts()"
   ]
  },
  {
   "cell_type": "code",
   "execution_count": 259,
   "metadata": {},
   "outputs": [
    {
     "data": {
      "text/plain": [
       "Fixed     16938\n",
       "Intact     4563\n",
       "Name: neutered_intact_spayed, dtype: int64"
      ]
     },
     "execution_count": 259,
     "metadata": {},
     "output_type": "execute_result"
    }
   ],
   "source": [
    "#clean outcome column\n",
    "neuter = {'Spayed': 'Fixed',\n",
    "         'Neutered': 'Fixed'}\n",
    "\n",
    "dog_df['neutered_intact_spayed'] = dog_df['neutered_intact_spayed'].replace(neuter)\n",
    "dog_df['neutered_intact_spayed'].value_counts()"
   ]
  },
  {
   "cell_type": "code",
   "execution_count": 260,
   "metadata": {},
   "outputs": [
    {
     "data": {
      "text/plain": [
       "1    16938\n",
       "0     4563\n",
       "Name: fixed_weights, dtype: int64"
      ]
     },
     "execution_count": 260,
     "metadata": {},
     "output_type": "execute_result"
    }
   ],
   "source": [
    "#neutered list\n",
    "neuter = set(dog_df['neutered_intact_spayed'].array)\n",
    "neuter_list = list(neuter)\n",
    "neuter_list\n",
    "\n",
    "#create gender weights\n",
    "dog_df['fixed_weights'] = dog_df['neutered_intact_spayed'].apply(lambda neuter: neuter_list.index(neuter))\n",
    "dog_df.head()\n",
    "dog_df['fixed_weights'].value_counts()"
   ]
  },
  {
   "cell_type": "code",
   "execution_count": 261,
   "metadata": {},
   "outputs": [
    {
     "data": {
      "text/html": [
       "<div>\n",
       "<style scoped>\n",
       "    .dataframe tbody tr th:only-of-type {\n",
       "        vertical-align: middle;\n",
       "    }\n",
       "\n",
       "    .dataframe tbody tr th {\n",
       "        vertical-align: top;\n",
       "    }\n",
       "\n",
       "    .dataframe thead th {\n",
       "        text-align: right;\n",
       "    }\n",
       "</style>\n",
       "<table border=\"1\" class=\"dataframe\">\n",
       "  <thead>\n",
       "    <tr style=\"text-align: right;\">\n",
       "      <th></th>\n",
       "      <th>breed</th>\n",
       "      <th>color</th>\n",
       "      <th>outcome_type</th>\n",
       "      <th>age_months</th>\n",
       "      <th>gender</th>\n",
       "      <th>neutered_intact_spayed</th>\n",
       "      <th>color_weights</th>\n",
       "      <th>breed_weights</th>\n",
       "      <th>outcome_weights</th>\n",
       "      <th>gender_weights</th>\n",
       "      <th>fixed_weights</th>\n",
       "    </tr>\n",
       "  </thead>\n",
       "  <tbody>\n",
       "    <tr>\n",
       "      <td>7</td>\n",
       "      <td>Chihuahua Shorthair Mix</td>\n",
       "      <td>Brown</td>\n",
       "      <td>Transfer</td>\n",
       "      <td>36.501776</td>\n",
       "      <td>Female</td>\n",
       "      <td>Fixed</td>\n",
       "      <td>17</td>\n",
       "      <td>7</td>\n",
       "      <td>2</td>\n",
       "      <td>0</td>\n",
       "      <td>1</td>\n",
       "    </tr>\n",
       "    <tr>\n",
       "      <td>14</td>\n",
       "      <td>Labrador Retriever Mix</td>\n",
       "      <td>Black</td>\n",
       "      <td>Adoption/Return to Owner</td>\n",
       "      <td>96.264810</td>\n",
       "      <td>Male</td>\n",
       "      <td>Fixed</td>\n",
       "      <td>15</td>\n",
       "      <td>2</td>\n",
       "      <td>1</td>\n",
       "      <td>1</td>\n",
       "      <td>1</td>\n",
       "    </tr>\n",
       "    <tr>\n",
       "      <td>16</td>\n",
       "      <td>Pit Bull Mix</td>\n",
       "      <td>Brown Mix</td>\n",
       "      <td>Transfer</td>\n",
       "      <td>13.174809</td>\n",
       "      <td>Male</td>\n",
       "      <td>Fixed</td>\n",
       "      <td>12</td>\n",
       "      <td>1</td>\n",
       "      <td>2</td>\n",
       "      <td>1</td>\n",
       "      <td>1</td>\n",
       "    </tr>\n",
       "    <tr>\n",
       "      <td>27</td>\n",
       "      <td>Labrador Retriever Mix</td>\n",
       "      <td>Yellow</td>\n",
       "      <td>Adoption/Return to Owner</td>\n",
       "      <td>2.595536</td>\n",
       "      <td>Female</td>\n",
       "      <td>Fixed</td>\n",
       "      <td>13</td>\n",
       "      <td>2</td>\n",
       "      <td>1</td>\n",
       "      <td>0</td>\n",
       "      <td>1</td>\n",
       "    </tr>\n",
       "    <tr>\n",
       "      <td>28</td>\n",
       "      <td>Chihuahua Shorthair Mix</td>\n",
       "      <td>Blue Mix</td>\n",
       "      <td>Transfer</td>\n",
       "      <td>4.599684</td>\n",
       "      <td>Female</td>\n",
       "      <td>Intact</td>\n",
       "      <td>14</td>\n",
       "      <td>7</td>\n",
       "      <td>2</td>\n",
       "      <td>0</td>\n",
       "      <td>0</td>\n",
       "    </tr>\n",
       "  </tbody>\n",
       "</table>\n",
       "</div>"
      ],
      "text/plain": [
       "                      breed      color              outcome_type  age_months  \\\n",
       "7   Chihuahua Shorthair Mix      Brown                  Transfer   36.501776   \n",
       "14   Labrador Retriever Mix      Black  Adoption/Return to Owner   96.264810   \n",
       "16             Pit Bull Mix  Brown Mix                  Transfer   13.174809   \n",
       "27   Labrador Retriever Mix     Yellow  Adoption/Return to Owner    2.595536   \n",
       "28  Chihuahua Shorthair Mix   Blue Mix                  Transfer    4.599684   \n",
       "\n",
       "    gender neutered_intact_spayed  color_weights  breed_weights  \\\n",
       "7   Female                  Fixed             17              7   \n",
       "14    Male                  Fixed             15              2   \n",
       "16    Male                  Fixed             12              1   \n",
       "27  Female                  Fixed             13              2   \n",
       "28  Female                 Intact             14              7   \n",
       "\n",
       "    outcome_weights  gender_weights  fixed_weights  \n",
       "7                 2               0              1  \n",
       "14                1               1              1  \n",
       "16                2               1              1  \n",
       "27                1               0              1  \n",
       "28                2               0              0  "
      ]
     },
     "execution_count": 261,
     "metadata": {},
     "output_type": "execute_result"
    }
   ],
   "source": [
    "dog_df.head()"
   ]
  },
  {
   "cell_type": "code",
   "execution_count": 262,
   "metadata": {},
   "outputs": [
    {
     "data": {
      "text/plain": [
       "Index(['breed', 'color', 'outcome_type', 'age_months', 'gender',\n",
       "       'neutered_intact_spayed', 'color_weights', 'breed_weights',\n",
       "       'outcome_weights', 'gender_weights', 'fixed_weights'],\n",
       "      dtype='object')"
      ]
     },
     "execution_count": 262,
     "metadata": {},
     "output_type": "execute_result"
    }
   ],
   "source": [
    "dog_df.columns"
   ]
  },
  {
   "cell_type": "code",
   "execution_count": 264,
   "metadata": {},
   "outputs": [
    {
     "data": {
      "text/html": [
       "<div>\n",
       "<style scoped>\n",
       "    .dataframe tbody tr th:only-of-type {\n",
       "        vertical-align: middle;\n",
       "    }\n",
       "\n",
       "    .dataframe tbody tr th {\n",
       "        vertical-align: top;\n",
       "    }\n",
       "\n",
       "    .dataframe thead th {\n",
       "        text-align: right;\n",
       "    }\n",
       "</style>\n",
       "<table border=\"1\" class=\"dataframe\">\n",
       "  <thead>\n",
       "    <tr style=\"text-align: right;\">\n",
       "      <th></th>\n",
       "      <th>outcome_weights</th>\n",
       "      <th>age_months</th>\n",
       "      <th>color</th>\n",
       "      <th>color_weights</th>\n",
       "      <th>breed_weights</th>\n",
       "      <th>gender_weights</th>\n",
       "      <th>fixed_weights</th>\n",
       "      <th>gender</th>\n",
       "      <th>breed</th>\n",
       "      <th>neutered_intact_spayed</th>\n",
       "    </tr>\n",
       "  </thead>\n",
       "  <tbody>\n",
       "  </tbody>\n",
       "</table>\n",
       "</div>"
      ],
      "text/plain": [
       "Empty DataFrame\n",
       "Columns: [outcome_weights, age_months, color, color_weights, breed_weights, gender_weights, fixed_weights, gender, breed, neutered_intact_spayed]\n",
       "Index: []"
      ]
     },
     "execution_count": 264,
     "metadata": {},
     "output_type": "execute_result"
    }
   ],
   "source": [
    "test_df = dog_df[['outcome_weights','age_months','color','color_weights', 'breed_weights', \n",
    "                       'gender_weights', 'fixed_weights','gender', 'breed', 'neutered_intact_spayed']]\n",
    "test_df[test_df['fixed_weights']==2]"
   ]
  },
  {
   "cell_type": "markdown",
   "metadata": {},
   "source": [
    "## Final Dog Dataframe"
   ]
  },
  {
   "cell_type": "code",
   "execution_count": 265,
   "metadata": {},
   "outputs": [],
   "source": [
    "final_dog_df = dog_df[['outcome_weights','age_months','color_weights', 'breed_weights', \n",
    "                       'gender_weights', 'fixed_weights']]"
   ]
  },
  {
   "cell_type": "code",
   "execution_count": 266,
   "metadata": {},
   "outputs": [
    {
     "data": {
      "text/html": [
       "<div>\n",
       "<style scoped>\n",
       "    .dataframe tbody tr th:only-of-type {\n",
       "        vertical-align: middle;\n",
       "    }\n",
       "\n",
       "    .dataframe tbody tr th {\n",
       "        vertical-align: top;\n",
       "    }\n",
       "\n",
       "    .dataframe thead th {\n",
       "        text-align: right;\n",
       "    }\n",
       "</style>\n",
       "<table border=\"1\" class=\"dataframe\">\n",
       "  <thead>\n",
       "    <tr style=\"text-align: right;\">\n",
       "      <th></th>\n",
       "      <th>outcome_weights</th>\n",
       "      <th>age_months</th>\n",
       "      <th>color_weights</th>\n",
       "      <th>breed_weights</th>\n",
       "      <th>gender_weights</th>\n",
       "      <th>fixed_weights</th>\n",
       "    </tr>\n",
       "  </thead>\n",
       "  <tbody>\n",
       "    <tr>\n",
       "      <td>7</td>\n",
       "      <td>2</td>\n",
       "      <td>36.501776</td>\n",
       "      <td>17</td>\n",
       "      <td>7</td>\n",
       "      <td>0</td>\n",
       "      <td>1</td>\n",
       "    </tr>\n",
       "    <tr>\n",
       "      <td>14</td>\n",
       "      <td>1</td>\n",
       "      <td>96.264810</td>\n",
       "      <td>15</td>\n",
       "      <td>2</td>\n",
       "      <td>1</td>\n",
       "      <td>1</td>\n",
       "    </tr>\n",
       "    <tr>\n",
       "      <td>16</td>\n",
       "      <td>2</td>\n",
       "      <td>13.174809</td>\n",
       "      <td>12</td>\n",
       "      <td>1</td>\n",
       "      <td>1</td>\n",
       "      <td>1</td>\n",
       "    </tr>\n",
       "    <tr>\n",
       "      <td>27</td>\n",
       "      <td>1</td>\n",
       "      <td>2.595536</td>\n",
       "      <td>13</td>\n",
       "      <td>2</td>\n",
       "      <td>0</td>\n",
       "      <td>1</td>\n",
       "    </tr>\n",
       "    <tr>\n",
       "      <td>28</td>\n",
       "      <td>2</td>\n",
       "      <td>4.599684</td>\n",
       "      <td>14</td>\n",
       "      <td>7</td>\n",
       "      <td>0</td>\n",
       "      <td>0</td>\n",
       "    </tr>\n",
       "  </tbody>\n",
       "</table>\n",
       "</div>"
      ],
      "text/plain": [
       "    outcome_weights  age_months  color_weights  breed_weights  gender_weights  \\\n",
       "7                 2   36.501776             17              7               0   \n",
       "14                1   96.264810             15              2               1   \n",
       "16                2   13.174809             12              1               1   \n",
       "27                1    2.595536             13              2               0   \n",
       "28                2    4.599684             14              7               0   \n",
       "\n",
       "    fixed_weights  \n",
       "7               1  \n",
       "14              1  \n",
       "16              1  \n",
       "27              1  \n",
       "28              0  "
      ]
     },
     "execution_count": 266,
     "metadata": {},
     "output_type": "execute_result"
    }
   ],
   "source": [
    "final_dog_df.head()"
   ]
  },
  {
   "cell_type": "code",
   "execution_count": 267,
   "metadata": {},
   "outputs": [
    {
     "name": "stderr",
     "output_type": "stream",
     "text": [
      "/Users/meganl/opt/anaconda3/lib/python3.7/site-packages/ipykernel_launcher.py:1: SettingWithCopyWarning: \n",
      "A value is trying to be set on a copy of a slice from a DataFrame.\n",
      "Try using .loc[row_indexer,col_indexer] = value instead\n",
      "\n",
      "See the caveats in the documentation: http://pandas.pydata.org/pandas-docs/stable/user_guide/indexing.html#returning-a-view-versus-a-copy\n",
      "  \"\"\"Entry point for launching an IPython kernel.\n",
      "/Users/meganl/opt/anaconda3/lib/python3.7/site-packages/ipykernel_launcher.py:2: SettingWithCopyWarning: \n",
      "A value is trying to be set on a copy of a slice from a DataFrame.\n",
      "Try using .loc[row_indexer,col_indexer] = value instead\n",
      "\n",
      "See the caveats in the documentation: http://pandas.pydata.org/pandas-docs/stable/user_guide/indexing.html#returning-a-view-versus-a-copy\n",
      "  \n",
      "/Users/meganl/opt/anaconda3/lib/python3.7/site-packages/ipykernel_launcher.py:3: SettingWithCopyWarning: \n",
      "A value is trying to be set on a copy of a slice from a DataFrame.\n",
      "Try using .loc[row_indexer,col_indexer] = value instead\n",
      "\n",
      "See the caveats in the documentation: http://pandas.pydata.org/pandas-docs/stable/user_guide/indexing.html#returning-a-view-versus-a-copy\n",
      "  This is separate from the ipykernel package so we can avoid doing imports until\n",
      "/Users/meganl/opt/anaconda3/lib/python3.7/site-packages/ipykernel_launcher.py:4: SettingWithCopyWarning: \n",
      "A value is trying to be set on a copy of a slice from a DataFrame.\n",
      "Try using .loc[row_indexer,col_indexer] = value instead\n",
      "\n",
      "See the caveats in the documentation: http://pandas.pydata.org/pandas-docs/stable/user_guide/indexing.html#returning-a-view-versus-a-copy\n",
      "  after removing the cwd from sys.path.\n",
      "/Users/meganl/opt/anaconda3/lib/python3.7/site-packages/ipykernel_launcher.py:5: SettingWithCopyWarning: \n",
      "A value is trying to be set on a copy of a slice from a DataFrame.\n",
      "Try using .loc[row_indexer,col_indexer] = value instead\n",
      "\n",
      "See the caveats in the documentation: http://pandas.pydata.org/pandas-docs/stable/user_guide/indexing.html#returning-a-view-versus-a-copy\n",
      "  \"\"\"\n"
     ]
    }
   ],
   "source": [
    "final_dog_df['outcome_weights'] = final_dog_df['outcome_weights'] + 1\n",
    "final_dog_df['color_weights'] = final_dog_df['color_weights'] + 1\n",
    "final_dog_df['breed_weights'] = final_dog_df['breed_weights'] + 1\n",
    "final_dog_df['gender_weights'] = final_dog_df['gender_weights'] + 1\n",
    "final_dog_df['fixed_weights'] = final_dog_df['fixed_weights'] + 1"
   ]
  },
  {
   "cell_type": "code",
   "execution_count": 268,
   "metadata": {},
   "outputs": [],
   "source": [
    "#convert dataframe to csv file\n",
    "final_dog_df.to_csv('final_data.csv', index=False)"
   ]
  },
  {
   "cell_type": "markdown",
   "metadata": {},
   "source": [
    "## ML"
   ]
  },
  {
   "cell_type": "code",
   "execution_count": 269,
   "metadata": {},
   "outputs": [
    {
     "data": {
      "text/html": [
       "<div>\n",
       "<style scoped>\n",
       "    .dataframe tbody tr th:only-of-type {\n",
       "        vertical-align: middle;\n",
       "    }\n",
       "\n",
       "    .dataframe tbody tr th {\n",
       "        vertical-align: top;\n",
       "    }\n",
       "\n",
       "    .dataframe thead th {\n",
       "        text-align: right;\n",
       "    }\n",
       "</style>\n",
       "<table border=\"1\" class=\"dataframe\">\n",
       "  <thead>\n",
       "    <tr style=\"text-align: right;\">\n",
       "      <th></th>\n",
       "      <th>age_months</th>\n",
       "      <th>color_weights</th>\n",
       "      <th>breed_weights</th>\n",
       "      <th>gender_weights</th>\n",
       "      <th>fixed_weights</th>\n",
       "    </tr>\n",
       "  </thead>\n",
       "  <tbody>\n",
       "    <tr>\n",
       "      <td>7</td>\n",
       "      <td>36.501776</td>\n",
       "      <td>18</td>\n",
       "      <td>8</td>\n",
       "      <td>1</td>\n",
       "      <td>2</td>\n",
       "    </tr>\n",
       "    <tr>\n",
       "      <td>14</td>\n",
       "      <td>96.264810</td>\n",
       "      <td>16</td>\n",
       "      <td>3</td>\n",
       "      <td>2</td>\n",
       "      <td>2</td>\n",
       "    </tr>\n",
       "    <tr>\n",
       "      <td>16</td>\n",
       "      <td>13.174809</td>\n",
       "      <td>13</td>\n",
       "      <td>2</td>\n",
       "      <td>2</td>\n",
       "      <td>2</td>\n",
       "    </tr>\n",
       "    <tr>\n",
       "      <td>27</td>\n",
       "      <td>2.595536</td>\n",
       "      <td>14</td>\n",
       "      <td>3</td>\n",
       "      <td>1</td>\n",
       "      <td>2</td>\n",
       "    </tr>\n",
       "    <tr>\n",
       "      <td>28</td>\n",
       "      <td>4.599684</td>\n",
       "      <td>15</td>\n",
       "      <td>8</td>\n",
       "      <td>1</td>\n",
       "      <td>1</td>\n",
       "    </tr>\n",
       "    <tr>\n",
       "      <td>...</td>\n",
       "      <td>...</td>\n",
       "      <td>...</td>\n",
       "      <td>...</td>\n",
       "      <td>...</td>\n",
       "      <td>...</td>\n",
       "    </tr>\n",
       "    <tr>\n",
       "      <td>78246</td>\n",
       "      <td>26.612456</td>\n",
       "      <td>20</td>\n",
       "      <td>8</td>\n",
       "      <td>2</td>\n",
       "      <td>2</td>\n",
       "    </tr>\n",
       "    <tr>\n",
       "      <td>78247</td>\n",
       "      <td>27.039570</td>\n",
       "      <td>20</td>\n",
       "      <td>1</td>\n",
       "      <td>1</td>\n",
       "      <td>2</td>\n",
       "    </tr>\n",
       "    <tr>\n",
       "      <td>78248</td>\n",
       "      <td>23.951210</td>\n",
       "      <td>12</td>\n",
       "      <td>4</td>\n",
       "      <td>1</td>\n",
       "      <td>1</td>\n",
       "    </tr>\n",
       "    <tr>\n",
       "      <td>78249</td>\n",
       "      <td>27.039570</td>\n",
       "      <td>20</td>\n",
       "      <td>1</td>\n",
       "      <td>2</td>\n",
       "      <td>2</td>\n",
       "    </tr>\n",
       "    <tr>\n",
       "      <td>78255</td>\n",
       "      <td>2.628391</td>\n",
       "      <td>4</td>\n",
       "      <td>3</td>\n",
       "      <td>2</td>\n",
       "      <td>2</td>\n",
       "    </tr>\n",
       "  </tbody>\n",
       "</table>\n",
       "<p>21501 rows × 5 columns</p>\n",
       "</div>"
      ],
      "text/plain": [
       "       age_months  color_weights  breed_weights  gender_weights  fixed_weights\n",
       "7       36.501776             18              8               1              2\n",
       "14      96.264810             16              3               2              2\n",
       "16      13.174809             13              2               2              2\n",
       "27       2.595536             14              3               1              2\n",
       "28       4.599684             15              8               1              1\n",
       "...           ...            ...            ...             ...            ...\n",
       "78246   26.612456             20              8               2              2\n",
       "78247   27.039570             20              1               1              2\n",
       "78248   23.951210             12              4               1              1\n",
       "78249   27.039570             20              1               2              2\n",
       "78255    2.628391              4              3               2              2\n",
       "\n",
       "[21501 rows x 5 columns]"
      ]
     },
     "execution_count": 269,
     "metadata": {},
     "output_type": "execute_result"
    }
   ],
   "source": [
    "feature_names = [\"age_months\", 'color_weights', 'breed_weights', 'gender_weights', 'fixed_weights']\n",
    "X = final_dog_df[feature_names]\n",
    "y = final_dog_df['outcome_weights']\n",
    "X"
   ]
  },
  {
   "cell_type": "code",
   "execution_count": 270,
   "metadata": {},
   "outputs": [
    {
     "data": {
      "text/html": [
       "<div>\n",
       "<style scoped>\n",
       "    .dataframe tbody tr th:only-of-type {\n",
       "        vertical-align: middle;\n",
       "    }\n",
       "\n",
       "    .dataframe tbody tr th {\n",
       "        vertical-align: top;\n",
       "    }\n",
       "\n",
       "    .dataframe thead th {\n",
       "        text-align: right;\n",
       "    }\n",
       "</style>\n",
       "<table border=\"1\" class=\"dataframe\">\n",
       "  <thead>\n",
       "    <tr style=\"text-align: right;\">\n",
       "      <th></th>\n",
       "      <th>outcome_weights</th>\n",
       "      <th>age_months</th>\n",
       "      <th>color_weights</th>\n",
       "      <th>breed_weights</th>\n",
       "      <th>gender_weights</th>\n",
       "      <th>fixed_weights</th>\n",
       "    </tr>\n",
       "  </thead>\n",
       "  <tbody>\n",
       "    <tr>\n",
       "      <td>7</td>\n",
       "      <td>3</td>\n",
       "      <td>36.501776</td>\n",
       "      <td>18</td>\n",
       "      <td>8</td>\n",
       "      <td>1</td>\n",
       "      <td>2</td>\n",
       "    </tr>\n",
       "    <tr>\n",
       "      <td>14</td>\n",
       "      <td>2</td>\n",
       "      <td>96.264810</td>\n",
       "      <td>16</td>\n",
       "      <td>3</td>\n",
       "      <td>2</td>\n",
       "      <td>2</td>\n",
       "    </tr>\n",
       "    <tr>\n",
       "      <td>16</td>\n",
       "      <td>3</td>\n",
       "      <td>13.174809</td>\n",
       "      <td>13</td>\n",
       "      <td>2</td>\n",
       "      <td>2</td>\n",
       "      <td>2</td>\n",
       "    </tr>\n",
       "    <tr>\n",
       "      <td>27</td>\n",
       "      <td>2</td>\n",
       "      <td>2.595536</td>\n",
       "      <td>14</td>\n",
       "      <td>3</td>\n",
       "      <td>1</td>\n",
       "      <td>2</td>\n",
       "    </tr>\n",
       "    <tr>\n",
       "      <td>28</td>\n",
       "      <td>3</td>\n",
       "      <td>4.599684</td>\n",
       "      <td>15</td>\n",
       "      <td>8</td>\n",
       "      <td>1</td>\n",
       "      <td>1</td>\n",
       "    </tr>\n",
       "  </tbody>\n",
       "</table>\n",
       "</div>"
      ],
      "text/plain": [
       "    outcome_weights  age_months  color_weights  breed_weights  gender_weights  \\\n",
       "7                 3   36.501776             18              8               1   \n",
       "14                2   96.264810             16              3               2   \n",
       "16                3   13.174809             13              2               2   \n",
       "27                2    2.595536             14              3               1   \n",
       "28                3    4.599684             15              8               1   \n",
       "\n",
       "    fixed_weights  \n",
       "7               2  \n",
       "14              2  \n",
       "16              2  \n",
       "27              2  \n",
       "28              1  "
      ]
     },
     "execution_count": 270,
     "metadata": {},
     "output_type": "execute_result"
    }
   ],
   "source": [
    "final_dog_df.head()"
   ]
  },
  {
   "cell_type": "markdown",
   "metadata": {},
   "source": [
    "## Creating training and test sets"
   ]
  },
  {
   "cell_type": "code",
   "execution_count": 271,
   "metadata": {},
   "outputs": [],
   "source": [
    "from sklearn.model_selection import train_test_split\n",
    "\n",
    "X_train, X_test, y_train, y_test = train_test_split(X, y, random_state=0)"
   ]
  },
  {
   "cell_type": "markdown",
   "metadata": {},
   "source": [
    "## Applying Scaling"
   ]
  },
  {
   "cell_type": "code",
   "execution_count": 272,
   "metadata": {},
   "outputs": [],
   "source": [
    "from sklearn.preprocessing import MinMaxScaler\n",
    "scaler = MinMaxScaler()\n",
    "\n",
    "X_train_scaled = scaler.fit_transform(X_train)\n",
    "X_test_scaled = scaler.transform(X_test)"
   ]
  },
  {
   "cell_type": "markdown",
   "metadata": {},
   "source": [
    "## Build Models"
   ]
  },
  {
   "cell_type": "code",
   "execution_count": 273,
   "metadata": {},
   "outputs": [
    {
     "name": "stdout",
     "output_type": "stream",
     "text": [
      "Accuracy of logistic regression on training 0.7701705426356589\n",
      "Accuracy of logistic regression on testing 0.7771577380952381\n"
     ]
    },
    {
     "name": "stderr",
     "output_type": "stream",
     "text": [
      "/Users/meganl/opt/anaconda3/lib/python3.7/site-packages/sklearn/linear_model/logistic.py:432: FutureWarning: Default solver will be changed to 'lbfgs' in 0.22. Specify a solver to silence this warning.\n",
      "  FutureWarning)\n",
      "/Users/meganl/opt/anaconda3/lib/python3.7/site-packages/sklearn/linear_model/logistic.py:469: FutureWarning: Default multi_class will be changed to 'auto' in 0.22. Specify the multi_class option to silence this warning.\n",
      "  \"this warning.\", FutureWarning)\n"
     ]
    }
   ],
   "source": [
    "## Logistic Regression\n",
    "from sklearn.linear_model import LogisticRegression\n",
    "logreg = LogisticRegression()\n",
    "logreg.fit(X_train_scaled, y_train)\n",
    "\n",
    "print('Accuracy of logistic regression on training', logreg.score(X_train_scaled, y_train))\n",
    "print('Accuracy of logistic regression on testing', logreg.score(X_test_scaled, y_test))"
   ]
  },
  {
   "cell_type": "code",
   "execution_count": 274,
   "metadata": {},
   "outputs": [
    {
     "name": "stdout",
     "output_type": "stream",
     "text": [
      "Accuracy of Decision tree on training 0.9716589147286822\n",
      "Accuracy of Decision tree on testing 0.6971726190476191\n"
     ]
    }
   ],
   "source": [
    "## Decision Tree\n",
    "from sklearn.tree import DecisionTreeClassifier\n",
    "dt = DecisionTreeClassifier()\n",
    "dt.fit(X_train_scaled, y_train)\n",
    "\n",
    "print('Accuracy of Decision tree on training', dt.score(X_train_scaled, y_train))\n",
    "print('Accuracy of Decision tree on testing', dt.score(X_test_scaled, y_test))"
   ]
  },
  {
   "cell_type": "code",
   "execution_count": 280,
   "metadata": {},
   "outputs": [
    {
     "name": "stdout",
     "output_type": "stream",
     "text": [
      "Accuracy of Decision tree on training 0.7950387596899224\n",
      "Accuracy of Decision tree on testing 0.7937127976190477\n"
     ]
    }
   ],
   "source": [
    "# Setting max decision tree depth to help avoid overfitting\n",
    "# for num in range(1,15):\n",
    "dt2 = DecisionTreeClassifier(max_depth=7)\n",
    "dt2.fit(X_train_scaled, y_train)\n",
    "# print(f'{num}')\n",
    "print('Accuracy of Decision tree on training', dt2.score(X_train_scaled, y_train))\n",
    "print('Accuracy of Decision tree on testing', dt2.score(X_test_scaled, y_test))\n",
    "    \n",
    "#7 branches"
   ]
  },
  {
   "cell_type": "code",
   "execution_count": 276,
   "metadata": {},
   "outputs": [
    {
     "name": "stdout",
     "output_type": "stream",
     "text": [
      "k =  1\n",
      "Accuracy of Knn on training 0.9673798449612403\n",
      "Accuracy of Knn on testing 0.6906622023809523\n",
      "k =  2\n",
      "Accuracy of Knn on training 0.8393178294573643\n",
      "Accuracy of Knn on testing 0.7146577380952381\n",
      "k =  3\n",
      "Accuracy of Knn on training 0.8328682170542636\n",
      "Accuracy of Knn on testing 0.7209821428571429\n",
      "k =  4\n",
      "Accuracy of Knn on training 0.8132713178294574\n",
      "Accuracy of Knn on testing 0.75390625\n",
      "k =  5\n",
      "Accuracy of Knn on training 0.8068837209302325\n",
      "Accuracy of Knn on testing 0.7540922619047619\n",
      "k =  6\n",
      "Accuracy of Knn on training 0.8014883720930233\n",
      "Accuracy of Knn on testing 0.7632068452380952\n",
      "k =  7\n",
      "Accuracy of Knn on training 0.7988217054263566\n",
      "Accuracy of Knn on testing 0.7667410714285714\n",
      "k =  8\n",
      "Accuracy of Knn on training 0.7932403100775194\n",
      "Accuracy of Knn on testing 0.7693452380952381\n",
      "k =  9\n",
      "Accuracy of Knn on training 0.7933643410852713\n",
      "Accuracy of Knn on testing 0.7680431547619048\n"
     ]
    }
   ],
   "source": [
    "# K-nearest neighbor \n",
    "from sklearn.neighbors import KNeighborsClassifier\n",
    "\n",
    "for k in range(1,10):\n",
    "    knn = KNeighborsClassifier(n_neighbors=k)\n",
    "    knn.fit(X_train_scaled, y_train)\n",
    "    print('k = ', k)\n",
    "    print('Accuracy of Knn on training', knn.score(X_train_scaled, y_train))\n",
    "    print('Accuracy of Knn on testing', knn.score(X_test_scaled, y_test))"
   ]
  },
  {
   "cell_type": "code",
   "execution_count": 281,
   "metadata": {},
   "outputs": [
    {
     "name": "stdout",
     "output_type": "stream",
     "text": [
      "Accuracy of Linear Discriminant on training 0.7540465116279069\n",
      "Accuracy of Linear Discriminant on testing 0.7646949404761905\n"
     ]
    }
   ],
   "source": [
    "# Linear Discriminant Analysis \n",
    "from sklearn.discriminant_analysis import LinearDiscriminantAnalysis\n",
    "lda = LinearDiscriminantAnalysis()\n",
    "lda.fit(X_train_scaled,y_train)\n",
    "print('Accuracy of Linear Discriminant on training', lda.score(X_train_scaled, y_train))\n",
    "print('Accuracy of Linear Discriminant on testing', lda.score(X_test_scaled, y_test))"
   ]
  },
  {
   "cell_type": "code",
   "execution_count": 282,
   "metadata": {},
   "outputs": [
    {
     "name": "stdout",
     "output_type": "stream",
     "text": [
      "Accuracy of GNB on training 0.7506976744186047\n",
      "Accuracy of GNB on testing 0.7606026785714286\n"
     ]
    }
   ],
   "source": [
    "# Gaussian Naive Bayes \n",
    "from sklearn.naive_bayes import GaussianNB\n",
    "gnb = GaussianNB()\n",
    "gnb.fit(X_train_scaled, y_train)\n",
    "print('Accuracy of GNB on training', gnb.score(X_train_scaled, y_train))\n",
    "print('Accuracy of GNB on testing', gnb.score(X_test_scaled, y_test))"
   ]
  },
  {
   "cell_type": "code",
   "execution_count": 283,
   "metadata": {},
   "outputs": [
    {
     "name": "stderr",
     "output_type": "stream",
     "text": [
      "/Users/meganl/opt/anaconda3/lib/python3.7/site-packages/sklearn/svm/base.py:193: FutureWarning: The default value of gamma will change from 'auto' to 'scale' in version 0.22 to account better for unscaled features. Set gamma explicitly to 'auto' or 'scale' to avoid this warning.\n",
      "  \"avoid this warning.\", FutureWarning)\n"
     ]
    },
    {
     "name": "stdout",
     "output_type": "stream",
     "text": [
      "Accuracy of SVM on training 0.7726511627906977\n",
      "Accuracy of SVM on testing 0.7816220238095238\n"
     ]
    }
   ],
   "source": [
    "# Support Vector Machine\n",
    "from sklearn.svm import SVC\n",
    "svm = SVC()\n",
    "svm.fit(X_train_scaled, y_train)\n",
    "print('Accuracy of SVM on training', svm.score(X_train_scaled, y_train))\n",
    "print('Accuracy of SVM on testing', svm.score(X_test_scaled, y_test))"
   ]
  },
  {
   "cell_type": "code",
   "execution_count": 284,
   "metadata": {},
   "outputs": [
    {
     "name": "stdout",
     "output_type": "stream",
     "text": [
      " Died/Euthanasia: 0 <br>\n",
      " Adoption/Return to Owner: 1 <br>\n",
      " Transfer: 2 <br>\n",
      " Missing: 3 <br>\n",
      " Border Collie Mix: 0 <br>\n",
      " Pit Bull Mix: 1 <br>\n",
      " Labrador Retriever Mix: 2 <br>\n",
      " German Shepherd Mix: 3 <br>\n",
      " Catahoula Mix: 4 <br>\n",
      " Boxer Mix: 5 <br>\n",
      " Australian Cattle Dog Mix: 6 <br>\n",
      " Chihuahua Shorthair Mix: 7 <br>\n",
      " Miniature Poodle Mix: 8 <br>\n",
      " Dachshund Mix: 9 <br>\n",
      " Female: 0 <br>\n",
      " Male: 1 <br>\n",
      " Intact: 0 <br>\n",
      " Fixed: 1 <br>\n"
     ]
    }
   ],
   "source": [
    "# \"age_months\", 'color_weights', 'breed_weights', 'gender_weights', 'neuter_weights'\n",
    "for i in outcome_list:\n",
    "#     print(i)\n",
    "    index_num = outcome_list.index(i)\n",
    "    print(f' {i}: {index_num} <br>')\n",
    "    \n",
    "for i in breed_list:\n",
    "#     print(i)\n",
    "    index_num = breed_list.index(i)\n",
    "    print(f' {i}: {index_num} <br>')\n",
    "    \n",
    "for i in gender_list:\n",
    "#     print(i)\n",
    "    index_num = gender_list.index(i)\n",
    "    print(f' {i}: {index_num} <br>')\n",
    "    \n",
    "for i in neuter_list:\n",
    "#     print(i)\n",
    "    index_num = neuter_list.index(i)\n",
    "    print(f' {i}: {index_num} <br>')\n",
    "    \n"
   ]
  },
  {
   "cell_type": "markdown",
   "metadata": {},
   "source": [
    "## Weight Legend\n",
    "\n",
    "<b> Outcome </b> <br>\n",
    " Died/Euthanasia: 1 <br>\n",
    " Adoption/Return to Owner: 2 <br>\n",
    " Transfer: 3 <br>\n",
    " Missing: 4 <br>\n",
    "\n",
    " \n",
    "<b> Breed </b> <br>\n",
    "Catahoula Mix: 1 <br>\n",
    " Dachshund Mix: 2 <br>\n",
    " Border Collie Mix: 3 <br>\n",
    " Pit Bull Mix: 4 <br>\n",
    " Boxer Mix: 5 <br>\n",
    " Miniature Poodle Mix: 6 <br>\n",
    " Australian Cattle Dog Mix: 7 <br>\n",
    " Labrador Retriever Mix: 8 <br>\n",
    " German Shepherd Mix: 9 <br>\n",
    " Chihuahua Shorthair Mix: 10 <br>\n",
    " \n",
    "<b> Gender </b> <br>\n",
    " Male: 1 <br>\n",
    " Female: 2 <br>\n",
    " \n",
    "<b> Neuter </b> <br>\n",
    " Neutered: 1 <br>\n",
    " Spayed: 2 <br>\n",
    " Intact: 3 <br>"
   ]
  },
  {
   "cell_type": "code",
   "execution_count": 285,
   "metadata": {},
   "outputs": [
    {
     "data": {
      "text/plain": [
       "array([[0.22409569, 0.78947368, 0.22222222, 1.        , 0.        ],\n",
       "       [0.06672431, 0.63157895, 0.22222222, 1.        , 0.        ],\n",
       "       [0.12393717, 0.15789474, 1.        , 0.        , 1.        ],\n",
       "       ...,\n",
       "       [0.0266609 , 0.63157895, 1.        , 0.        , 1.        ],\n",
       "       [0.06686842, 0.        , 0.55555556, 1.        , 1.        ],\n",
       "       [0.02939905, 0.63157895, 0.77777778, 1.        , 1.        ]])"
      ]
     },
     "execution_count": 285,
     "metadata": {},
     "output_type": "execute_result"
    }
   ],
   "source": [
    "X_train_scaled"
   ]
  },
  {
   "cell_type": "code",
   "execution_count": 286,
   "metadata": {},
   "outputs": [],
   "source": [
    "import pickle\n",
    "pickle.dump(dt2, open('model.pkl','wb'))"
   ]
  },
  {
   "cell_type": "code",
   "execution_count": 287,
   "metadata": {},
   "outputs": [
    {
     "name": "stdout",
     "output_type": "stream",
     "text": [
      "[2]\n"
     ]
    }
   ],
   "source": [
    "model = pickle.load( open('model.pkl','rb'))\n",
    "print(model.predict([[0.104842, 0.243, 0.03451, 0.4566, 1]]))"
   ]
  },
  {
   "cell_type": "code",
   "execution_count": 74,
   "metadata": {},
   "outputs": [
    {
     "data": {
      "text/plain": [
       "['Red Mix',\n",
       " 'Apricot',\n",
       " 'Apricot Mix',\n",
       " 'White Mix',\n",
       " 'Gray Mix',\n",
       " 'Yellow Mix',\n",
       " 'Tricolor',\n",
       " 'Gray',\n",
       " 'White',\n",
       " 'Tricolor Mix',\n",
       " 'Blue',\n",
       " 'Tan Mix',\n",
       " 'Brown Mix',\n",
       " 'Yellow',\n",
       " 'Blue Mix',\n",
       " 'Black',\n",
       " 'Tan',\n",
       " 'Brown',\n",
       " 'Red',\n",
       " 'Black Mix']"
      ]
     },
     "execution_count": 74,
     "metadata": {},
     "output_type": "execute_result"
    }
   ],
   "source": [
    "# feature_names = [\"age_months\", 'color_weights', 'breed_weights', 'gender_weights', 'neuter_weights']\n",
    "color_weights"
   ]
  },
  {
   "cell_type": "code",
   "execution_count": 82,
   "metadata": {},
   "outputs": [
    {
     "data": {
      "text/html": [
       "<div>\n",
       "<style scoped>\n",
       "    .dataframe tbody tr th:only-of-type {\n",
       "        vertical-align: middle;\n",
       "    }\n",
       "\n",
       "    .dataframe tbody tr th {\n",
       "        vertical-align: top;\n",
       "    }\n",
       "\n",
       "    .dataframe thead th {\n",
       "        text-align: right;\n",
       "    }\n",
       "</style>\n",
       "<table border=\"1\" class=\"dataframe\">\n",
       "  <thead>\n",
       "    <tr style=\"text-align: right;\">\n",
       "      <th></th>\n",
       "      <th>outcome_weights</th>\n",
       "      <th>age_months</th>\n",
       "      <th>color_weights</th>\n",
       "      <th>breed_weights</th>\n",
       "      <th>gender_weights</th>\n",
       "      <th>neuter_weights</th>\n",
       "    </tr>\n",
       "  </thead>\n",
       "  <tbody>\n",
       "    <tr>\n",
       "      <td>37</td>\n",
       "      <td>2</td>\n",
       "      <td>48.559519</td>\n",
       "      <td>1</td>\n",
       "      <td>8</td>\n",
       "      <td>1</td>\n",
       "      <td>3</td>\n",
       "    </tr>\n",
       "    <tr>\n",
       "      <td>109</td>\n",
       "      <td>2</td>\n",
       "      <td>57.956016</td>\n",
       "      <td>1</td>\n",
       "      <td>3</td>\n",
       "      <td>2</td>\n",
       "      <td>1</td>\n",
       "    </tr>\n",
       "    <tr>\n",
       "      <td>176</td>\n",
       "      <td>2</td>\n",
       "      <td>2.102713</td>\n",
       "      <td>1</td>\n",
       "      <td>7</td>\n",
       "      <td>1</td>\n",
       "      <td>2</td>\n",
       "    </tr>\n",
       "    <tr>\n",
       "      <td>181</td>\n",
       "      <td>3</td>\n",
       "      <td>49.906569</td>\n",
       "      <td>1</td>\n",
       "      <td>2</td>\n",
       "      <td>2</td>\n",
       "      <td>1</td>\n",
       "    </tr>\n",
       "    <tr>\n",
       "      <td>203</td>\n",
       "      <td>2</td>\n",
       "      <td>30.160784</td>\n",
       "      <td>1</td>\n",
       "      <td>7</td>\n",
       "      <td>1</td>\n",
       "      <td>3</td>\n",
       "    </tr>\n",
       "    <tr>\n",
       "      <td>...</td>\n",
       "      <td>...</td>\n",
       "      <td>...</td>\n",
       "      <td>...</td>\n",
       "      <td>...</td>\n",
       "      <td>...</td>\n",
       "      <td>...</td>\n",
       "    </tr>\n",
       "    <tr>\n",
       "      <td>77534</td>\n",
       "      <td>2</td>\n",
       "      <td>80.428756</td>\n",
       "      <td>1</td>\n",
       "      <td>6</td>\n",
       "      <td>1</td>\n",
       "      <td>3</td>\n",
       "    </tr>\n",
       "    <tr>\n",
       "      <td>77804</td>\n",
       "      <td>2</td>\n",
       "      <td>192.003943</td>\n",
       "      <td>1</td>\n",
       "      <td>2</td>\n",
       "      <td>2</td>\n",
       "      <td>1</td>\n",
       "    </tr>\n",
       "    <tr>\n",
       "      <td>77959</td>\n",
       "      <td>2</td>\n",
       "      <td>10.349288</td>\n",
       "      <td>1</td>\n",
       "      <td>2</td>\n",
       "      <td>2</td>\n",
       "      <td>1</td>\n",
       "    </tr>\n",
       "    <tr>\n",
       "      <td>77980</td>\n",
       "      <td>2</td>\n",
       "      <td>6.308138</td>\n",
       "      <td>1</td>\n",
       "      <td>7</td>\n",
       "      <td>2</td>\n",
       "      <td>1</td>\n",
       "    </tr>\n",
       "    <tr>\n",
       "      <td>78240</td>\n",
       "      <td>2</td>\n",
       "      <td>28.222345</td>\n",
       "      <td>1</td>\n",
       "      <td>6</td>\n",
       "      <td>2</td>\n",
       "      <td>1</td>\n",
       "    </tr>\n",
       "  </tbody>\n",
       "</table>\n",
       "<p>519 rows × 6 columns</p>\n",
       "</div>"
      ],
      "text/plain": [
       "       outcome_weights  age_months  color_weights  breed_weights  \\\n",
       "37                   2   48.559519              1              8   \n",
       "109                  2   57.956016              1              3   \n",
       "176                  2    2.102713              1              7   \n",
       "181                  3   49.906569              1              2   \n",
       "203                  2   30.160784              1              7   \n",
       "...                ...         ...            ...            ...   \n",
       "77534                2   80.428756              1              6   \n",
       "77804                2  192.003943              1              2   \n",
       "77959                2   10.349288              1              2   \n",
       "77980                2    6.308138              1              7   \n",
       "78240                2   28.222345              1              6   \n",
       "\n",
       "       gender_weights  neuter_weights  \n",
       "37                  1               3  \n",
       "109                 2               1  \n",
       "176                 1               2  \n",
       "181                 2               1  \n",
       "203                 1               3  \n",
       "...               ...             ...  \n",
       "77534               1               3  \n",
       "77804               2               1  \n",
       "77959               2               1  \n",
       "77980               2               1  \n",
       "78240               2               1  \n",
       "\n",
       "[519 rows x 6 columns]"
      ]
     },
     "execution_count": 82,
     "metadata": {},
     "output_type": "execute_result"
    }
   ],
   "source": [
    "final_dog_df[final_dog_df['color_weights']==1]"
   ]
  },
  {
   "cell_type": "code",
   "execution_count": null,
   "metadata": {},
   "outputs": [],
   "source": []
  }
 ],
 "metadata": {
  "kernelspec": {
   "display_name": "Python 3",
   "language": "python",
   "name": "python3"
  },
  "language_info": {
   "codemirror_mode": {
    "name": "ipython",
    "version": 3
   },
   "file_extension": ".py",
   "mimetype": "text/x-python",
   "name": "python",
   "nbconvert_exporter": "python",
   "pygments_lexer": "ipython3",
   "version": "3.7.4"
  }
 },
 "nbformat": 4,
 "nbformat_minor": 2
}
